{
 "cells": [
  {
   "cell_type": "markdown",
   "metadata": {},
   "source": [
    "# ***Amazon Review sentiment analysis***"
   ]
  },
  {
   "cell_type": "code",
   "execution_count": 1,
   "metadata": {},
   "outputs": [],
   "source": [
    "from tkinter import Grid\n",
    "import pandas as pd\n",
    "import numpy as np\n",
    "import matplotlib.pyplot as plt\n",
    "import seaborn as sns \n",
    "import os\n",
    "import scipy\n",
    "import warnings \n",
    "warnings.filterwarnings(\"ignore\")\n",
    "import pickle\n",
    "import re\n",
    "sns.set_theme(style='whitegrid')"
   ]
  },
  {
   "cell_type": "code",
   "execution_count": 82,
   "metadata": {},
   "outputs": [],
   "source": [
    "# Reading dataset using pickle\n",
    "with open (r'C:\\Users\\91959\\Amazon_reviews_sentiment_analysis\\Dataset\\raw_data.pickle','rb') as f: raw_data = pickle.load(f)"
   ]
  },
  {
   "cell_type": "markdown",
   "metadata": {},
   "source": [
    "***Feature Names and their Explanation***\n",
    "\n",
    "- reviewerID - ID of the reviewer, e.g. A2SUAM1J3GNN3B\n",
    "- asin - ID of the product, e.g. 0000013714\n",
    "- reviewerName - name of the reviewer\n",
    "- vote - helpful votes of the review\n",
    "- style - a disctionary of the product metadata, e.g., \"Format\" is \"Hardcover\"\n",
    "- reviewText - text of the review\n",
    "- overall - rating of the product\n",
    "- summary - summary of the review\n",
    "- unixReviewTime - time of the review (unix time)\n",
    "- reviewTime - time of the review (raw)\n",
    "- image - images that users post after they have received the product\n",
    "- Verfied - verified user review(bool)\n"
   ]
  },
  {
   "cell_type": "markdown",
   "metadata": {},
   "source": [
    "#### **Basic EDA**"
   ]
  },
  {
   "cell_type": "code",
   "execution_count": 7,
   "metadata": {},
   "outputs": [
    {
     "data": {
      "text/plain": [
       "Index(['overall', 'verified', 'reviewtime', 'reviewerid', 'asin',\n",
       "       'reviewername', 'reviewtext', 'summary', 'unixreviewtime', 'vote',\n",
       "       'style', 'image'],\n",
       "      dtype='object')"
      ]
     },
     "execution_count": 7,
     "metadata": {},
     "output_type": "execute_result"
    }
   ],
   "source": [
    "raw_data.columns"
   ]
  },
  {
   "cell_type": "code",
   "execution_count": 83,
   "metadata": {},
   "outputs": [],
   "source": [
    "# Renaming feature names to make it more readable\n",
    "\n",
    "raw_data.rename(columns={'overall':'ratings','vote':'helpfullness_vote',\\\n",
    "    'reviewtime':'review_time','reviewerid':'reviewer_id','reviewername':'reviewer_name',\n",
    "    'reviewtext':'review_text','unixreviewtime':'unix_review_time','asin':'product_id'}, inplace=True)"
   ]
  },
  {
   "cell_type": "code",
   "execution_count": 117,
   "metadata": {},
   "outputs": [
    {
     "name": "stdout",
     "output_type": "stream",
     "text": [
      "<class 'pandas.core.frame.DataFrame'>\n",
      "RangeIndex: 2562850 entries, 0 to 2562849\n",
      "Data columns (total 8 columns):\n",
      " #   Column             Dtype \n",
      "---  ------             ----- \n",
      " 0   reviewer_id        object\n",
      " 1   product_id         object\n",
      " 2   verified           bool  \n",
      " 3   review_time        object\n",
      " 4   helpfullness_vote  int32 \n",
      " 5   summary            object\n",
      " 6   review_text        object\n",
      " 7   ratings            int32 \n",
      "dtypes: bool(1), int32(2), object(5)\n",
      "memory usage: 119.8+ MB\n"
     ]
    }
   ],
   "source": [
    "raw_data.info()"
   ]
  },
  {
   "cell_type": "markdown",
   "metadata": {},
   "source": [
    "#### **Missing value analysis**"
   ]
  },
  {
   "cell_type": "code",
   "execution_count": 18,
   "metadata": {},
   "outputs": [],
   "source": [
    "def missing_values(df):\n",
    "    return df.isna().sum(axis = 0) / len(df) * 100"
   ]
  },
  {
   "cell_type": "code",
   "execution_count": 19,
   "metadata": {},
   "outputs": [
    {
     "data": {
      "text/plain": [
       "ratings               0.000000\n",
       "verified              0.000000\n",
       "review_time           0.000000\n",
       "reviewer_id           0.000000\n",
       "asin                  0.000000\n",
       "reviewer_name         0.018243\n",
       "review_text           0.067086\n",
       "summary               0.032783\n",
       "unix_review_time      0.000000\n",
       "helpfullness_vote    82.742465\n",
       "style                48.546104\n",
       "image                98.896641\n",
       "dtype: float64"
      ]
     },
     "execution_count": 19,
     "metadata": {},
     "output_type": "execute_result"
    }
   ],
   "source": [
    "missing_values(raw_data)"
   ]
  },
  {
   "cell_type": "code",
   "execution_count": 21,
   "metadata": {},
   "outputs": [
    {
     "data": {
      "text/plain": [
       "array([nan, \"{'Format:': ' Hardcover'}\", \"{'Format:': ' DVD-ROM'}\", ...,\n",
       "       \"{'Color:': ' 1pcs'}\", \"{'Color:': ' Matte White'}\",\n",
       "       \"{'Color:': ' c2'}\"], dtype=object)"
      ]
     },
     "execution_count": 21,
     "metadata": {},
     "output_type": "execute_result"
    }
   ],
   "source": [
    "raw_data['style'].unique()"
   ]
  },
  {
   "cell_type": "code",
   "execution_count": 25,
   "metadata": {},
   "outputs": [
    {
     "data": {
      "image/png": "[encoded data removed]",
      "text/plain": [
       "<Figure size 1500x500 with 1 Axes>"
      ]
     },
     "metadata": {},
     "output_type": "display_data"
    }
   ],
   "source": [
    "plt.figure(figsize=(15,5))\n",
    "sns.heatmap(raw_data.isna(), cbar=False , yticklabels=False,cmap= 'copper')\n",
    "sns.despine()"
   ]
  },
  {
   "cell_type": "code",
   "execution_count": 84,
   "metadata": {},
   "outputs": [],
   "source": [
    "'''\n",
    "From the above analysis we can find image, style and helpfullness_vote features has\n",
    "most amount of missing values so we can drop style and image features and impute the helpfullness_vote \n",
    "feature with 0 since it may be useful for out further analysis.\n",
    "'''\n",
    "\n",
    "raw_data.drop(columns= ['style','image'], inplace=True)"
   ]
  },
  {
   "cell_type": "code",
   "execution_count": 85,
   "metadata": {},
   "outputs": [
    {
     "data": {
      "text/html": [
       "<div>\n",
       "<style scoped>\n",
       "    .dataframe tbody tr th:only-of-type {\n",
       "        vertical-align: middle;\n",
       "    }\n",
       "\n",
       "    .dataframe tbody tr th {\n",
       "        vertical-align: top;\n",
       "    }\n",
       "\n",
       "    .dataframe thead th {\n",
       "        text-align: right;\n",
       "    }\n",
       "</style>\n",
       "<table border=\"1\" class=\"dataframe\">\n",
       "  <thead>\n",
       "    <tr style=\"text-align: right;\">\n",
       "      <th></th>\n",
       "      <th>ratings</th>\n",
       "      <th>verified</th>\n",
       "      <th>review_time</th>\n",
       "      <th>reviewer_id</th>\n",
       "      <th>asin</th>\n",
       "      <th>reviewer_name</th>\n",
       "      <th>review_text</th>\n",
       "      <th>summary</th>\n",
       "      <th>unix_review_time</th>\n",
       "      <th>helpfullness_vote</th>\n",
       "    </tr>\n",
       "  </thead>\n",
       "  <tbody>\n",
       "    <tr>\n",
       "      <th>0</th>\n",
       "      <td>1.0</td>\n",
       "      <td>True</td>\n",
       "      <td>06 9, 2014</td>\n",
       "      <td>A21ROB4YDOZA5P</td>\n",
       "      <td>0439381673</td>\n",
       "      <td>Mary M. Clark</td>\n",
       "      <td>I used to play this game years ago and loved i...</td>\n",
       "      <td>Did not like this</td>\n",
       "      <td>1402272000</td>\n",
       "      <td>NaN</td>\n",
       "    </tr>\n",
       "    <tr>\n",
       "      <th>1</th>\n",
       "      <td>3.0</td>\n",
       "      <td>True</td>\n",
       "      <td>05 10, 2014</td>\n",
       "      <td>A3TNZ2Q5E7HTHD</td>\n",
       "      <td>0439381673</td>\n",
       "      <td>Sarabatya</td>\n",
       "      <td>The game itself worked great but the story lin...</td>\n",
       "      <td>Almost Perfect</td>\n",
       "      <td>1399680000</td>\n",
       "      <td>NaN</td>\n",
       "    </tr>\n",
       "  </tbody>\n",
       "</table>\n",
       "</div>"
      ],
      "text/plain": [
       "   ratings  verified  review_time     reviewer_id        asin  reviewer_name  \\\n",
       "0      1.0      True   06 9, 2014  A21ROB4YDOZA5P  0439381673  Mary M. Clark   \n",
       "1      3.0      True  05 10, 2014  A3TNZ2Q5E7HTHD  0439381673      Sarabatya   \n",
       "\n",
       "                                         review_text            summary  \\\n",
       "0  I used to play this game years ago and loved i...  Did not like this   \n",
       "1  The game itself worked great but the story lin...     Almost Perfect   \n",
       "\n",
       "   unix_review_time helpfullness_vote  \n",
       "0        1402272000               NaN  \n",
       "1        1399680000               NaN  "
      ]
     },
     "execution_count": 85,
     "metadata": {},
     "output_type": "execute_result"
    }
   ],
   "source": [
    "raw_data.head(2)"
   ]
  },
  {
   "cell_type": "code",
   "execution_count": 86,
   "metadata": {},
   "outputs": [],
   "source": [
    "raw_data.drop(columns=['reviewer_name','unix_review_time'],inplace= True)\n",
    "# dropped reviewer_name and unix time features because we have reviewer_id and review_time features"
   ]
  },
  {
   "cell_type": "code",
   "execution_count": 87,
   "metadata": {},
   "outputs": [
    {
     "data": {
      "text/html": [
       "<div>\n",
       "<style scoped>\n",
       "    .dataframe tbody tr th:only-of-type {\n",
       "        vertical-align: middle;\n",
       "    }\n",
       "\n",
       "    .dataframe tbody tr th {\n",
       "        vertical-align: top;\n",
       "    }\n",
       "\n",
       "    .dataframe thead th {\n",
       "        text-align: right;\n",
       "    }\n",
       "</style>\n",
       "<table border=\"1\" class=\"dataframe\">\n",
       "  <thead>\n",
       "    <tr style=\"text-align: right;\">\n",
       "      <th></th>\n",
       "      <th>0</th>\n",
       "      <th>1</th>\n",
       "      <th>2</th>\n",
       "      <th>3</th>\n",
       "      <th>4</th>\n",
       "    </tr>\n",
       "  </thead>\n",
       "  <tbody>\n",
       "    <tr>\n",
       "      <th>ratings</th>\n",
       "      <td>1.0</td>\n",
       "      <td>3.0</td>\n",
       "      <td>4.0</td>\n",
       "      <td>1.0</td>\n",
       "      <td>4.0</td>\n",
       "    </tr>\n",
       "    <tr>\n",
       "      <th>verified</th>\n",
       "      <td>True</td>\n",
       "      <td>True</td>\n",
       "      <td>True</td>\n",
       "      <td>True</td>\n",
       "      <td>True</td>\n",
       "    </tr>\n",
       "    <tr>\n",
       "      <th>review_time</th>\n",
       "      <td>06 9, 2014</td>\n",
       "      <td>05 10, 2014</td>\n",
       "      <td>02 7, 2014</td>\n",
       "      <td>02 7, 2014</td>\n",
       "      <td>01 16, 2014</td>\n",
       "    </tr>\n",
       "    <tr>\n",
       "      <th>reviewer_id</th>\n",
       "      <td>A21ROB4YDOZA5P</td>\n",
       "      <td>A3TNZ2Q5E7HTHD</td>\n",
       "      <td>A1OKRM3QFEATQO</td>\n",
       "      <td>A2XO1JFCNEYV3T</td>\n",
       "      <td>A19WLPIRHD15TH</td>\n",
       "    </tr>\n",
       "    <tr>\n",
       "      <th>asin</th>\n",
       "      <td>0439381673</td>\n",
       "      <td>0439381673</td>\n",
       "      <td>0439381673</td>\n",
       "      <td>0439381673</td>\n",
       "      <td>0439381673</td>\n",
       "    </tr>\n",
       "    <tr>\n",
       "      <th>review_text</th>\n",
       "      <td>I used to play this game years ago and loved i...</td>\n",
       "      <td>The game itself worked great but the story lin...</td>\n",
       "      <td>I had to learn the hard way after ordering thi...</td>\n",
       "      <td>The product description should state this clea...</td>\n",
       "      <td>I would recommend this learning game for anyon...</td>\n",
       "    </tr>\n",
       "    <tr>\n",
       "      <th>summary</th>\n",
       "      <td>Did not like this</td>\n",
       "      <td>Almost Perfect</td>\n",
       "      <td>DOES NOT WORK WITH MAC OS unless it is 10.3 or...</td>\n",
       "      <td>does not work on Mac OSX</td>\n",
       "      <td>Roughing it</td>\n",
       "    </tr>\n",
       "    <tr>\n",
       "      <th>helpfullness_vote</th>\n",
       "      <td>NaN</td>\n",
       "      <td>NaN</td>\n",
       "      <td>15</td>\n",
       "      <td>11</td>\n",
       "      <td>NaN</td>\n",
       "    </tr>\n",
       "  </tbody>\n",
       "</table>\n",
       "</div>"
      ],
      "text/plain": [
       "                                                                   0  \\\n",
       "ratings                                                          1.0   \n",
       "verified                                                        True   \n",
       "review_time                                               06 9, 2014   \n",
       "reviewer_id                                           A21ROB4YDOZA5P   \n",
       "asin                                                      0439381673   \n",
       "review_text        I used to play this game years ago and loved i...   \n",
       "summary                                            Did not like this   \n",
       "helpfullness_vote                                                NaN   \n",
       "\n",
       "                                                                   1  \\\n",
       "ratings                                                          3.0   \n",
       "verified                                                        True   \n",
       "review_time                                              05 10, 2014   \n",
       "reviewer_id                                           A3TNZ2Q5E7HTHD   \n",
       "asin                                                      0439381673   \n",
       "review_text        The game itself worked great but the story lin...   \n",
       "summary                                               Almost Perfect   \n",
       "helpfullness_vote                                                NaN   \n",
       "\n",
       "                                                                   2  \\\n",
       "ratings                                                          4.0   \n",
       "verified                                                        True   \n",
       "review_time                                               02 7, 2014   \n",
       "reviewer_id                                           A1OKRM3QFEATQO   \n",
       "asin                                                      0439381673   \n",
       "review_text        I had to learn the hard way after ordering thi...   \n",
       "summary            DOES NOT WORK WITH MAC OS unless it is 10.3 or...   \n",
       "helpfullness_vote                                                 15   \n",
       "\n",
       "                                                                   3  \\\n",
       "ratings                                                          1.0   \n",
       "verified                                                        True   \n",
       "review_time                                               02 7, 2014   \n",
       "reviewer_id                                           A2XO1JFCNEYV3T   \n",
       "asin                                                      0439381673   \n",
       "review_text        The product description should state this clea...   \n",
       "summary                                     does not work on Mac OSX   \n",
       "helpfullness_vote                                                 11   \n",
       "\n",
       "                                                                   4  \n",
       "ratings                                                          4.0  \n",
       "verified                                                        True  \n",
       "review_time                                              01 16, 2014  \n",
       "reviewer_id                                           A19WLPIRHD15TH  \n",
       "asin                                                      0439381673  \n",
       "review_text        I would recommend this learning game for anyon...  \n",
       "summary                                                  Roughing it  \n",
       "helpfullness_vote                                                NaN  "
      ]
     },
     "metadata": {},
     "output_type": "display_data"
    }
   ],
   "source": [
    "display(raw_data.iloc[:5].T)"
   ]
  },
  {
   "cell_type": "code",
   "execution_count": 88,
   "metadata": {},
   "outputs": [],
   "source": [
    "raw_data['helpfullness_vote'] = raw_data[['helpfullness_vote']].fillna(0)"
   ]
  },
  {
   "cell_type": "code",
   "execution_count": 89,
   "metadata": {},
   "outputs": [
    {
     "data": {
      "image/png": "[encoded data removed]",
      "text/plain": [
       "<Figure size 1500x500 with 1 Axes>"
      ]
     },
     "metadata": {},
     "output_type": "display_data"
    }
   ],
   "source": [
    "plt.figure(figsize=(15,5))\n",
    "sns.heatmap(raw_data.isna(), cbar=False , yticklabels=False,cmap= 'copper')\n",
    "sns.despine()"
   ]
  },
  {
   "cell_type": "code",
   "execution_count": 90,
   "metadata": {},
   "outputs": [
    {
     "data": {
      "text/plain": [
       "ratings              0.000000\n",
       "verified             0.000000\n",
       "review_time          0.000000\n",
       "reviewer_id          0.000000\n",
       "asin                 0.000000\n",
       "review_text          0.067086\n",
       "summary              0.032783\n",
       "helpfullness_vote    0.000000\n",
       "dtype: float64"
      ]
     },
     "execution_count": 90,
     "metadata": {},
     "output_type": "execute_result"
    }
   ],
   "source": [
    "missing_values(raw_data)"
   ]
  },
  {
   "cell_type": "code",
   "execution_count": 91,
   "metadata": {},
   "outputs": [
    {
     "name": "stdout",
     "output_type": "stream",
     "text": [
      "Number of missing rows in review_text:  1721\n",
      "Number of missing rows in summary:  841\n"
     ]
    }
   ],
   "source": [
    "print( \"Number of missing rows in review_text: \", raw_data[raw_data['review_text'].isna()].shape[0])\n",
    "print( \"Number of missing rows in summary: \", raw_data[raw_data['summary'].isna()].shape[0])"
   ]
  },
  {
   "cell_type": "markdown",
   "metadata": {},
   "source": [
    "Since the number of rows that missing in review_text and summary features are very less comparing to our entire dataset its safe to assume that we can drop them completely."
   ]
  },
  {
   "cell_type": "code",
   "execution_count": 92,
   "metadata": {},
   "outputs": [
    {
     "data": {
      "text/plain": [
       "ratings              0.0\n",
       "verified             0.0\n",
       "review_time          0.0\n",
       "reviewer_id          0.0\n",
       "asin                 0.0\n",
       "review_text          0.0\n",
       "summary              0.0\n",
       "helpfullness_vote    0.0\n",
       "dtype: float64"
      ]
     },
     "execution_count": 92,
     "metadata": {},
     "output_type": "execute_result"
    }
   ],
   "source": [
    "raw_data = raw_data.dropna()\n",
    "missing_values(raw_data)"
   ]
  },
  {
   "cell_type": "code",
   "execution_count": 93,
   "metadata": {},
   "outputs": [
    {
     "name": "stdout",
     "output_type": "stream",
     "text": [
      "<class 'pandas.core.frame.DataFrame'>\n",
      "Int64Index: 2562850 entries, 0 to 2565348\n",
      "Data columns (total 8 columns):\n",
      " #   Column             Dtype  \n",
      "---  ------             -----  \n",
      " 0   ratings            float64\n",
      " 1   verified           bool   \n",
      " 2   review_time        object \n",
      " 3   reviewer_id        object \n",
      " 4   asin               object \n",
      " 5   review_text        object \n",
      " 6   summary            object \n",
      " 7   helpfullness_vote  object \n",
      "dtypes: bool(1), float64(1), object(6)\n",
      "memory usage: 158.9+ MB\n",
      "None\n",
      "(2562850, 8)\n"
     ]
    }
   ],
   "source": [
    "print(raw_data.info())\n",
    "print(raw_data.shape)"
   ]
  },
  {
   "cell_type": "code",
   "execution_count": 94,
   "metadata": {},
   "outputs": [],
   "source": [
    "raw_data = raw_data[['reviewer_id','product_id','verified','review_time','helpfullness_vote','summary','review_text','ratings']]"
   ]
  },
  {
   "cell_type": "code",
   "execution_count": 95,
   "metadata": {},
   "outputs": [],
   "source": [
    "raw_data = raw_data.reset_index(drop= True)"
   ]
  },
  {
   "cell_type": "code",
   "execution_count": 118,
   "metadata": {},
   "outputs": [
    {
     "data": {
      "text/html": [
       "<div>\n",
       "<style scoped>\n",
       "    .dataframe tbody tr th:only-of-type {\n",
       "        vertical-align: middle;\n",
       "    }\n",
       "\n",
       "    .dataframe tbody tr th {\n",
       "        vertical-align: top;\n",
       "    }\n",
       "\n",
       "    .dataframe thead th {\n",
       "        text-align: right;\n",
       "    }\n",
       "</style>\n",
       "<table border=\"1\" class=\"dataframe\">\n",
       "  <thead>\n",
       "    <tr style=\"text-align: right;\">\n",
       "      <th></th>\n",
       "      <th>reviewer_id</th>\n",
       "      <th>product_id</th>\n",
       "      <th>verified</th>\n",
       "      <th>review_time</th>\n",
       "      <th>helpfullness_vote</th>\n",
       "      <th>summary</th>\n",
       "      <th>review_text</th>\n",
       "      <th>ratings</th>\n",
       "    </tr>\n",
       "  </thead>\n",
       "  <tbody>\n",
       "    <tr>\n",
       "      <th>0</th>\n",
       "      <td>A21ROB4YDOZA5P</td>\n",
       "      <td>0439381673</td>\n",
       "      <td>True</td>\n",
       "      <td>06 9, 2014</td>\n",
       "      <td>0</td>\n",
       "      <td>Did not like this</td>\n",
       "      <td>I used to play this game years ago and loved i...</td>\n",
       "      <td>1</td>\n",
       "    </tr>\n",
       "    <tr>\n",
       "      <th>1</th>\n",
       "      <td>A3TNZ2Q5E7HTHD</td>\n",
       "      <td>0439381673</td>\n",
       "      <td>True</td>\n",
       "      <td>05 10, 2014</td>\n",
       "      <td>0</td>\n",
       "      <td>Almost Perfect</td>\n",
       "      <td>The game itself worked great but the story lin...</td>\n",
       "      <td>3</td>\n",
       "    </tr>\n",
       "  </tbody>\n",
       "</table>\n",
       "</div>"
      ],
      "text/plain": [
       "      reviewer_id  product_id  verified  review_time  helpfullness_vote  \\\n",
       "0  A21ROB4YDOZA5P  0439381673      True   06 9, 2014                  0   \n",
       "1  A3TNZ2Q5E7HTHD  0439381673      True  05 10, 2014                  0   \n",
       "\n",
       "             summary                                        review_text  \\\n",
       "0  Did not like this  I used to play this game years ago and loved i...   \n",
       "1     Almost Perfect  The game itself worked great but the story lin...   \n",
       "\n",
       "   ratings  \n",
       "0        1  \n",
       "1        3  "
      ]
     },
     "execution_count": 118,
     "metadata": {},
     "output_type": "execute_result"
    }
   ],
   "source": [
    "raw_data.head(2)"
   ]
  },
  {
   "cell_type": "markdown",
   "metadata": {},
   "source": [
    "#### Converting features to correct datatype"
   ]
  },
  {
   "cell_type": "code",
   "execution_count": 97,
   "metadata": {},
   "outputs": [
    {
     "data": {
      "text/plain": [
       "array([1., 3., 4., 5., 2.])"
      ]
     },
     "execution_count": 97,
     "metadata": {},
     "output_type": "execute_result"
    }
   ],
   "source": [
    "raw_data['ratings'].unique()"
   ]
  },
  {
   "cell_type": "code",
   "execution_count": 98,
   "metadata": {},
   "outputs": [],
   "source": [
    "raw_data['ratings'] = raw_data['ratings'].astype('int')"
   ]
  },
  {
   "cell_type": "code",
   "execution_count": 107,
   "metadata": {},
   "outputs": [],
   "source": [
    "raw_data['helpfullness_vote'] = raw_data['helpfullness_vote'].str.replace(',','')"
   ]
  },
  {
   "cell_type": "code",
   "execution_count": 109,
   "metadata": {},
   "outputs": [],
   "source": [
    "raw_data['helpfullness_vote'] = raw_data['helpfullness_vote'].fillna(0)"
   ]
  },
  {
   "cell_type": "code",
   "execution_count": 111,
   "metadata": {},
   "outputs": [],
   "source": [
    "raw_data['helpfullness_vote'] =  raw_data['helpfullness_vote'].astype(str).astype(int)"
   ]
  },
  {
   "cell_type": "code",
   "execution_count": 55,
   "metadata": {},
   "outputs": [],
   "source": [
    "raw_data['review_time'] = pd.to_datetime(raw_data['review_time'])"
   ]
  },
  {
   "cell_type": "code",
   "execution_count": 62,
   "metadata": {},
   "outputs": [
    {
     "name": "stdout",
     "output_type": "stream",
     "text": [
      "<class 'pandas.core.frame.DataFrame'>\n",
      "RangeIndex: 2562850 entries, 0 to 2562849\n",
      "Data columns (total 8 columns):\n",
      " #   Column             Dtype         \n",
      "---  ------             -----         \n",
      " 0   reviewer_id        object        \n",
      " 1   product_id         object        \n",
      " 2   verified           bool          \n",
      " 3   review_time        datetime64[ns]\n",
      " 4   helpfullness_vote  int32         \n",
      " 5   summary            object        \n",
      " 6   review_text        object        \n",
      " 7   ratings            int32         \n",
      "dtypes: bool(1), datetime64[ns](1), int32(2), object(4)\n",
      "memory usage: 119.8+ MB\n"
     ]
    }
   ],
   "source": [
    "raw_data.info()"
   ]
  },
  {
   "cell_type": "markdown",
   "metadata": {},
   "source": [
    "#### Basic Feature Extraction\n",
    "Extracting some useful information from the textual data before cleaning them since it may come useful for further analysis"
   ]
  },
  {
   "cell_type": "markdown",
   "metadata": {},
   "source": [
    "1) Number of stopwords in review_text"
   ]
  },
  {
   "cell_type": "code",
   "execution_count": 2,
   "metadata": {},
   "outputs": [],
   "source": [
    "from nltk.corpus import stopwords\n",
    "import string\n",
    "import nltk\n",
    "stop = stopwords.words('english')"
   ]
  },
  {
   "cell_type": "code",
   "execution_count": 159,
   "metadata": {},
   "outputs": [
    {
     "data": {
      "text/html": [
       "<div>\n",
       "<style scoped>\n",
       "    .dataframe tbody tr th:only-of-type {\n",
       "        vertical-align: middle;\n",
       "    }\n",
       "\n",
       "    .dataframe tbody tr th {\n",
       "        vertical-align: top;\n",
       "    }\n",
       "\n",
       "    .dataframe thead th {\n",
       "        text-align: right;\n",
       "    }\n",
       "</style>\n",
       "<table border=\"1\" class=\"dataframe\">\n",
       "  <thead>\n",
       "    <tr style=\"text-align: right;\">\n",
       "      <th></th>\n",
       "      <th>review_text</th>\n",
       "      <th>stopwords</th>\n",
       "    </tr>\n",
       "  </thead>\n",
       "  <tbody>\n",
       "    <tr>\n",
       "      <th>0</th>\n",
       "      <td>I used to play this game years ago and loved i...</td>\n",
       "      <td>11</td>\n",
       "    </tr>\n",
       "    <tr>\n",
       "      <th>1</th>\n",
       "      <td>The game itself worked great but the story lin...</td>\n",
       "      <td>8</td>\n",
       "    </tr>\n",
       "    <tr>\n",
       "      <th>2</th>\n",
       "      <td>I had to learn the hard way after ordering thi...</td>\n",
       "      <td>34</td>\n",
       "    </tr>\n",
       "    <tr>\n",
       "      <th>3</th>\n",
       "      <td>The product description should state this clea...</td>\n",
       "      <td>11</td>\n",
       "    </tr>\n",
       "    <tr>\n",
       "      <th>4</th>\n",
       "      <td>I would recommend this learning game for anyon...</td>\n",
       "      <td>5</td>\n",
       "    </tr>\n",
       "  </tbody>\n",
       "</table>\n",
       "</div>"
      ],
      "text/plain": [
       "                                         review_text  stopwords\n",
       "0  I used to play this game years ago and loved i...         11\n",
       "1  The game itself worked great but the story lin...          8\n",
       "2  I had to learn the hard way after ordering thi...         34\n",
       "3  The product description should state this clea...         11\n",
       "4  I would recommend this learning game for anyon...          5"
      ]
     },
     "execution_count": 159,
     "metadata": {},
     "output_type": "execute_result"
    }
   ],
   "source": [
    "raw_data['stopwords'] = raw_data['review_text'].apply(lambda x: len([x for x in x.split() if x in stop]))\n",
    "raw_data[['review_text','stopwords']].head()"
   ]
  },
  {
   "cell_type": "markdown",
   "metadata": {},
   "source": [
    "2) Number of Punctuations in review_text"
   ]
  },
  {
   "cell_type": "code",
   "execution_count": 163,
   "metadata": {},
   "outputs": [],
   "source": [
    "def count_punct(text):\n",
    "    count = sum([1 for char in text if char in string.punctuation])\n",
    "    return count\n",
    "\n",
    "raw_data['punctuation'] = raw_data['review_text'].apply(lambda x: count_punct(x))"
   ]
  },
  {
   "cell_type": "markdown",
   "metadata": {},
   "source": [
    "3) Number of hastags in review_text"
   ]
  },
  {
   "cell_type": "code",
   "execution_count": 166,
   "metadata": {},
   "outputs": [
    {
     "data": {
      "text/html": [
       "<div>\n",
       "<style scoped>\n",
       "    .dataframe tbody tr th:only-of-type {\n",
       "        vertical-align: middle;\n",
       "    }\n",
       "\n",
       "    .dataframe tbody tr th {\n",
       "        vertical-align: top;\n",
       "    }\n",
       "\n",
       "    .dataframe thead th {\n",
       "        text-align: right;\n",
       "    }\n",
       "</style>\n",
       "<table border=\"1\" class=\"dataframe\">\n",
       "  <thead>\n",
       "    <tr style=\"text-align: right;\">\n",
       "      <th></th>\n",
       "      <th>review_text</th>\n",
       "      <th>hastags</th>\n",
       "    </tr>\n",
       "  </thead>\n",
       "  <tbody>\n",
       "    <tr>\n",
       "      <th>0</th>\n",
       "      <td>I used to play this game years ago and loved i...</td>\n",
       "      <td>0</td>\n",
       "    </tr>\n",
       "    <tr>\n",
       "      <th>1</th>\n",
       "      <td>The game itself worked great but the story lin...</td>\n",
       "      <td>0</td>\n",
       "    </tr>\n",
       "    <tr>\n",
       "      <th>2</th>\n",
       "      <td>I had to learn the hard way after ordering thi...</td>\n",
       "      <td>0</td>\n",
       "    </tr>\n",
       "    <tr>\n",
       "      <th>3</th>\n",
       "      <td>The product description should state this clea...</td>\n",
       "      <td>0</td>\n",
       "    </tr>\n",
       "    <tr>\n",
       "      <th>4</th>\n",
       "      <td>I would recommend this learning game for anyon...</td>\n",
       "      <td>0</td>\n",
       "    </tr>\n",
       "  </tbody>\n",
       "</table>\n",
       "</div>"
      ],
      "text/plain": [
       "                                         review_text  hastags\n",
       "0  I used to play this game years ago and loved i...        0\n",
       "1  The game itself worked great but the story lin...        0\n",
       "2  I had to learn the hard way after ordering thi...        0\n",
       "3  The product description should state this clea...        0\n",
       "4  I would recommend this learning game for anyon...        0"
      ]
     },
     "execution_count": 166,
     "metadata": {},
     "output_type": "execute_result"
    }
   ],
   "source": [
    "raw_data['hastags'] = raw_data['review_text'].apply(lambda x: len([x for x in x.split() if x.startswith('#')]))\n",
    "raw_data[['review_text','hastags']].head()"
   ]
  },
  {
   "cell_type": "code",
   "execution_count": 196,
   "metadata": {},
   "outputs": [
    {
     "name": "stdout",
     "output_type": "stream",
     "text": [
      "Number of hastags present in out dataset: 6048\n"
     ]
    }
   ],
   "source": [
    "print(\"Number of rows that has hastags present in out dataset:\", raw_data[raw_data['hastags'] > 0].shape[0])"
   ]
  },
  {
   "cell_type": "code",
   "execution_count": 195,
   "metadata": {},
   "outputs": [
    {
     "data": {
      "text/plain": [
       "(6048, 11)"
      ]
     },
     "execution_count": 195,
     "metadata": {},
     "output_type": "execute_result"
    }
   ],
   "source": [
    "raw_data[raw_data['hastags']>0].shape"
   ]
  },
  {
   "cell_type": "markdown",
   "metadata": {},
   "source": [
    "4) Number of numericals in review_text"
   ]
  },
  {
   "cell_type": "code",
   "execution_count": 198,
   "metadata": {},
   "outputs": [
    {
     "data": {
      "text/html": [
       "<div>\n",
       "<style scoped>\n",
       "    .dataframe tbody tr th:only-of-type {\n",
       "        vertical-align: middle;\n",
       "    }\n",
       "\n",
       "    .dataframe tbody tr th {\n",
       "        vertical-align: top;\n",
       "    }\n",
       "\n",
       "    .dataframe thead th {\n",
       "        text-align: right;\n",
       "    }\n",
       "</style>\n",
       "<table border=\"1\" class=\"dataframe\">\n",
       "  <thead>\n",
       "    <tr style=\"text-align: right;\">\n",
       "      <th></th>\n",
       "      <th>review_text</th>\n",
       "      <th>numerics</th>\n",
       "    </tr>\n",
       "  </thead>\n",
       "  <tbody>\n",
       "    <tr>\n",
       "      <th>0</th>\n",
       "      <td>I used to play this game years ago and loved i...</td>\n",
       "      <td>0</td>\n",
       "    </tr>\n",
       "    <tr>\n",
       "      <th>1</th>\n",
       "      <td>The game itself worked great but the story lin...</td>\n",
       "      <td>0</td>\n",
       "    </tr>\n",
       "    <tr>\n",
       "      <th>2</th>\n",
       "      <td>I had to learn the hard way after ordering thi...</td>\n",
       "      <td>1</td>\n",
       "    </tr>\n",
       "    <tr>\n",
       "      <th>3</th>\n",
       "      <td>The product description should state this clea...</td>\n",
       "      <td>0</td>\n",
       "    </tr>\n",
       "    <tr>\n",
       "      <th>4</th>\n",
       "      <td>I would recommend this learning game for anyon...</td>\n",
       "      <td>0</td>\n",
       "    </tr>\n",
       "  </tbody>\n",
       "</table>\n",
       "</div>"
      ],
      "text/plain": [
       "                                         review_text  numerics\n",
       "0  I used to play this game years ago and loved i...         0\n",
       "1  The game itself worked great but the story lin...         0\n",
       "2  I had to learn the hard way after ordering thi...         1\n",
       "3  The product description should state this clea...         0\n",
       "4  I would recommend this learning game for anyon...         0"
      ]
     },
     "execution_count": 198,
     "metadata": {},
     "output_type": "execute_result"
    }
   ],
   "source": [
    "raw_data['numerics'] = raw_data['review_text'].apply(lambda x: len([x for x in x.split() if x.isdigit()]))\n",
    "raw_data[['review_text','numerics']].head()"
   ]
  },
  {
   "cell_type": "code",
   "execution_count": 199,
   "metadata": {},
   "outputs": [
    {
     "name": "stdout",
     "output_type": "stream",
     "text": [
      "Number of rows that has numericals present in out dataset: 577402\n"
     ]
    }
   ],
   "source": [
    "print(\"Number of rows that has numericals present in out dataset:\", raw_data[raw_data['numerics'] > 0].shape[0])"
   ]
  },
  {
   "cell_type": "markdown",
   "metadata": {},
   "source": [
    "#### **Data Preprocessing**"
   ]
  },
  {
   "cell_type": "markdown",
   "metadata": {},
   "source": [
    "1) Transform all our reviews into lower case, this prevents us from getting multiple copies of same words"
   ]
  },
  {
   "cell_type": "code",
   "execution_count": 4,
   "metadata": {},
   "outputs": [
    {
     "data": {
      "text/plain": [
       "0    used play game years ago loved found work comp...\n",
       "1    game worked great story line videos would neve...\n",
       "2    learn hard way ordering macbook pro doesnt wor...\n",
       "3    product description state clearly cd box produ...\n",
       "4    would recommend learning game anyone likes lea...\n",
       "Name: review_text, dtype: object"
      ]
     },
     "execution_count": 4,
     "metadata": {},
     "output_type": "execute_result"
    }
   ],
   "source": [
    "raw_data['review_text'] = raw_data['review_text'].apply(lambda x: \" \".join(x.lower() for x in x.split()))\n",
    "raw_data['review_text'].head()"
   ]
  },
  {
   "cell_type": "markdown",
   "metadata": {},
   "source": [
    "2. Remove all the punctuations from the reviews"
   ]
  },
  {
   "cell_type": "code",
   "execution_count": 7,
   "metadata": {},
   "outputs": [
    {
     "data": {
      "text/plain": [
       "'!\"#$%&\\'()*+,-./:;<=>?@[\\\\]^_`{|}~'"
      ]
     },
     "execution_count": 7,
     "metadata": {},
     "output_type": "execute_result"
    }
   ],
   "source": [
    "string.punctuation"
   ]
  },
  {
   "cell_type": "code",
   "execution_count": 8,
   "metadata": {},
   "outputs": [
    {
     "data": {
      "text/plain": [
       "0    used play game years ago loved found work comp...\n",
       "1    game worked great story line videos would neve...\n",
       "2    learn hard way ordering macbook pro doesnt wor...\n",
       "3    product description state clearly cd box produ...\n",
       "4    would recommend learning game anyone likes lea...\n",
       "Name: review_text, dtype: object"
      ]
     },
     "execution_count": 8,
     "metadata": {},
     "output_type": "execute_result"
    }
   ],
   "source": [
    "raw_data['review_text'] = raw_data['review_text'].str.replace(\"[!#$%&'()*+,-./:;<=>?@[\\]^_`{|}~]\",'')\n",
    "raw_data['review_text'].head()"
   ]
  },
  {
   "cell_type": "markdown",
   "metadata": {},
   "source": [
    "3. Remove all the stopwords from the reviews"
   ]
  },
  {
   "cell_type": "code",
   "execution_count": 9,
   "metadata": {},
   "outputs": [
    {
     "name": "stdout",
     "output_type": "stream",
     "text": [
      "['i', 'me', 'my', 'myself', 'we', 'our', 'ours', 'ourselves', 'you', \"you're\", \"you've\", \"you'll\", \"you'd\", 'your', 'yours', 'yourself', 'yourselves', 'he', 'him', 'his', 'himself', 'she', \"she's\", 'her', 'hers', 'herself', 'it', \"it's\", 'its', 'itself', 'they', 'them', 'their', 'theirs', 'themselves', 'what', 'which', 'who', 'whom', 'this', 'that', \"that'll\", 'these', 'those', 'am', 'is', 'are', 'was', 'were', 'be', 'been', 'being', 'have', 'has', 'had', 'having', 'do', 'does', 'did', 'doing', 'a', 'an', 'the', 'and', 'but', 'if', 'or', 'because', 'as', 'until', 'while', 'of', 'at', 'by', 'for', 'with', 'about', 'against', 'between', 'into', 'through', 'during', 'before', 'after', 'above', 'below', 'to', 'from', 'up', 'down', 'in', 'out', 'on', 'off', 'over', 'under', 'again', 'further', 'then', 'once', 'here', 'there', 'when', 'where', 'why', 'how', 'all', 'any', 'both', 'each', 'few', 'more', 'most', 'other', 'some', 'such', 'no', 'nor', 'not', 'only', 'own', 'same', 'so', 'than', 'too', 'very', 's', 't', 'can', 'will', 'just', 'don', \"don't\", 'should', \"should've\", 'now', 'd', 'll', 'm', 'o', 're', 've', 'y', 'ain', 'aren', \"aren't\", 'couldn', \"couldn't\", 'didn', \"didn't\", 'doesn', \"doesn't\", 'hadn', \"hadn't\", 'hasn', \"hasn't\", 'haven', \"haven't\", 'isn', \"isn't\", 'ma', 'mightn', \"mightn't\", 'mustn', \"mustn't\", 'needn', \"needn't\", 'shan', \"shan't\", 'shouldn', \"shouldn't\", 'wasn', \"wasn't\", 'weren', \"weren't\", 'won', \"won't\", 'wouldn', \"wouldn't\"]\n"
     ]
    }
   ],
   "source": [
    "print(stop)"
   ]
  },
  {
   "cell_type": "code",
   "execution_count": 10,
   "metadata": {},
   "outputs": [
    {
     "data": {
      "text/plain": [
       "0    used play game years ago loved found work comp...\n",
       "1    game worked great story line videos would neve...\n",
       "2    learn hard way ordering macbook pro doesnt wor...\n",
       "3    product description state clearly cd box produ...\n",
       "4    would recommend learning game anyone likes lea...\n",
       "Name: review_text, dtype: object"
      ]
     },
     "execution_count": 10,
     "metadata": {},
     "output_type": "execute_result"
    }
   ],
   "source": [
    "raw_data['review_text'] = raw_data['review_text'].apply(lambda x: \" \".join(x for x in x.split() if x not in stop))\n",
    "raw_data['review_text'].head(5)"
   ]
  },
  {
   "cell_type": "markdown",
   "metadata": {},
   "source": [
    "4. Remove all the URL from the reviews "
   ]
  },
  {
   "cell_type": "code",
   "execution_count": 11,
   "metadata": {},
   "outputs": [],
   "source": [
    "def remove_url(text):\n",
    "    url = re.compile(r'https?://\\S+|www\\.\\S+')\n",
    "    return url.sub(r'', text)"
   ]
  },
  {
   "cell_type": "code",
   "execution_count": 12,
   "metadata": {},
   "outputs": [],
   "source": [
    "raw_data['review_text'] = raw_data['review_text'].apply(lambda x: remove_url(x))"
   ]
  },
  {
   "cell_type": "markdown",
   "metadata": {},
   "source": [
    "5. Remove HTML tags from the reviews"
   ]
  },
  {
   "cell_type": "code",
   "execution_count": 13,
   "metadata": {},
   "outputs": [],
   "source": [
    "def remove_html(text):\n",
    "    html=re.compile(r'<.*?>')\n",
    "    return html.sub(r'',text)\n",
    "\n",
    "raw_data['review_text'] = raw_data['review_text'].apply(lambda x: remove_html(x))"
   ]
  },
  {
   "cell_type": "markdown",
   "metadata": {},
   "source": [
    "6. Remove all the emojis from the reviews"
   ]
  },
  {
   "cell_type": "code",
   "execution_count": 14,
   "metadata": {},
   "outputs": [],
   "source": [
    "def remove_emoji(text):\n",
    "    emoji_pattern = re.compile(\"[\"\n",
    "                           u\"\\U0001F600-\\U0001F64F\"  # emoticons\n",
    "                           u\"\\U0001F300-\\U0001F5FF\"  # symbols & pictographs\n",
    "                           u\"\\U0001F680-\\U0001F6FF\"  # transport & map symbols\n",
    "                           u\"\\U0001F1E0-\\U0001F1FF\"  # flags \n",
    "                           u\"\\U00002702-\\U000027B0\"\n",
    "                           u\"\\U000024C2-\\U0001F251\"\n",
    "                           \"]+\", flags=re.UNICODE)\n",
    "    return emoji_pattern.sub(r'', text)"
   ]
  },
  {
   "cell_type": "code",
   "execution_count": 15,
   "metadata": {},
   "outputs": [],
   "source": [
    "raw_data['review_text'] = raw_data['review_text'].apply(lambda x: remove_emoji(x))"
   ]
  },
  {
   "cell_type": "code",
   "execution_count": 40,
   "metadata": {},
   "outputs": [],
   "source": [
    "def clean_text(text):\n",
    "    text = text.lower() # Make text lower case\n",
    "    text = re.sub('\\[.*?\\]', '', text) # Remove text in square brackets\n",
    "    text = re.sub('[%s]' % re.escape(string.punctuation), '', text) #Remove punctuation\n",
    "    text = re.sub('\\w*\\d\\w*', '', text) # Remove words containing numbers\n",
    "    text = re.sub(\"[‘’“”…!#$%&'()*+,-./:;<=>?@[\\]^_`{|}~]\", '', text) # Remove some more punctuations\n",
    "    text = re.sub('<.*?>','',text) # Remove HTML tags\n",
    "    text = re.sub('https?://\\S+|www\\.\\S+','',text) # Remove URL\n",
    "    text = re.sub('\\n', '', text)\n",
    "    return text\n"
   ]
  },
  {
   "cell_type": "code",
   "execution_count": 42,
   "metadata": {},
   "outputs": [],
   "source": [
    "raw_data['review_text'] = raw_data['review_text'].apply(lambda x : clean_text(x))"
   ]
  },
  {
   "cell_type": "code",
   "execution_count": 45,
   "metadata": {},
   "outputs": [],
   "source": [
    "raw_data['summary'] = raw_data['summary'].apply(lambda x: clean_text(x))"
   ]
  },
  {
   "cell_type": "code",
   "execution_count": 49,
   "metadata": {},
   "outputs": [],
   "source": [
    "def remove_stopwords(text):\n",
    "    text = text.lower()\n",
    "    text = [word for word in text.split() if word not in stop]\n",
    "    text = ' '.join(text)\n",
    "    return text"
   ]
  },
  {
   "cell_type": "code",
   "execution_count": 51,
   "metadata": {},
   "outputs": [],
   "source": [
    "raw_data['summary'] = raw_data['summary'].apply(lambda x : remove_stopwords(x))"
   ]
  },
  {
   "cell_type": "markdown",
   "metadata": {},
   "source": [
    "Number of words in the reviews "
   ]
  },
  {
   "cell_type": "code",
   "execution_count": 76,
   "metadata": {},
   "outputs": [
    {
     "data": {
      "text/html": [
       "<div>\n",
       "<style scoped>\n",
       "    .dataframe tbody tr th:only-of-type {\n",
       "        vertical-align: middle;\n",
       "    }\n",
       "\n",
       "    .dataframe tbody tr th {\n",
       "        vertical-align: top;\n",
       "    }\n",
       "\n",
       "    .dataframe thead th {\n",
       "        text-align: right;\n",
       "    }\n",
       "</style>\n",
       "<table border=\"1\" class=\"dataframe\">\n",
       "  <thead>\n",
       "    <tr style=\"text-align: right;\">\n",
       "      <th></th>\n",
       "      <th>review_text</th>\n",
       "      <th>word_count</th>\n",
       "    </tr>\n",
       "  </thead>\n",
       "  <tbody>\n",
       "    <tr>\n",
       "      <th>0</th>\n",
       "      <td>used play game years ago loved found work comp...</td>\n",
       "      <td>15</td>\n",
       "    </tr>\n",
       "    <tr>\n",
       "      <th>1</th>\n",
       "      <td>game worked great story line videos would neve...</td>\n",
       "      <td>18</td>\n",
       "    </tr>\n",
       "    <tr>\n",
       "      <th>2</th>\n",
       "      <td>learn hard way ordering macbook pro doesnt wor...</td>\n",
       "      <td>37</td>\n",
       "    </tr>\n",
       "    <tr>\n",
       "      <th>3</th>\n",
       "      <td>product description state clearly cd box produ...</td>\n",
       "      <td>12</td>\n",
       "    </tr>\n",
       "    <tr>\n",
       "      <th>4</th>\n",
       "      <td>would recommend learning game anyone likes lea...</td>\n",
       "      <td>13</td>\n",
       "    </tr>\n",
       "  </tbody>\n",
       "</table>\n",
       "</div>"
      ],
      "text/plain": [
       "                                         review_text  word_count\n",
       "0  used play game years ago loved found work comp...          15\n",
       "1  game worked great story line videos would neve...          18\n",
       "2  learn hard way ordering macbook pro doesnt wor...          37\n",
       "3  product description state clearly cd box produ...          12\n",
       "4  would recommend learning game anyone likes lea...          13"
      ]
     },
     "execution_count": 76,
     "metadata": {},
     "output_type": "execute_result"
    }
   ],
   "source": [
    "raw_data['word_count'] = raw_data['review_text'].apply(lambda x: len(str(x).split(\" \")))\n",
    "raw_data[['review_text','word_count']].head()"
   ]
  },
  {
   "cell_type": "markdown",
   "metadata": {},
   "source": [
    "Checking the frequency of the words in the review text to find and add some custom stop words"
   ]
  },
  {
   "cell_type": "code",
   "execution_count": 72,
   "metadata": {},
   "outputs": [
    {
     "data": {
      "text/plain": [
       "game          236640\n",
       "one            53362\n",
       "games          52323\n",
       "like           50174\n",
       "get            44541\n",
       "great          40829\n",
       "play           40252\n",
       "good           35888\n",
       "time           32267\n",
       "graphics       30460\n",
       "fun            29637\n",
       "first          27146\n",
       "really         25827\n",
       "best           25309\n",
       "even           25288\n",
       "dont           24204\n",
       "also           23265\n",
       "much           22656\n",
       "would          22283\n",
       "well           20867\n",
       "new            20632\n",
       "played         20409\n",
       "still          19374\n",
       "playing        19028\n",
       "buy            18377\n",
       "better         17777\n",
       "many           16991\n",
       "ever           16306\n",
       "characters     16135\n",
       "story          15564\n",
       "go             15197\n",
       "make           14969\n",
       "way            14583\n",
       "love           14313\n",
       "got            13738\n",
       "people         13442\n",
       "system         13272\n",
       "little         13244\n",
       "think          13026\n",
       "gameplay       12962\n",
       "back           12923\n",
       "want           12923\n",
       "im             12581\n",
       "could          12315\n",
       "find           12038\n",
       "different      12005\n",
       "say            11773\n",
       "ive            11383\n",
       "thing          11364\n",
       "lot            11236\n",
       "dtype: int64"
      ]
     },
     "execution_count": 72,
     "metadata": {},
     "output_type": "execute_result"
    }
   ],
   "source": [
    "word_frequency = pd.Series(' '.join(raw_data['review_text'].iloc[:100000]).split()).value_counts()[:50]\n",
    "word_frequency"
   ]
  },
  {
   "cell_type": "code",
   "execution_count": 73,
   "metadata": {},
   "outputs": [],
   "source": [
    "# from the frequency of the words we can identify some of the words are commonly used filler words\n",
    "\n",
    "custom_stopwords = [\"im\",\"ive\",]"
   ]
  },
  {
   "cell_type": "code",
   "execution_count": 74,
   "metadata": {},
   "outputs": [],
   "source": [
    "stop.extend(custom_stopwords)"
   ]
  },
  {
   "cell_type": "code",
   "execution_count": 75,
   "metadata": {},
   "outputs": [],
   "source": [
    "raw_data['review_text'] = raw_data['review_text'].apply(lambda x: remove_stopwords(x))"
   ]
  },
  {
   "cell_type": "code",
   "execution_count": 77,
   "metadata": {},
   "outputs": [],
   "source": [
    "raw_data['summary'] = raw_data['summary'].apply(lambda x: remove_stopwords(x))"
   ]
  },
  {
   "cell_type": "code",
   "execution_count": 78,
   "metadata": {},
   "outputs": [
    {
     "data": {
      "text/plain": [
       "game          236640\n",
       "one            53362\n",
       "games          52323\n",
       "like           50174\n",
       "get            44541\n",
       "great          40829\n",
       "play           40252\n",
       "good           35888\n",
       "time           32267\n",
       "graphics       30460\n",
       "fun            29637\n",
       "first          27146\n",
       "really         25827\n",
       "best           25309\n",
       "even           25288\n",
       "dont           24204\n",
       "also           23265\n",
       "much           22656\n",
       "would          22283\n",
       "well           20867\n",
       "new            20632\n",
       "played         20409\n",
       "still          19374\n",
       "playing        19028\n",
       "buy            18377\n",
       "better         17777\n",
       "many           16991\n",
       "ever           16306\n",
       "characters     16135\n",
       "story          15564\n",
       "go             15197\n",
       "make           14969\n",
       "way            14583\n",
       "love           14313\n",
       "got            13738\n",
       "people         13442\n",
       "system         13272\n",
       "little         13244\n",
       "think          13026\n",
       "gameplay       12962\n",
       "want           12923\n",
       "back           12923\n",
       "could          12315\n",
       "find           12038\n",
       "different      12005\n",
       "say            11773\n",
       "thing          11364\n",
       "lot            11236\n",
       "see            11187\n",
       "use            11135\n",
       "dtype: int64"
      ]
     },
     "execution_count": 78,
     "metadata": {},
     "output_type": "execute_result"
    }
   ],
   "source": [
    "word_frequency = pd.Series(' '.join(raw_data['review_text'].iloc[:100000]).split()).value_counts()[:50]\n",
    "word_frequency"
   ]
  },
  {
   "cell_type": "markdown",
   "metadata": {},
   "source": [
    "#### **Duplicate Review Analysis**\n",
    "\n",
    "One of the major issues in the review analysis are the duplicate and fake and paid reviews which are made to give \n",
    "good reputation for the product."
   ]
  },
  {
   "cell_type": "code",
   "execution_count": 82,
   "metadata": {},
   "outputs": [
    {
     "name": "stdout",
     "output_type": "stream",
     "text": [
      "<class 'pandas.core.frame.DataFrame'>\n",
      "RangeIndex: 2562850 entries, 0 to 2562849\n",
      "Data columns (total 13 columns):\n",
      " #   Column             Dtype         \n",
      "---  ------             -----         \n",
      " 0   reviewer_id        object        \n",
      " 1   product_id         object        \n",
      " 2   verified           bool          \n",
      " 3   review_time        datetime64[ns]\n",
      " 4   helpfullness_vote  int32         \n",
      " 5   summary            object        \n",
      " 6   review_text        object        \n",
      " 7   ratings            int32         \n",
      " 8   stopwords          int64         \n",
      " 9   punctuation        int64         \n",
      " 10  hastags            int64         \n",
      " 11  numerics           int64         \n",
      " 12  word_count         int64         \n",
      "dtypes: bool(1), datetime64[ns](1), int32(2), int64(5), object(4)\n",
      "memory usage: 217.5+ MB\n"
     ]
    }
   ],
   "source": [
    "raw_data.info()"
   ]
  },
  {
   "cell_type": "code",
   "execution_count": 84,
   "metadata": {},
   "outputs": [
    {
     "data": {
      "text/html": [
       "<div>\n",
       "<style scoped>\n",
       "    .dataframe tbody tr th:only-of-type {\n",
       "        vertical-align: middle;\n",
       "    }\n",
       "\n",
       "    .dataframe tbody tr th {\n",
       "        vertical-align: top;\n",
       "    }\n",
       "\n",
       "    .dataframe thead th {\n",
       "        text-align: right;\n",
       "    }\n",
       "</style>\n",
       "<table border=\"1\" class=\"dataframe\">\n",
       "  <thead>\n",
       "    <tr style=\"text-align: right;\">\n",
       "      <th></th>\n",
       "      <th>helpfullness_vote</th>\n",
       "      <th>ratings</th>\n",
       "      <th>stopwords</th>\n",
       "      <th>punctuation</th>\n",
       "      <th>hastags</th>\n",
       "      <th>numerics</th>\n",
       "      <th>word_count</th>\n",
       "    </tr>\n",
       "  </thead>\n",
       "  <tbody>\n",
       "    <tr>\n",
       "      <th>count</th>\n",
       "      <td>2562850.0</td>\n",
       "      <td>2562850.0</td>\n",
       "      <td>2562850.0</td>\n",
       "      <td>2562850.0</td>\n",
       "      <td>2562850.0</td>\n",
       "      <td>2562850.0</td>\n",
       "      <td>2562850.0</td>\n",
       "    </tr>\n",
       "    <tr>\n",
       "      <th>mean</th>\n",
       "      <td>1.5</td>\n",
       "      <td>4.0</td>\n",
       "      <td>30.8</td>\n",
       "      <td>12.2</td>\n",
       "      <td>0.0</td>\n",
       "      <td>0.4</td>\n",
       "      <td>36.9</td>\n",
       "    </tr>\n",
       "    <tr>\n",
       "      <th>std</th>\n",
       "      <td>12.9</td>\n",
       "      <td>1.4</td>\n",
       "      <td>61.9</td>\n",
       "      <td>27.5</td>\n",
       "      <td>0.1</td>\n",
       "      <td>1.3</td>\n",
       "      <td>73.5</td>\n",
       "    </tr>\n",
       "    <tr>\n",
       "      <th>min</th>\n",
       "      <td>0.0</td>\n",
       "      <td>1.0</td>\n",
       "      <td>0.0</td>\n",
       "      <td>0.0</td>\n",
       "      <td>0.0</td>\n",
       "      <td>0.0</td>\n",
       "      <td>1.0</td>\n",
       "    </tr>\n",
       "    <tr>\n",
       "      <th>25%</th>\n",
       "      <td>0.0</td>\n",
       "      <td>3.0</td>\n",
       "      <td>3.0</td>\n",
       "      <td>2.0</td>\n",
       "      <td>0.0</td>\n",
       "      <td>0.0</td>\n",
       "      <td>6.0</td>\n",
       "    </tr>\n",
       "    <tr>\n",
       "      <th>50%</th>\n",
       "      <td>0.0</td>\n",
       "      <td>5.0</td>\n",
       "      <td>12.0</td>\n",
       "      <td>4.0</td>\n",
       "      <td>0.0</td>\n",
       "      <td>0.0</td>\n",
       "      <td>14.0</td>\n",
       "    </tr>\n",
       "    <tr>\n",
       "      <th>75%</th>\n",
       "      <td>0.0</td>\n",
       "      <td>5.0</td>\n",
       "      <td>32.0</td>\n",
       "      <td>11.0</td>\n",
       "      <td>0.0</td>\n",
       "      <td>0.0</td>\n",
       "      <td>37.0</td>\n",
       "    </tr>\n",
       "    <tr>\n",
       "      <th>max</th>\n",
       "      <td>5154.0</td>\n",
       "      <td>5.0</td>\n",
       "      <td>2737.0</td>\n",
       "      <td>3172.0</td>\n",
       "      <td>40.0</td>\n",
       "      <td>236.0</td>\n",
       "      <td>3616.0</td>\n",
       "    </tr>\n",
       "  </tbody>\n",
       "</table>\n",
       "</div>"
      ],
      "text/plain": [
       "       helpfullness_vote    ratings  stopwords  punctuation    hastags  \\\n",
       "count          2562850.0  2562850.0  2562850.0    2562850.0  2562850.0   \n",
       "mean                 1.5        4.0       30.8         12.2        0.0   \n",
       "std                 12.9        1.4       61.9         27.5        0.1   \n",
       "min                  0.0        1.0        0.0          0.0        0.0   \n",
       "25%                  0.0        3.0        3.0          2.0        0.0   \n",
       "50%                  0.0        5.0       12.0          4.0        0.0   \n",
       "75%                  0.0        5.0       32.0         11.0        0.0   \n",
       "max               5154.0        5.0     2737.0       3172.0       40.0   \n",
       "\n",
       "        numerics  word_count  \n",
       "count  2562850.0   2562850.0  \n",
       "mean         0.4        36.9  \n",
       "std          1.3        73.5  \n",
       "min          0.0         1.0  \n",
       "25%          0.0         6.0  \n",
       "50%          0.0        14.0  \n",
       "75%          0.0        37.0  \n",
       "max        236.0      3616.0  "
      ]
     },
     "execution_count": 84,
     "metadata": {},
     "output_type": "execute_result"
    }
   ],
   "source": [
    "raw_data.describe().round(1)"
   ]
  },
  {
   "cell_type": "markdown",
   "metadata": {},
   "source": [
    "1.Using Helpfull vote feature"
   ]
  },
  {
   "cell_type": "code",
   "execution_count": 7,
   "metadata": {},
   "outputs": [],
   "source": [
    "duplicate = raw_data[['review_text','verified','helpfullness_vote']]"
   ]
  },
  {
   "cell_type": "code",
   "execution_count": 13,
   "metadata": {},
   "outputs": [
    {
     "data": {
      "text/html": [
       "<div>\n",
       "<style scoped>\n",
       "    .dataframe tbody tr th:only-of-type {\n",
       "        vertical-align: middle;\n",
       "    }\n",
       "\n",
       "    .dataframe tbody tr th {\n",
       "        vertical-align: top;\n",
       "    }\n",
       "\n",
       "    .dataframe thead th {\n",
       "        text-align: right;\n",
       "    }\n",
       "</style>\n",
       "<table border=\"1\" class=\"dataframe\">\n",
       "  <thead>\n",
       "    <tr style=\"text-align: right;\">\n",
       "      <th></th>\n",
       "      <th>review_text</th>\n",
       "      <th>verified</th>\n",
       "      <th>helpfullness_vote</th>\n",
       "    </tr>\n",
       "  </thead>\n",
       "  <tbody>\n",
       "    <tr>\n",
       "      <th>1536670</th>\n",
       "      <td>ac unity true nextgen fact nextgen isnt even f...</td>\n",
       "      <td>False</td>\n",
       "      <td>5154</td>\n",
       "    </tr>\n",
       "    <tr>\n",
       "      <th>501970</th>\n",
       "      <td>last years served constant whipping post thous...</td>\n",
       "      <td>False</td>\n",
       "      <td>4108</td>\n",
       "    </tr>\n",
       "    <tr>\n",
       "      <th>576002</th>\n",
       "      <td>last years served constant whipping post thous...</td>\n",
       "      <td>False</td>\n",
       "      <td>4108</td>\n",
       "    </tr>\n",
       "    <tr>\n",
       "      <th>824735</th>\n",
       "      <td>great system easy use futuristic onscreen inte...</td>\n",
       "      <td>True</td>\n",
       "      <td>3744</td>\n",
       "    </tr>\n",
       "    <tr>\n",
       "      <th>721859</th>\n",
       "      <td>intro years wanting wii finally got one course...</td>\n",
       "      <td>False</td>\n",
       "      <td>3005</td>\n",
       "    </tr>\n",
       "    <tr>\n",
       "      <th>576397</th>\n",
       "      <td>hesitant write review long playing classes don...</td>\n",
       "      <td>True</td>\n",
       "      <td>2986</td>\n",
       "    </tr>\n",
       "    <tr>\n",
       "      <th>502365</th>\n",
       "      <td>hesitant write review long playing classes don...</td>\n",
       "      <td>True</td>\n",
       "      <td>2986</td>\n",
       "    </tr>\n",
       "    <tr>\n",
       "      <th>459445</th>\n",
       "      <td>one respect blizzard setting release date knew...</td>\n",
       "      <td>False</td>\n",
       "      <td>2474</td>\n",
       "    </tr>\n",
       "    <tr>\n",
       "      <th>533477</th>\n",
       "      <td>one respect blizzard setting release date knew...</td>\n",
       "      <td>False</td>\n",
       "      <td>2474</td>\n",
       "    </tr>\n",
       "    <tr>\n",
       "      <th>242206</th>\n",
       "      <td>got hands xbox wii launch day good specific ta...</td>\n",
       "      <td>False</td>\n",
       "      <td>2403</td>\n",
       "    </tr>\n",
       "    <tr>\n",
       "      <th>853311</th>\n",
       "      <td>give review perspective playing various iterat...</td>\n",
       "      <td>False</td>\n",
       "      <td>2211</td>\n",
       "    </tr>\n",
       "    <tr>\n",
       "      <th>360576</th>\n",
       "      <td>lets keep sweet organized fair undisputed fact...</td>\n",
       "      <td>False</td>\n",
       "      <td>1953</td>\n",
       "    </tr>\n",
       "    <tr>\n",
       "      <th>294677</th>\n",
       "      <td>currently rate game bad following think game l...</td>\n",
       "      <td>False</td>\n",
       "      <td>1917</td>\n",
       "    </tr>\n",
       "    <tr>\n",
       "      <th>1379099</th>\n",
       "      <td>sim gamer beginning followed whole time rather...</td>\n",
       "      <td>False</td>\n",
       "      <td>1824</td>\n",
       "    </tr>\n",
       "    <tr>\n",
       "      <th>1827114</th>\n",
       "      <td>ok game problem isnt much game speak partially...</td>\n",
       "      <td>False</td>\n",
       "      <td>1717</td>\n",
       "    </tr>\n",
       "    <tr>\n",
       "      <th>225375</th>\n",
       "      <td>youve probably done lot research read reviews ...</td>\n",
       "      <td>False</td>\n",
       "      <td>1698</td>\n",
       "    </tr>\n",
       "    <tr>\n",
       "      <th>266839</th>\n",
       "      <td>first otherwise happy xbox live gold member in...</td>\n",
       "      <td>False</td>\n",
       "      <td>1594</td>\n",
       "    </tr>\n",
       "    <tr>\n",
       "      <th>494243</th>\n",
       "      <td>many different sims players buying game years ...</td>\n",
       "      <td>False</td>\n",
       "      <td>1532</td>\n",
       "    </tr>\n",
       "    <tr>\n",
       "      <th>568275</th>\n",
       "      <td>many different sims players buying game years ...</td>\n",
       "      <td>False</td>\n",
       "      <td>1532</td>\n",
       "    </tr>\n",
       "    <tr>\n",
       "      <th>167271</th>\n",
       "      <td>believe game best pc selling game ever options...</td>\n",
       "      <td>False</td>\n",
       "      <td>1411</td>\n",
       "    </tr>\n",
       "    <tr>\n",
       "      <th>1827054</th>\n",
       "      <td>would much rather blow dust play battlefront y...</td>\n",
       "      <td>False</td>\n",
       "      <td>1410</td>\n",
       "    </tr>\n",
       "    <tr>\n",
       "      <th>1075977</th>\n",
       "      <td>cost effective way get wireless controllers wo...</td>\n",
       "      <td>True</td>\n",
       "      <td>1351</td>\n",
       "    </tr>\n",
       "    <tr>\n",
       "      <th>1274649</th>\n",
       "      <td>got xbox one launch day play find think system...</td>\n",
       "      <td>False</td>\n",
       "      <td>1333</td>\n",
       "    </tr>\n",
       "    <tr>\n",
       "      <th>655928</th>\n",
       "      <td>initial impression wii active awesome awesome ...</td>\n",
       "      <td>True</td>\n",
       "      <td>1313</td>\n",
       "    </tr>\n",
       "    <tr>\n",
       "      <th>353144</th>\n",
       "      <td>people reviewing tell difference standard av c...</td>\n",
       "      <td>False</td>\n",
       "      <td>1313</td>\n",
       "    </tr>\n",
       "    <tr>\n",
       "      <th>576531</th>\n",
       "      <td>best part game seeing minutes cinematics serio...</td>\n",
       "      <td>False</td>\n",
       "      <td>1302</td>\n",
       "    </tr>\n",
       "    <tr>\n",
       "      <th>502499</th>\n",
       "      <td>best part game seeing minutes cinematics serio...</td>\n",
       "      <td>False</td>\n",
       "      <td>1302</td>\n",
       "    </tr>\n",
       "    <tr>\n",
       "      <th>1056599</th>\n",
       "      <td>since madden oh proud fictional twitter feed d...</td>\n",
       "      <td>False</td>\n",
       "      <td>1286</td>\n",
       "    </tr>\n",
       "    <tr>\n",
       "      <th>725661</th>\n",
       "      <td>youre like got wii fit used times put closet n...</td>\n",
       "      <td>False</td>\n",
       "      <td>1250</td>\n",
       "    </tr>\n",
       "    <tr>\n",
       "      <th>436343</th>\n",
       "      <td>wii fit since last week fluctuates wedding com...</td>\n",
       "      <td>False</td>\n",
       "      <td>1241</td>\n",
       "    </tr>\n",
       "    <tr>\n",
       "      <th>510375</th>\n",
       "      <td>wii fit since last week fluctuates wedding com...</td>\n",
       "      <td>False</td>\n",
       "      <td>1241</td>\n",
       "    </tr>\n",
       "    <tr>\n",
       "      <th>1905659</th>\n",
       "      <td>like many excited mans sky allow provide frame...</td>\n",
       "      <td>False</td>\n",
       "      <td>1239</td>\n",
       "    </tr>\n",
       "    <tr>\n",
       "      <th>352295</th>\n",
       "      <td>wii requires sensor bar tv screen tell screen ...</td>\n",
       "      <td>False</td>\n",
       "      <td>1236</td>\n",
       "    </tr>\n",
       "    <tr>\n",
       "      <th>298970</th>\n",
       "      <td>people doubt find nintendo ds lite way nintend...</td>\n",
       "      <td>False</td>\n",
       "      <td>1235</td>\n",
       "    </tr>\n",
       "    <tr>\n",
       "      <th>637954</th>\n",
       "      <td>div classasection aspacingsmall aspacingtopmin...</td>\n",
       "      <td>True</td>\n",
       "      <td>1229</td>\n",
       "    </tr>\n",
       "    <tr>\n",
       "      <th>974546</th>\n",
       "      <td>seeing lot superlatives thrown around reviews ...</td>\n",
       "      <td>True</td>\n",
       "      <td>1214</td>\n",
       "    </tr>\n",
       "    <tr>\n",
       "      <th>1137495</th>\n",
       "      <td>instructions windows specifically even take di...</td>\n",
       "      <td>True</td>\n",
       "      <td>1211</td>\n",
       "    </tr>\n",
       "    <tr>\n",
       "      <th>351118</th>\n",
       "      <td>rating based theory game bundled remote worth ...</td>\n",
       "      <td>False</td>\n",
       "      <td>1158</td>\n",
       "    </tr>\n",
       "    <tr>\n",
       "      <th>438465</th>\n",
       "      <td>first remember game way get minutes daily exer...</td>\n",
       "      <td>False</td>\n",
       "      <td>1142</td>\n",
       "    </tr>\n",
       "    <tr>\n",
       "      <th>512497</th>\n",
       "      <td>first remember game way get minutes daily exer...</td>\n",
       "      <td>False</td>\n",
       "      <td>1142</td>\n",
       "    </tr>\n",
       "    <tr>\n",
       "      <th>2086649</th>\n",
       "      <td>probably first vr experience reading thoughts ...</td>\n",
       "      <td>True</td>\n",
       "      <td>1134</td>\n",
       "    </tr>\n",
       "    <tr>\n",
       "      <th>696384</th>\n",
       "      <td>buy game total waste hard earned money read re...</td>\n",
       "      <td>False</td>\n",
       "      <td>1133</td>\n",
       "    </tr>\n",
       "    <tr>\n",
       "      <th>576961</th>\n",
       "      <td>well applaud blizzard reality business stand p...</td>\n",
       "      <td>False</td>\n",
       "      <td>1129</td>\n",
       "    </tr>\n",
       "    <tr>\n",
       "      <th>502929</th>\n",
       "      <td>well applaud blizzard reality business stand p...</td>\n",
       "      <td>False</td>\n",
       "      <td>1129</td>\n",
       "    </tr>\n",
       "    <tr>\n",
       "      <th>287047</th>\n",
       "      <td>slouched computer chair type bloody winded def...</td>\n",
       "      <td>False</td>\n",
       "      <td>1125</td>\n",
       "    </tr>\n",
       "    <tr>\n",
       "      <th>1771815</th>\n",
       "      <td>best version system found far careful model en...</td>\n",
       "      <td>True</td>\n",
       "      <td>1120</td>\n",
       "    </tr>\n",
       "    <tr>\n",
       "      <th>462560</th>\n",
       "      <td>watched starcraft amazon reviews come great sa...</td>\n",
       "      <td>False</td>\n",
       "      <td>1109</td>\n",
       "    </tr>\n",
       "    <tr>\n",
       "      <th>536592</th>\n",
       "      <td>watched starcraft amazon reviews come great sa...</td>\n",
       "      <td>False</td>\n",
       "      <td>1109</td>\n",
       "    </tr>\n",
       "    <tr>\n",
       "      <th>972495</th>\n",
       "      <td>ok know little old playing going country let a...</td>\n",
       "      <td>True</td>\n",
       "      <td>1095</td>\n",
       "    </tr>\n",
       "    <tr>\n",
       "      <th>483001</th>\n",
       "      <td>reviewing content game except say bioware prev...</td>\n",
       "      <td>False</td>\n",
       "      <td>1041</td>\n",
       "    </tr>\n",
       "  </tbody>\n",
       "</table>\n",
       "</div>"
      ],
      "text/plain": [
       "                                               review_text  verified  \\\n",
       "1536670  ac unity true nextgen fact nextgen isnt even f...     False   \n",
       "501970   last years served constant whipping post thous...     False   \n",
       "576002   last years served constant whipping post thous...     False   \n",
       "824735   great system easy use futuristic onscreen inte...      True   \n",
       "721859   intro years wanting wii finally got one course...     False   \n",
       "576397   hesitant write review long playing classes don...      True   \n",
       "502365   hesitant write review long playing classes don...      True   \n",
       "459445   one respect blizzard setting release date knew...     False   \n",
       "533477   one respect blizzard setting release date knew...     False   \n",
       "242206   got hands xbox wii launch day good specific ta...     False   \n",
       "853311   give review perspective playing various iterat...     False   \n",
       "360576   lets keep sweet organized fair undisputed fact...     False   \n",
       "294677   currently rate game bad following think game l...     False   \n",
       "1379099  sim gamer beginning followed whole time rather...     False   \n",
       "1827114  ok game problem isnt much game speak partially...     False   \n",
       "225375   youve probably done lot research read reviews ...     False   \n",
       "266839   first otherwise happy xbox live gold member in...     False   \n",
       "494243   many different sims players buying game years ...     False   \n",
       "568275   many different sims players buying game years ...     False   \n",
       "167271   believe game best pc selling game ever options...     False   \n",
       "1827054  would much rather blow dust play battlefront y...     False   \n",
       "1075977  cost effective way get wireless controllers wo...      True   \n",
       "1274649  got xbox one launch day play find think system...     False   \n",
       "655928   initial impression wii active awesome awesome ...      True   \n",
       "353144   people reviewing tell difference standard av c...     False   \n",
       "576531   best part game seeing minutes cinematics serio...     False   \n",
       "502499   best part game seeing minutes cinematics serio...     False   \n",
       "1056599  since madden oh proud fictional twitter feed d...     False   \n",
       "725661   youre like got wii fit used times put closet n...     False   \n",
       "436343   wii fit since last week fluctuates wedding com...     False   \n",
       "510375   wii fit since last week fluctuates wedding com...     False   \n",
       "1905659  like many excited mans sky allow provide frame...     False   \n",
       "352295   wii requires sensor bar tv screen tell screen ...     False   \n",
       "298970   people doubt find nintendo ds lite way nintend...     False   \n",
       "637954   div classasection aspacingsmall aspacingtopmin...      True   \n",
       "974546   seeing lot superlatives thrown around reviews ...      True   \n",
       "1137495  instructions windows specifically even take di...      True   \n",
       "351118   rating based theory game bundled remote worth ...     False   \n",
       "438465   first remember game way get minutes daily exer...     False   \n",
       "512497   first remember game way get minutes daily exer...     False   \n",
       "2086649  probably first vr experience reading thoughts ...      True   \n",
       "696384   buy game total waste hard earned money read re...     False   \n",
       "576961   well applaud blizzard reality business stand p...     False   \n",
       "502929   well applaud blizzard reality business stand p...     False   \n",
       "287047   slouched computer chair type bloody winded def...     False   \n",
       "1771815  best version system found far careful model en...      True   \n",
       "462560   watched starcraft amazon reviews come great sa...     False   \n",
       "536592   watched starcraft amazon reviews come great sa...     False   \n",
       "972495   ok know little old playing going country let a...      True   \n",
       "483001   reviewing content game except say bioware prev...     False   \n",
       "\n",
       "         helpfullness_vote  \n",
       "1536670               5154  \n",
       "501970                4108  \n",
       "576002                4108  \n",
       "824735                3744  \n",
       "721859                3005  \n",
       "576397                2986  \n",
       "502365                2986  \n",
       "459445                2474  \n",
       "533477                2474  \n",
       "242206                2403  \n",
       "853311                2211  \n",
       "360576                1953  \n",
       "294677                1917  \n",
       "1379099               1824  \n",
       "1827114               1717  \n",
       "225375                1698  \n",
       "266839                1594  \n",
       "494243                1532  \n",
       "568275                1532  \n",
       "167271                1411  \n",
       "1827054               1410  \n",
       "1075977               1351  \n",
       "1274649               1333  \n",
       "655928                1313  \n",
       "353144                1313  \n",
       "576531                1302  \n",
       "502499                1302  \n",
       "1056599               1286  \n",
       "725661                1250  \n",
       "436343                1241  \n",
       "510375                1241  \n",
       "1905659               1239  \n",
       "352295                1236  \n",
       "298970                1235  \n",
       "637954                1229  \n",
       "974546                1214  \n",
       "1137495               1211  \n",
       "351118                1158  \n",
       "438465                1142  \n",
       "512497                1142  \n",
       "2086649               1134  \n",
       "696384                1133  \n",
       "576961                1129  \n",
       "502929                1129  \n",
       "287047                1125  \n",
       "1771815               1120  \n",
       "462560                1109  \n",
       "536592                1109  \n",
       "972495                1095  \n",
       "483001                1041  "
      ]
     },
     "execution_count": 13,
     "metadata": {},
     "output_type": "execute_result"
    }
   ],
   "source": [
    "duplicate.sort_values(by='helpfullness_vote', ascending=False).head(50)"
   ]
  },
  {
   "cell_type": "markdown",
   "metadata": {},
   "source": [
    "#### Inference: </br>\n",
    "From this initial analysis only we can find lot of reviews with high number of votes are almost same\n",
    "reviews with same number of votes they can be assumed as duplicate reviews or fake reviews made by the company itself\n"
   ]
  },
  {
   "cell_type": "markdown",
   "metadata": {},
   "source": [
    "2. using stopwords and word count"
   ]
  },
  {
   "cell_type": "code",
   "execution_count": 14,
   "metadata": {},
   "outputs": [
    {
     "data": {
      "text/html": [
       "<div>\n",
       "<style scoped>\n",
       "    .dataframe tbody tr th:only-of-type {\n",
       "        vertical-align: middle;\n",
       "    }\n",
       "\n",
       "    .dataframe tbody tr th {\n",
       "        vertical-align: top;\n",
       "    }\n",
       "\n",
       "    .dataframe thead th {\n",
       "        text-align: right;\n",
       "    }\n",
       "</style>\n",
       "<table border=\"1\" class=\"dataframe\">\n",
       "  <thead>\n",
       "    <tr style=\"text-align: right;\">\n",
       "      <th></th>\n",
       "      <th>review_text</th>\n",
       "      <th>stopwords</th>\n",
       "      <th>word_count</th>\n",
       "    </tr>\n",
       "  </thead>\n",
       "  <tbody>\n",
       "    <tr>\n",
       "      <th>575734</th>\n",
       "      <td>played diablo hours gaming diablo say game goo...</td>\n",
       "      <td>2737</td>\n",
       "      <td>2947</td>\n",
       "    </tr>\n",
       "    <tr>\n",
       "      <th>501702</th>\n",
       "      <td>played diablo hours gaming diablo say game goo...</td>\n",
       "      <td>2737</td>\n",
       "      <td>2947</td>\n",
       "    </tr>\n",
       "    <tr>\n",
       "      <th>951991</th>\n",
       "      <td>review one posted standard edition game howeve...</td>\n",
       "      <td>2614</td>\n",
       "      <td>2893</td>\n",
       "    </tr>\n",
       "    <tr>\n",
       "      <th>48430</th>\n",
       "      <td>shigeru miyamoto created masterpiece created m...</td>\n",
       "      <td>2596</td>\n",
       "      <td>2909</td>\n",
       "    </tr>\n",
       "    <tr>\n",
       "      <th>723842</th>\n",
       "      <td>review whole game single multiplayer almost ye...</td>\n",
       "      <td>2542</td>\n",
       "      <td>2900</td>\n",
       "    </tr>\n",
       "    <tr>\n",
       "      <th>853514</th>\n",
       "      <td>deal reviewing game steam account annoyances a...</td>\n",
       "      <td>2507</td>\n",
       "      <td>2820</td>\n",
       "    </tr>\n",
       "    <tr>\n",
       "      <th>616798</th>\n",
       "      <td>edited brevityreadability corrected typos cont...</td>\n",
       "      <td>2493</td>\n",
       "      <td>2694</td>\n",
       "    </tr>\n",
       "    <tr>\n",
       "      <th>721839</th>\n",
       "      <td>first something important share yall last zeld...</td>\n",
       "      <td>2392</td>\n",
       "      <td>2954</td>\n",
       "    </tr>\n",
       "    <tr>\n",
       "      <th>958454</th>\n",
       "      <td>witcher assassin kings developers cd projekt r...</td>\n",
       "      <td>2379</td>\n",
       "      <td>2924</td>\n",
       "    </tr>\n",
       "    <tr>\n",
       "      <th>289975</th>\n",
       "      <td>overview since point reviews help others make ...</td>\n",
       "      <td>2359</td>\n",
       "      <td>2811</td>\n",
       "    </tr>\n",
       "    <tr>\n",
       "      <th>1838681</th>\n",
       "      <td>youve ever wanted video game inspired movies d...</td>\n",
       "      <td>2295</td>\n",
       "      <td>2790</td>\n",
       "    </tr>\n",
       "    <tr>\n",
       "      <th>850523</th>\n",
       "      <td>dragon age origins ultimate edition origins dl...</td>\n",
       "      <td>2270</td>\n",
       "      <td>2929</td>\n",
       "    </tr>\n",
       "    <tr>\n",
       "      <th>878652</th>\n",
       "      <td>text permission heinkill battle britain gamehu...</td>\n",
       "      <td>2259</td>\n",
       "      <td>2967</td>\n",
       "    </tr>\n",
       "    <tr>\n",
       "      <th>434313</th>\n",
       "      <td>title says excited finally able play mod wish ...</td>\n",
       "      <td>2225</td>\n",
       "      <td>2656</td>\n",
       "    </tr>\n",
       "    <tr>\n",
       "      <th>1865390</th>\n",
       "      <td>note review games originally appeared also lon...</td>\n",
       "      <td>2223</td>\n",
       "      <td>2319</td>\n",
       "    </tr>\n",
       "    <tr>\n",
       "      <th>1906281</th>\n",
       "      <td>honestly surprised amazon taking part manufact...</td>\n",
       "      <td>2203</td>\n",
       "      <td>2651</td>\n",
       "    </tr>\n",
       "    <tr>\n",
       "      <th>197950</th>\n",
       "      <td>love game super amazing rpg review star wars k...</td>\n",
       "      <td>2202</td>\n",
       "      <td>1985</td>\n",
       "    </tr>\n",
       "    <tr>\n",
       "      <th>197951</th>\n",
       "      <td>love game super amazing rpg review star wars k...</td>\n",
       "      <td>2202</td>\n",
       "      <td>1985</td>\n",
       "    </tr>\n",
       "    <tr>\n",
       "      <th>201880</th>\n",
       "      <td>love game super amazing rpg review star wars k...</td>\n",
       "      <td>2183</td>\n",
       "      <td>1971</td>\n",
       "    </tr>\n",
       "    <tr>\n",
       "      <th>958234</th>\n",
       "      <td>game gets one star tons flaws even bugs game a...</td>\n",
       "      <td>2149</td>\n",
       "      <td>2389</td>\n",
       "    </tr>\n",
       "    <tr>\n",
       "      <th>2485564</th>\n",
       "      <td>note right get game gog moneyback guarantee sh...</td>\n",
       "      <td>2143</td>\n",
       "      <td>2534</td>\n",
       "    </tr>\n",
       "    <tr>\n",
       "      <th>1378789</th>\n",
       "      <td>ithe sims mired controversy since release many...</td>\n",
       "      <td>2135</td>\n",
       "      <td>2599</td>\n",
       "    </tr>\n",
       "    <tr>\n",
       "      <th>496448</th>\n",
       "      <td>hello unsure whether buy red alert well hope r...</td>\n",
       "      <td>2131</td>\n",
       "      <td>2345</td>\n",
       "    </tr>\n",
       "    <tr>\n",
       "      <th>570480</th>\n",
       "      <td>hello unsure whether buy red alert well hope r...</td>\n",
       "      <td>2131</td>\n",
       "      <td>2345</td>\n",
       "    </tr>\n",
       "    <tr>\n",
       "      <th>721957</th>\n",
       "      <td>super mario galaxy unfortunately unforgivably ...</td>\n",
       "      <td>2117</td>\n",
       "      <td>3057</td>\n",
       "    </tr>\n",
       "    <tr>\n",
       "      <th>1602412</th>\n",
       "      <td>hey folks wanted point couple important things...</td>\n",
       "      <td>2114</td>\n",
       "      <td>2627</td>\n",
       "    </tr>\n",
       "    <tr>\n",
       "      <th>1620008</th>\n",
       "      <td>bloodborne review introduction bloodborne succ...</td>\n",
       "      <td>2111</td>\n",
       "      <td>2382</td>\n",
       "    </tr>\n",
       "    <tr>\n",
       "      <th>935041</th>\n",
       "      <td>order cure must first understand days later fr...</td>\n",
       "      <td>2064</td>\n",
       "      <td>2487</td>\n",
       "    </tr>\n",
       "    <tr>\n",
       "      <th>462469</th>\n",
       "      <td>long didnt read notes lot discussion added cli...</td>\n",
       "      <td>2064</td>\n",
       "      <td>2377</td>\n",
       "    </tr>\n",
       "    <tr>\n",
       "      <th>536501</th>\n",
       "      <td>long didnt read notes lot discussion added cli...</td>\n",
       "      <td>2064</td>\n",
       "      <td>2377</td>\n",
       "    </tr>\n",
       "    <tr>\n",
       "      <th>1406360</th>\n",
       "      <td>update gave month mouse unpairing times day at...</td>\n",
       "      <td>2059</td>\n",
       "      <td>2298</td>\n",
       "    </tr>\n",
       "    <tr>\n",
       "      <th>302343</th>\n",
       "      <td>note review detailed offers significant story ...</td>\n",
       "      <td>2058</td>\n",
       "      <td>2457</td>\n",
       "    </tr>\n",
       "    <tr>\n",
       "      <th>1129698</th>\n",
       "      <td>final entry final fantasy xiii trilogy summari...</td>\n",
       "      <td>2034</td>\n",
       "      <td>2737</td>\n",
       "    </tr>\n",
       "    <tr>\n",
       "      <th>1565413</th>\n",
       "      <td>ten months ago madden nfl franchise ea sports ...</td>\n",
       "      <td>2032</td>\n",
       "      <td>2669</td>\n",
       "    </tr>\n",
       "    <tr>\n",
       "      <th>944700</th>\n",
       "      <td>order cure must first understand days later fr...</td>\n",
       "      <td>2024</td>\n",
       "      <td>2422</td>\n",
       "    </tr>\n",
       "    <tr>\n",
       "      <th>224082</th>\n",
       "      <td>ever since mario sonic era favorite video game...</td>\n",
       "      <td>2010</td>\n",
       "      <td>2197</td>\n",
       "    </tr>\n",
       "    <tr>\n",
       "      <th>944986</th>\n",
       "      <td>hello ill reviewing far cry todayill writing p...</td>\n",
       "      <td>1991</td>\n",
       "      <td>2611</td>\n",
       "    </tr>\n",
       "    <tr>\n",
       "      <th>2372125</th>\n",
       "      <td>ever said final fantasy ii black sheep series ...</td>\n",
       "      <td>1990</td>\n",
       "      <td>2696</td>\n",
       "    </tr>\n",
       "    <tr>\n",
       "      <th>49759</th>\n",
       "      <td>statsic first two boss due gutsman cut man tak...</td>\n",
       "      <td>1980</td>\n",
       "      <td>2380</td>\n",
       "    </tr>\n",
       "    <tr>\n",
       "      <th>104646</th>\n",
       "      <td>alrighty lets take top cases beginning final f...</td>\n",
       "      <td>1979</td>\n",
       "      <td>2679</td>\n",
       "    </tr>\n",
       "    <tr>\n",
       "      <th>1036384</th>\n",
       "      <td>hi ill writing detailed review fallout new veg...</td>\n",
       "      <td>1955</td>\n",
       "      <td>2463</td>\n",
       "    </tr>\n",
       "    <tr>\n",
       "      <th>1211176</th>\n",
       "      <td>fantasy creating experience someone else going...</td>\n",
       "      <td>1946</td>\n",
       "      <td>3059</td>\n",
       "    </tr>\n",
       "    <tr>\n",
       "      <th>598345</th>\n",
       "      <td>time favorite call duty especially custom zomb...</td>\n",
       "      <td>1941</td>\n",
       "      <td>2821</td>\n",
       "    </tr>\n",
       "    <tr>\n",
       "      <th>594171</th>\n",
       "      <td>witcher german made action roleplaying game ut...</td>\n",
       "      <td>1908</td>\n",
       "      <td>2368</td>\n",
       "    </tr>\n",
       "    <tr>\n",
       "      <th>1840162</th>\n",
       "      <td>many diehard rainbow six fans lastgen consoles...</td>\n",
       "      <td>1886</td>\n",
       "      <td>2330</td>\n",
       "    </tr>\n",
       "    <tr>\n",
       "      <th>2186422</th>\n",
       "      <td>remember kid thinking whoa dragon warrior seri...</td>\n",
       "      <td>1883</td>\n",
       "      <td>3003</td>\n",
       "    </tr>\n",
       "    <tr>\n",
       "      <th>616765</th>\n",
       "      <td>alright likely upset folks saying game isnt gr...</td>\n",
       "      <td>1871</td>\n",
       "      <td>2280</td>\n",
       "    </tr>\n",
       "    <tr>\n",
       "      <th>1228280</th>\n",
       "      <td>edit originally gave star got progressively an...</td>\n",
       "      <td>1866</td>\n",
       "      <td>2460</td>\n",
       "    </tr>\n",
       "    <tr>\n",
       "      <th>140685</th>\n",
       "      <td>decided purchase game boy traveling didnt want...</td>\n",
       "      <td>1844</td>\n",
       "      <td>2470</td>\n",
       "    </tr>\n",
       "    <tr>\n",
       "      <th>1411972</th>\n",
       "      <td>wii fit u sequel wii fit wii fit plus playable...</td>\n",
       "      <td>1832</td>\n",
       "      <td>2236</td>\n",
       "    </tr>\n",
       "  </tbody>\n",
       "</table>\n",
       "</div>"
      ],
      "text/plain": [
       "                                               review_text  stopwords  \\\n",
       "575734   played diablo hours gaming diablo say game goo...       2737   \n",
       "501702   played diablo hours gaming diablo say game goo...       2737   \n",
       "951991   review one posted standard edition game howeve...       2614   \n",
       "48430    shigeru miyamoto created masterpiece created m...       2596   \n",
       "723842   review whole game single multiplayer almost ye...       2542   \n",
       "853514   deal reviewing game steam account annoyances a...       2507   \n",
       "616798   edited brevityreadability corrected typos cont...       2493   \n",
       "721839   first something important share yall last zeld...       2392   \n",
       "958454   witcher assassin kings developers cd projekt r...       2379   \n",
       "289975   overview since point reviews help others make ...       2359   \n",
       "1838681  youve ever wanted video game inspired movies d...       2295   \n",
       "850523   dragon age origins ultimate edition origins dl...       2270   \n",
       "878652   text permission heinkill battle britain gamehu...       2259   \n",
       "434313   title says excited finally able play mod wish ...       2225   \n",
       "1865390  note review games originally appeared also lon...       2223   \n",
       "1906281  honestly surprised amazon taking part manufact...       2203   \n",
       "197950   love game super amazing rpg review star wars k...       2202   \n",
       "197951   love game super amazing rpg review star wars k...       2202   \n",
       "201880   love game super amazing rpg review star wars k...       2183   \n",
       "958234   game gets one star tons flaws even bugs game a...       2149   \n",
       "2485564  note right get game gog moneyback guarantee sh...       2143   \n",
       "1378789  ithe sims mired controversy since release many...       2135   \n",
       "496448   hello unsure whether buy red alert well hope r...       2131   \n",
       "570480   hello unsure whether buy red alert well hope r...       2131   \n",
       "721957   super mario galaxy unfortunately unforgivably ...       2117   \n",
       "1602412  hey folks wanted point couple important things...       2114   \n",
       "1620008  bloodborne review introduction bloodborne succ...       2111   \n",
       "935041   order cure must first understand days later fr...       2064   \n",
       "462469   long didnt read notes lot discussion added cli...       2064   \n",
       "536501   long didnt read notes lot discussion added cli...       2064   \n",
       "1406360  update gave month mouse unpairing times day at...       2059   \n",
       "302343   note review detailed offers significant story ...       2058   \n",
       "1129698  final entry final fantasy xiii trilogy summari...       2034   \n",
       "1565413  ten months ago madden nfl franchise ea sports ...       2032   \n",
       "944700   order cure must first understand days later fr...       2024   \n",
       "224082   ever since mario sonic era favorite video game...       2010   \n",
       "944986   hello ill reviewing far cry todayill writing p...       1991   \n",
       "2372125  ever said final fantasy ii black sheep series ...       1990   \n",
       "49759    statsic first two boss due gutsman cut man tak...       1980   \n",
       "104646   alrighty lets take top cases beginning final f...       1979   \n",
       "1036384  hi ill writing detailed review fallout new veg...       1955   \n",
       "1211176  fantasy creating experience someone else going...       1946   \n",
       "598345   time favorite call duty especially custom zomb...       1941   \n",
       "594171   witcher german made action roleplaying game ut...       1908   \n",
       "1840162  many diehard rainbow six fans lastgen consoles...       1886   \n",
       "2186422  remember kid thinking whoa dragon warrior seri...       1883   \n",
       "616765   alright likely upset folks saying game isnt gr...       1871   \n",
       "1228280  edit originally gave star got progressively an...       1866   \n",
       "140685   decided purchase game boy traveling didnt want...       1844   \n",
       "1411972  wii fit u sequel wii fit wii fit plus playable...       1832   \n",
       "\n",
       "         word_count  \n",
       "575734         2947  \n",
       "501702         2947  \n",
       "951991         2893  \n",
       "48430          2909  \n",
       "723842         2900  \n",
       "853514         2820  \n",
       "616798         2694  \n",
       "721839         2954  \n",
       "958454         2924  \n",
       "289975         2811  \n",
       "1838681        2790  \n",
       "850523         2929  \n",
       "878652         2967  \n",
       "434313         2656  \n",
       "1865390        2319  \n",
       "1906281        2651  \n",
       "197950         1985  \n",
       "197951         1985  \n",
       "201880         1971  \n",
       "958234         2389  \n",
       "2485564        2534  \n",
       "1378789        2599  \n",
       "496448         2345  \n",
       "570480         2345  \n",
       "721957         3057  \n",
       "1602412        2627  \n",
       "1620008        2382  \n",
       "935041         2487  \n",
       "462469         2377  \n",
       "536501         2377  \n",
       "1406360        2298  \n",
       "302343         2457  \n",
       "1129698        2737  \n",
       "1565413        2669  \n",
       "944700         2422  \n",
       "224082         2197  \n",
       "944986         2611  \n",
       "2372125        2696  \n",
       "49759          2380  \n",
       "104646         2679  \n",
       "1036384        2463  \n",
       "1211176        3059  \n",
       "598345         2821  \n",
       "594171         2368  \n",
       "1840162        2330  \n",
       "2186422        3003  \n",
       "616765         2280  \n",
       "1228280        2460  \n",
       "140685         2470  \n",
       "1411972        2236  "
      ]
     },
     "execution_count": 14,
     "metadata": {},
     "output_type": "execute_result"
    }
   ],
   "source": [
    "duplicate_2 = raw_data[['review_text','stopwords','word_count']]\n",
    "duplicate_2.sort_values(by='stopwords',ascending = False).head(50)\n",
    "\n",
    "'''\n",
    "From this we can again find there is lot of fake and duplicate reviews \n",
    "'''"
   ]
  },
  {
   "cell_type": "markdown",
   "metadata": {},
   "source": [
    "Comparing all the feature for duplicate reviews "
   ]
  },
  {
   "cell_type": "code",
   "execution_count": 15,
   "metadata": {},
   "outputs": [
    {
     "data": {
      "text/plain": [
       "Index(['reviewer_id', 'product_id', 'verified', 'review_time',\n",
       "       'helpfullness_vote', 'summary', 'review_text', 'ratings', 'stopwords',\n",
       "       'punctuation', 'hastags', 'numerics', 'word_count'],\n",
       "      dtype='object')"
      ]
     },
     "execution_count": 15,
     "metadata": {},
     "output_type": "execute_result"
    }
   ],
   "source": [
    "raw_data.columns"
   ]
  },
  {
   "cell_type": "code",
   "execution_count": 16,
   "metadata": {},
   "outputs": [],
   "source": [
    "duplicate_check = raw_data[['reviewer_id','helpfullness_vote','review_text','ratings',\\\n",
    "    'stopwords','word_count']]"
   ]
  },
  {
   "cell_type": "code",
   "execution_count": 18,
   "metadata": {},
   "outputs": [
    {
     "data": {
      "text/html": [
       "<div>\n",
       "<style scoped>\n",
       "    .dataframe tbody tr th:only-of-type {\n",
       "        vertical-align: middle;\n",
       "    }\n",
       "\n",
       "    .dataframe tbody tr th {\n",
       "        vertical-align: top;\n",
       "    }\n",
       "\n",
       "    .dataframe thead th {\n",
       "        text-align: right;\n",
       "    }\n",
       "</style>\n",
       "<table border=\"1\" class=\"dataframe\">\n",
       "  <thead>\n",
       "    <tr style=\"text-align: right;\">\n",
       "      <th></th>\n",
       "      <th>reviewer_id</th>\n",
       "      <th>helpfullness_vote</th>\n",
       "      <th>review_text</th>\n",
       "      <th>ratings</th>\n",
       "      <th>stopwords</th>\n",
       "      <th>word_count</th>\n",
       "    </tr>\n",
       "  </thead>\n",
       "  <tbody>\n",
       "    <tr>\n",
       "      <th>1536670</th>\n",
       "      <td>A3NKZH4M5I23ML</td>\n",
       "      <td>5154</td>\n",
       "      <td>ac unity true nextgen fact nextgen isnt even f...</td>\n",
       "      <td>1</td>\n",
       "      <td>178</td>\n",
       "      <td>219</td>\n",
       "    </tr>\n",
       "    <tr>\n",
       "      <th>501970</th>\n",
       "      <td>A1USXRKI457YY6</td>\n",
       "      <td>4108</td>\n",
       "      <td>last years served constant whipping post thous...</td>\n",
       "      <td>5</td>\n",
       "      <td>260</td>\n",
       "      <td>346</td>\n",
       "    </tr>\n",
       "    <tr>\n",
       "      <th>576002</th>\n",
       "      <td>A1USXRKI457YY6</td>\n",
       "      <td>4108</td>\n",
       "      <td>last years served constant whipping post thous...</td>\n",
       "      <td>5</td>\n",
       "      <td>260</td>\n",
       "      <td>346</td>\n",
       "    </tr>\n",
       "    <tr>\n",
       "      <th>824735</th>\n",
       "      <td>A3I2AIBC3CYQMH</td>\n",
       "      <td>3744</td>\n",
       "      <td>great system easy use futuristic onscreen inte...</td>\n",
       "      <td>4</td>\n",
       "      <td>539</td>\n",
       "      <td>752</td>\n",
       "    </tr>\n",
       "    <tr>\n",
       "      <th>721859</th>\n",
       "      <td>A2PQ3WXMKCT4NX</td>\n",
       "      <td>3005</td>\n",
       "      <td>intro years wanting wii finally got one course...</td>\n",
       "      <td>5</td>\n",
       "      <td>513</td>\n",
       "      <td>628</td>\n",
       "    </tr>\n",
       "    <tr>\n",
       "      <th>576397</th>\n",
       "      <td>A269RDUA5T3X75</td>\n",
       "      <td>2986</td>\n",
       "      <td>hesitant write review long playing classes don...</td>\n",
       "      <td>1</td>\n",
       "      <td>788</td>\n",
       "      <td>900</td>\n",
       "    </tr>\n",
       "    <tr>\n",
       "      <th>502365</th>\n",
       "      <td>A269RDUA5T3X75</td>\n",
       "      <td>2986</td>\n",
       "      <td>hesitant write review long playing classes don...</td>\n",
       "      <td>1</td>\n",
       "      <td>788</td>\n",
       "      <td>900</td>\n",
       "    </tr>\n",
       "    <tr>\n",
       "      <th>459445</th>\n",
       "      <td>A74TA8X5YQ7NE</td>\n",
       "      <td>2474</td>\n",
       "      <td>one respect blizzard setting release date knew...</td>\n",
       "      <td>3</td>\n",
       "      <td>374</td>\n",
       "      <td>471</td>\n",
       "    </tr>\n",
       "    <tr>\n",
       "      <th>533477</th>\n",
       "      <td>A74TA8X5YQ7NE</td>\n",
       "      <td>2474</td>\n",
       "      <td>one respect blizzard setting release date knew...</td>\n",
       "      <td>3</td>\n",
       "      <td>374</td>\n",
       "      <td>471</td>\n",
       "    </tr>\n",
       "    <tr>\n",
       "      <th>242206</th>\n",
       "      <td>A3V6Z4RCDGRC44</td>\n",
       "      <td>2403</td>\n",
       "      <td>got hands xbox wii launch day good specific ta...</td>\n",
       "      <td>5</td>\n",
       "      <td>497</td>\n",
       "      <td>604</td>\n",
       "    </tr>\n",
       "    <tr>\n",
       "      <th>853311</th>\n",
       "      <td>APUFU9SPUWZJ1</td>\n",
       "      <td>2211</td>\n",
       "      <td>give review perspective playing various iterat...</td>\n",
       "      <td>2</td>\n",
       "      <td>356</td>\n",
       "      <td>468</td>\n",
       "    </tr>\n",
       "    <tr>\n",
       "      <th>360576</th>\n",
       "      <td>A74TA8X5YQ7NE</td>\n",
       "      <td>1953</td>\n",
       "      <td>lets keep sweet organized fair undisputed fact...</td>\n",
       "      <td>1</td>\n",
       "      <td>620</td>\n",
       "      <td>838</td>\n",
       "    </tr>\n",
       "    <tr>\n",
       "      <th>294677</th>\n",
       "      <td>AJG877XPY8A5F</td>\n",
       "      <td>1917</td>\n",
       "      <td>currently rate game bad following think game l...</td>\n",
       "      <td>1</td>\n",
       "      <td>198</td>\n",
       "      <td>204</td>\n",
       "    </tr>\n",
       "    <tr>\n",
       "      <th>1379099</th>\n",
       "      <td>A2HC5RRZ399BSD</td>\n",
       "      <td>1824</td>\n",
       "      <td>sim gamer beginning followed whole time rather...</td>\n",
       "      <td>2</td>\n",
       "      <td>340</td>\n",
       "      <td>417</td>\n",
       "    </tr>\n",
       "    <tr>\n",
       "      <th>1827114</th>\n",
       "      <td>A2WUQE3BS5RCOL</td>\n",
       "      <td>1717</td>\n",
       "      <td>ok game problem isnt much game speak partially...</td>\n",
       "      <td>3</td>\n",
       "      <td>38</td>\n",
       "      <td>36</td>\n",
       "    </tr>\n",
       "    <tr>\n",
       "      <th>225375</th>\n",
       "      <td>A2NX4O5QQN7YSX</td>\n",
       "      <td>1698</td>\n",
       "      <td>youve probably done lot research read reviews ...</td>\n",
       "      <td>4</td>\n",
       "      <td>241</td>\n",
       "      <td>338</td>\n",
       "    </tr>\n",
       "    <tr>\n",
       "      <th>266839</th>\n",
       "      <td>A3B05IM48QWCXS</td>\n",
       "      <td>1594</td>\n",
       "      <td>first otherwise happy xbox live gold member in...</td>\n",
       "      <td>5</td>\n",
       "      <td>81</td>\n",
       "      <td>128</td>\n",
       "    </tr>\n",
       "    <tr>\n",
       "      <th>494243</th>\n",
       "      <td>A2D80XB12N5SZH</td>\n",
       "      <td>1532</td>\n",
       "      <td>many different sims players buying game years ...</td>\n",
       "      <td>3</td>\n",
       "      <td>465</td>\n",
       "      <td>498</td>\n",
       "    </tr>\n",
       "    <tr>\n",
       "      <th>568275</th>\n",
       "      <td>A2D80XB12N5SZH</td>\n",
       "      <td>1532</td>\n",
       "      <td>many different sims players buying game years ...</td>\n",
       "      <td>3</td>\n",
       "      <td>465</td>\n",
       "      <td>498</td>\n",
       "    </tr>\n",
       "    <tr>\n",
       "      <th>167271</th>\n",
       "      <td>A169TFWMEIJEBM</td>\n",
       "      <td>1411</td>\n",
       "      <td>believe game best pc selling game ever options...</td>\n",
       "      <td>5</td>\n",
       "      <td>176</td>\n",
       "      <td>220</td>\n",
       "    </tr>\n",
       "    <tr>\n",
       "      <th>1827054</th>\n",
       "      <td>A2Q2AUTKY7VAW5</td>\n",
       "      <td>1410</td>\n",
       "      <td>would much rather blow dust play battlefront y...</td>\n",
       "      <td>1</td>\n",
       "      <td>41</td>\n",
       "      <td>42</td>\n",
       "    </tr>\n",
       "    <tr>\n",
       "      <th>1075977</th>\n",
       "      <td>A1AA3F7H5AQVRV</td>\n",
       "      <td>1351</td>\n",
       "      <td>cost effective way get wireless controllers wo...</td>\n",
       "      <td>5</td>\n",
       "      <td>36</td>\n",
       "      <td>62</td>\n",
       "    </tr>\n",
       "    <tr>\n",
       "      <th>1274649</th>\n",
       "      <td>A1PSBR3JRZ9VO0</td>\n",
       "      <td>1333</td>\n",
       "      <td>got xbox one launch day play find think system...</td>\n",
       "      <td>5</td>\n",
       "      <td>1566</td>\n",
       "      <td>1924</td>\n",
       "    </tr>\n",
       "    <tr>\n",
       "      <th>655928</th>\n",
       "      <td>A9FX6L3ESMMRG</td>\n",
       "      <td>1313</td>\n",
       "      <td>initial impression wii active awesome awesome ...</td>\n",
       "      <td>5</td>\n",
       "      <td>642</td>\n",
       "      <td>756</td>\n",
       "    </tr>\n",
       "    <tr>\n",
       "      <th>353144</th>\n",
       "      <td>A3IK55RZRYQQ8J</td>\n",
       "      <td>1313</td>\n",
       "      <td>people reviewing tell difference standard av c...</td>\n",
       "      <td>4</td>\n",
       "      <td>148</td>\n",
       "      <td>237</td>\n",
       "    </tr>\n",
       "    <tr>\n",
       "      <th>576531</th>\n",
       "      <td>A186N4268BM3KB</td>\n",
       "      <td>1302</td>\n",
       "      <td>best part game seeing minutes cinematics serio...</td>\n",
       "      <td>1</td>\n",
       "      <td>434</td>\n",
       "      <td>559</td>\n",
       "    </tr>\n",
       "    <tr>\n",
       "      <th>502499</th>\n",
       "      <td>A186N4268BM3KB</td>\n",
       "      <td>1302</td>\n",
       "      <td>best part game seeing minutes cinematics serio...</td>\n",
       "      <td>1</td>\n",
       "      <td>434</td>\n",
       "      <td>559</td>\n",
       "    </tr>\n",
       "    <tr>\n",
       "      <th>1056599</th>\n",
       "      <td>A3NV520534KK19</td>\n",
       "      <td>1286</td>\n",
       "      <td>since madden oh proud fictional twitter feed d...</td>\n",
       "      <td>2</td>\n",
       "      <td>221</td>\n",
       "      <td>320</td>\n",
       "    </tr>\n",
       "    <tr>\n",
       "      <th>725661</th>\n",
       "      <td>A2VBFLA8LNMHGZ</td>\n",
       "      <td>1250</td>\n",
       "      <td>youre like got wii fit used times put closet n...</td>\n",
       "      <td>5</td>\n",
       "      <td>765</td>\n",
       "      <td>1017</td>\n",
       "    </tr>\n",
       "    <tr>\n",
       "      <th>436343</th>\n",
       "      <td>A2D13EX79DUAJA</td>\n",
       "      <td>1241</td>\n",
       "      <td>wii fit since last week fluctuates wedding com...</td>\n",
       "      <td>5</td>\n",
       "      <td>212</td>\n",
       "      <td>203</td>\n",
       "    </tr>\n",
       "    <tr>\n",
       "      <th>510375</th>\n",
       "      <td>A2D13EX79DUAJA</td>\n",
       "      <td>1241</td>\n",
       "      <td>wii fit since last week fluctuates wedding com...</td>\n",
       "      <td>5</td>\n",
       "      <td>212</td>\n",
       "      <td>203</td>\n",
       "    </tr>\n",
       "    <tr>\n",
       "      <th>1905659</th>\n",
       "      <td>A2NOJVQUPKPTEI</td>\n",
       "      <td>1239</td>\n",
       "      <td>like many excited mans sky allow provide frame...</td>\n",
       "      <td>2</td>\n",
       "      <td>657</td>\n",
       "      <td>800</td>\n",
       "    </tr>\n",
       "    <tr>\n",
       "      <th>352295</th>\n",
       "      <td>A23314SLHPAHAM</td>\n",
       "      <td>1236</td>\n",
       "      <td>wii requires sensor bar tv screen tell screen ...</td>\n",
       "      <td>3</td>\n",
       "      <td>339</td>\n",
       "      <td>422</td>\n",
       "    </tr>\n",
       "    <tr>\n",
       "      <th>298970</th>\n",
       "      <td>A29BQ6B90Y1R5F</td>\n",
       "      <td>1235</td>\n",
       "      <td>people doubt find nintendo ds lite way nintend...</td>\n",
       "      <td>4</td>\n",
       "      <td>348</td>\n",
       "      <td>420</td>\n",
       "    </tr>\n",
       "    <tr>\n",
       "      <th>637954</th>\n",
       "      <td>A1KGNT9YAPC7TX</td>\n",
       "      <td>1229</td>\n",
       "      <td>div classasection aspacingsmall aspacingtopmin...</td>\n",
       "      <td>4</td>\n",
       "      <td>157</td>\n",
       "      <td>179</td>\n",
       "    </tr>\n",
       "    <tr>\n",
       "      <th>974546</th>\n",
       "      <td>A3AVK7OY9W9Z8I</td>\n",
       "      <td>1214</td>\n",
       "      <td>seeing lot superlatives thrown around reviews ...</td>\n",
       "      <td>4</td>\n",
       "      <td>424</td>\n",
       "      <td>474</td>\n",
       "    </tr>\n",
       "    <tr>\n",
       "      <th>1137495</th>\n",
       "      <td>AP4EUH542I2AD</td>\n",
       "      <td>1211</td>\n",
       "      <td>instructions windows specifically even take di...</td>\n",
       "      <td>5</td>\n",
       "      <td>229</td>\n",
       "      <td>275</td>\n",
       "    </tr>\n",
       "    <tr>\n",
       "      <th>351118</th>\n",
       "      <td>AV119IJ0YXS48</td>\n",
       "      <td>1158</td>\n",
       "      <td>rating based theory game bundled remote worth ...</td>\n",
       "      <td>4</td>\n",
       "      <td>593</td>\n",
       "      <td>688</td>\n",
       "    </tr>\n",
       "    <tr>\n",
       "      <th>438465</th>\n",
       "      <td>A3FEGTOLCWXSV4</td>\n",
       "      <td>1142</td>\n",
       "      <td>first remember game way get minutes daily exer...</td>\n",
       "      <td>3</td>\n",
       "      <td>572</td>\n",
       "      <td>631</td>\n",
       "    </tr>\n",
       "    <tr>\n",
       "      <th>512497</th>\n",
       "      <td>A3FEGTOLCWXSV4</td>\n",
       "      <td>1142</td>\n",
       "      <td>first remember game way get minutes daily exer...</td>\n",
       "      <td>3</td>\n",
       "      <td>572</td>\n",
       "      <td>631</td>\n",
       "    </tr>\n",
       "    <tr>\n",
       "      <th>2086649</th>\n",
       "      <td>A26P08DCAHSM77</td>\n",
       "      <td>1134</td>\n",
       "      <td>probably first vr experience reading thoughts ...</td>\n",
       "      <td>5</td>\n",
       "      <td>582</td>\n",
       "      <td>812</td>\n",
       "    </tr>\n",
       "    <tr>\n",
       "      <th>696384</th>\n",
       "      <td>A8UB0U70KZ4P9</td>\n",
       "      <td>1133</td>\n",
       "      <td>buy game total waste hard earned money read re...</td>\n",
       "      <td>1</td>\n",
       "      <td>57</td>\n",
       "      <td>165</td>\n",
       "    </tr>\n",
       "    <tr>\n",
       "      <th>576961</th>\n",
       "      <td>A38JR1ETLU1LT</td>\n",
       "      <td>1129</td>\n",
       "      <td>well applaud blizzard reality business stand p...</td>\n",
       "      <td>1</td>\n",
       "      <td>416</td>\n",
       "      <td>531</td>\n",
       "    </tr>\n",
       "    <tr>\n",
       "      <th>502929</th>\n",
       "      <td>A38JR1ETLU1LT</td>\n",
       "      <td>1129</td>\n",
       "      <td>well applaud blizzard reality business stand p...</td>\n",
       "      <td>1</td>\n",
       "      <td>416</td>\n",
       "      <td>531</td>\n",
       "    </tr>\n",
       "    <tr>\n",
       "      <th>287047</th>\n",
       "      <td>A4CT4I3WFTYY</td>\n",
       "      <td>1125</td>\n",
       "      <td>slouched computer chair type bloody winded def...</td>\n",
       "      <td>1</td>\n",
       "      <td>264</td>\n",
       "      <td>344</td>\n",
       "    </tr>\n",
       "    <tr>\n",
       "      <th>1771815</th>\n",
       "      <td>A2140EOQJY8A6E</td>\n",
       "      <td>1120</td>\n",
       "      <td>best version system found far careful model en...</td>\n",
       "      <td>4</td>\n",
       "      <td>302</td>\n",
       "      <td>333</td>\n",
       "    </tr>\n",
       "    <tr>\n",
       "      <th>462560</th>\n",
       "      <td>A3R2A1EG0NU655</td>\n",
       "      <td>1109</td>\n",
       "      <td>watched starcraft amazon reviews come great sa...</td>\n",
       "      <td>4</td>\n",
       "      <td>603</td>\n",
       "      <td>689</td>\n",
       "    </tr>\n",
       "    <tr>\n",
       "      <th>536592</th>\n",
       "      <td>A3R2A1EG0NU655</td>\n",
       "      <td>1109</td>\n",
       "      <td>watched starcraft amazon reviews come great sa...</td>\n",
       "      <td>4</td>\n",
       "      <td>603</td>\n",
       "      <td>689</td>\n",
       "    </tr>\n",
       "    <tr>\n",
       "      <th>972495</th>\n",
       "      <td>ATGNJAXUP3MN7</td>\n",
       "      <td>1095</td>\n",
       "      <td>ok know little old playing going country let a...</td>\n",
       "      <td>5</td>\n",
       "      <td>87</td>\n",
       "      <td>113</td>\n",
       "    </tr>\n",
       "    <tr>\n",
       "      <th>483001</th>\n",
       "      <td>A2MYRRBXB3WTNO</td>\n",
       "      <td>1041</td>\n",
       "      <td>reviewing content game except say bioware prev...</td>\n",
       "      <td>1</td>\n",
       "      <td>280</td>\n",
       "      <td>325</td>\n",
       "    </tr>\n",
       "  </tbody>\n",
       "</table>\n",
       "</div>"
      ],
      "text/plain": [
       "            reviewer_id  helpfullness_vote  \\\n",
       "1536670  A3NKZH4M5I23ML               5154   \n",
       "501970   A1USXRKI457YY6               4108   \n",
       "576002   A1USXRKI457YY6               4108   \n",
       "824735   A3I2AIBC3CYQMH               3744   \n",
       "721859   A2PQ3WXMKCT4NX               3005   \n",
       "576397   A269RDUA5T3X75               2986   \n",
       "502365   A269RDUA5T3X75               2986   \n",
       "459445    A74TA8X5YQ7NE               2474   \n",
       "533477    A74TA8X5YQ7NE               2474   \n",
       "242206   A3V6Z4RCDGRC44               2403   \n",
       "853311    APUFU9SPUWZJ1               2211   \n",
       "360576    A74TA8X5YQ7NE               1953   \n",
       "294677    AJG877XPY8A5F               1917   \n",
       "1379099  A2HC5RRZ399BSD               1824   \n",
       "1827114  A2WUQE3BS5RCOL               1717   \n",
       "225375   A2NX4O5QQN7YSX               1698   \n",
       "266839   A3B05IM48QWCXS               1594   \n",
       "494243   A2D80XB12N5SZH               1532   \n",
       "568275   A2D80XB12N5SZH               1532   \n",
       "167271   A169TFWMEIJEBM               1411   \n",
       "1827054  A2Q2AUTKY7VAW5               1410   \n",
       "1075977  A1AA3F7H5AQVRV               1351   \n",
       "1274649  A1PSBR3JRZ9VO0               1333   \n",
       "655928    A9FX6L3ESMMRG               1313   \n",
       "353144   A3IK55RZRYQQ8J               1313   \n",
       "576531   A186N4268BM3KB               1302   \n",
       "502499   A186N4268BM3KB               1302   \n",
       "1056599  A3NV520534KK19               1286   \n",
       "725661   A2VBFLA8LNMHGZ               1250   \n",
       "436343   A2D13EX79DUAJA               1241   \n",
       "510375   A2D13EX79DUAJA               1241   \n",
       "1905659  A2NOJVQUPKPTEI               1239   \n",
       "352295   A23314SLHPAHAM               1236   \n",
       "298970   A29BQ6B90Y1R5F               1235   \n",
       "637954   A1KGNT9YAPC7TX               1229   \n",
       "974546   A3AVK7OY9W9Z8I               1214   \n",
       "1137495   AP4EUH542I2AD               1211   \n",
       "351118    AV119IJ0YXS48               1158   \n",
       "438465   A3FEGTOLCWXSV4               1142   \n",
       "512497   A3FEGTOLCWXSV4               1142   \n",
       "2086649  A26P08DCAHSM77               1134   \n",
       "696384    A8UB0U70KZ4P9               1133   \n",
       "576961    A38JR1ETLU1LT               1129   \n",
       "502929    A38JR1ETLU1LT               1129   \n",
       "287047     A4CT4I3WFTYY               1125   \n",
       "1771815  A2140EOQJY8A6E               1120   \n",
       "462560   A3R2A1EG0NU655               1109   \n",
       "536592   A3R2A1EG0NU655               1109   \n",
       "972495    ATGNJAXUP3MN7               1095   \n",
       "483001   A2MYRRBXB3WTNO               1041   \n",
       "\n",
       "                                               review_text  ratings  \\\n",
       "1536670  ac unity true nextgen fact nextgen isnt even f...        1   \n",
       "501970   last years served constant whipping post thous...        5   \n",
       "576002   last years served constant whipping post thous...        5   \n",
       "824735   great system easy use futuristic onscreen inte...        4   \n",
       "721859   intro years wanting wii finally got one course...        5   \n",
       "576397   hesitant write review long playing classes don...        1   \n",
       "502365   hesitant write review long playing classes don...        1   \n",
       "459445   one respect blizzard setting release date knew...        3   \n",
       "533477   one respect blizzard setting release date knew...        3   \n",
       "242206   got hands xbox wii launch day good specific ta...        5   \n",
       "853311   give review perspective playing various iterat...        2   \n",
       "360576   lets keep sweet organized fair undisputed fact...        1   \n",
       "294677   currently rate game bad following think game l...        1   \n",
       "1379099  sim gamer beginning followed whole time rather...        2   \n",
       "1827114  ok game problem isnt much game speak partially...        3   \n",
       "225375   youve probably done lot research read reviews ...        4   \n",
       "266839   first otherwise happy xbox live gold member in...        5   \n",
       "494243   many different sims players buying game years ...        3   \n",
       "568275   many different sims players buying game years ...        3   \n",
       "167271   believe game best pc selling game ever options...        5   \n",
       "1827054  would much rather blow dust play battlefront y...        1   \n",
       "1075977  cost effective way get wireless controllers wo...        5   \n",
       "1274649  got xbox one launch day play find think system...        5   \n",
       "655928   initial impression wii active awesome awesome ...        5   \n",
       "353144   people reviewing tell difference standard av c...        4   \n",
       "576531   best part game seeing minutes cinematics serio...        1   \n",
       "502499   best part game seeing minutes cinematics serio...        1   \n",
       "1056599  since madden oh proud fictional twitter feed d...        2   \n",
       "725661   youre like got wii fit used times put closet n...        5   \n",
       "436343   wii fit since last week fluctuates wedding com...        5   \n",
       "510375   wii fit since last week fluctuates wedding com...        5   \n",
       "1905659  like many excited mans sky allow provide frame...        2   \n",
       "352295   wii requires sensor bar tv screen tell screen ...        3   \n",
       "298970   people doubt find nintendo ds lite way nintend...        4   \n",
       "637954   div classasection aspacingsmall aspacingtopmin...        4   \n",
       "974546   seeing lot superlatives thrown around reviews ...        4   \n",
       "1137495  instructions windows specifically even take di...        5   \n",
       "351118   rating based theory game bundled remote worth ...        4   \n",
       "438465   first remember game way get minutes daily exer...        3   \n",
       "512497   first remember game way get minutes daily exer...        3   \n",
       "2086649  probably first vr experience reading thoughts ...        5   \n",
       "696384   buy game total waste hard earned money read re...        1   \n",
       "576961   well applaud blizzard reality business stand p...        1   \n",
       "502929   well applaud blizzard reality business stand p...        1   \n",
       "287047   slouched computer chair type bloody winded def...        1   \n",
       "1771815  best version system found far careful model en...        4   \n",
       "462560   watched starcraft amazon reviews come great sa...        4   \n",
       "536592   watched starcraft amazon reviews come great sa...        4   \n",
       "972495   ok know little old playing going country let a...        5   \n",
       "483001   reviewing content game except say bioware prev...        1   \n",
       "\n",
       "         stopwords  word_count  \n",
       "1536670        178         219  \n",
       "501970         260         346  \n",
       "576002         260         346  \n",
       "824735         539         752  \n",
       "721859         513         628  \n",
       "576397         788         900  \n",
       "502365         788         900  \n",
       "459445         374         471  \n",
       "533477         374         471  \n",
       "242206         497         604  \n",
       "853311         356         468  \n",
       "360576         620         838  \n",
       "294677         198         204  \n",
       "1379099        340         417  \n",
       "1827114         38          36  \n",
       "225375         241         338  \n",
       "266839          81         128  \n",
       "494243         465         498  \n",
       "568275         465         498  \n",
       "167271         176         220  \n",
       "1827054         41          42  \n",
       "1075977         36          62  \n",
       "1274649       1566        1924  \n",
       "655928         642         756  \n",
       "353144         148         237  \n",
       "576531         434         559  \n",
       "502499         434         559  \n",
       "1056599        221         320  \n",
       "725661         765        1017  \n",
       "436343         212         203  \n",
       "510375         212         203  \n",
       "1905659        657         800  \n",
       "352295         339         422  \n",
       "298970         348         420  \n",
       "637954         157         179  \n",
       "974546         424         474  \n",
       "1137495        229         275  \n",
       "351118         593         688  \n",
       "438465         572         631  \n",
       "512497         572         631  \n",
       "2086649        582         812  \n",
       "696384          57         165  \n",
       "576961         416         531  \n",
       "502929         416         531  \n",
       "287047         264         344  \n",
       "1771815        302         333  \n",
       "462560         603         689  \n",
       "536592         603         689  \n",
       "972495          87         113  \n",
       "483001         280         325  "
      ]
     },
     "execution_count": 18,
     "metadata": {},
     "output_type": "execute_result"
    }
   ],
   "source": [
    "duplicate_check.sort_values(by= 'helpfullness_vote',ascending=False).head(50)"
   ]
  },
  {
   "cell_type": "markdown",
   "metadata": {},
   "source": [
    "From this we can identify that the reviews are indeed duplicate reviews because the reviewer id and the helpfullness_vote and stopwords and wordcount of the reviews are almost the same, hence they can be dropped."
   ]
  },
  {
   "cell_type": "code",
   "execution_count": 24,
   "metadata": {},
   "outputs": [
    {
     "name": "stdout",
     "output_type": "stream",
     "text": [
      "Number of rows before dropping duplicate values: 2562850\n",
      "Number of rows after dropping duplicate values: 2102711\n"
     ]
    }
   ],
   "source": [
    "print(\"Number of rows before dropping duplicate values:\", raw_data.shape[0])\n",
    "print(\"Number of rows after dropping duplicate values:\", raw_data.drop_duplicates(subset='review_text').shape[0])"
   ]
  },
  {
   "cell_type": "code",
   "execution_count": 81,
   "metadata": {},
   "outputs": [],
   "source": [
    "raw_data = raw_data.drop_duplicates(subset= 'review_text')"
   ]
  },
  {
   "cell_type": "code",
   "execution_count": 82,
   "metadata": {},
   "outputs": [
    {
     "data": {
      "text/plain": [
       "(2102711, 13)"
      ]
     },
     "execution_count": 82,
     "metadata": {},
     "output_type": "execute_result"
    }
   ],
   "source": [
    "raw_data.shape"
   ]
  },
  {
   "cell_type": "code",
   "execution_count": 30,
   "metadata": {
    "tags": []
   },
   "outputs": [
    {
     "data": {
      "text/plain": [
       "233540     best game ever best game ever best game ever b...\n",
       "1211176    fantasy creating experience someone else going...\n",
       "721957     super mario galaxy unfortunately unforgivably ...\n",
       "2186422    remember kid thinking whoa dragon warrior seri...\n",
       "878652     text permission heinkill battle britain gamehu...\n",
       "721839     first something important share yall last zeld...\n",
       "8668       history pokmon media franchise spans decade wo...\n",
       "501702     played diablo hours gaming diablo say game goo...\n",
       "850523     dragon age origins ultimate edition origins dl...\n",
       "958454     witcher assassin kings developers cd projekt r...\n",
       "48430      shigeru miyamoto created masterpiece created m...\n",
       "723842     review whole game single multiplayer almost ye...\n",
       "951991     review one posted standard edition game howeve...\n",
       "598345     time favorite call duty especially custom zomb...\n",
       "853514     deal reviewing game steam account annoyances a...\n",
       "289975     overview since point reviews help others make ...\n",
       "1838681    youve ever wanted video game inspired movies d...\n",
       "1129698    final entry final fantasy xiii trilogy summari...\n",
       "2372125    ever said final fantasy ii black sheep series ...\n",
       "616798     edited brevityreadability corrected typos cont...\n",
       "104646     alrighty lets take top cases beginning final f...\n",
       "1565413    ten months ago madden nfl franchise ea sports ...\n",
       "1328047    super mario world passable sequel super mario ...\n",
       "434313     title says excited finally able play mod wish ...\n",
       "1906281    honestly surprised amazon taking part manufact...\n",
       "1576734    intro step vast unknowable land fourth game fa...\n",
       "1602412    hey folks wanted point couple important things...\n",
       "2289729    bee movie script dialogue transcript voila fin...\n",
       "2289730    according known laws aviation way bee able fly...\n",
       "944986     hello ill reviewing far cry todayill writing p...\n",
       "1378789    ithe sims mired controversy since release many...\n",
       "943722     intro like crpg crpg fan youve likely eagerly ...\n",
       "2485564    note right get game gog moneyback guarantee sh...\n",
       "935041     order cure must first understand days later fr...\n",
       "140685     decided purchase game boy traveling didnt want...\n",
       "1036384    hi ill writing detailed review fallout new veg...\n",
       "1228280    edit originally gave star got progressively an...\n",
       "302343     note review detailed offers significant story ...\n",
       "944700     order cure must first understand days later fr...\n",
       "958234     game gets one star tons flaws even bugs game a...\n",
       "1620008    bloodborne review introduction bloodborne succ...\n",
       "49759      statsic first two boss due gutsman cut man tak...\n",
       "462469     long didnt read notes lot discussion added cli...\n",
       "594171     witcher german made action roleplaying game ut...\n",
       "60243      always loved metal gear games followed franchi...\n",
       "496448     hello unsure whether buy red alert well hope r...\n",
       "2300780    happned amiga version bastersised turned shmuc...\n",
       "1840162    many diehard rainbow six fans lastgen consoles...\n",
       "1865390    note review games originally appeared also lon...\n",
       "1406360    update gave month mouse unpairing times day at...\n",
       "Name: review_text, dtype: object"
      ]
     },
     "execution_count": 30,
     "metadata": {},
     "output_type": "execute_result"
    }
   ],
   "source": [
    "raw_data.sort_values(by='word_count', ascending=False).review_text.head(50)"
   ]
  },
  {
   "cell_type": "code",
   "execution_count": 32,
   "metadata": {},
   "outputs": [
    {
     "data": {
      "text/plain": [
       "reviewer_id          0.0\n",
       "product_id           0.0\n",
       "verified             0.0\n",
       "review_time          0.0\n",
       "helpfullness_vote    0.0\n",
       "summary              0.0\n",
       "review_text          0.0\n",
       "ratings              0.0\n",
       "stopwords            0.0\n",
       "punctuation          0.0\n",
       "hastags              0.0\n",
       "numerics             0.0\n",
       "word_count           0.0\n",
       "dtype: float64"
      ]
     },
     "execution_count": 32,
     "metadata": {},
     "output_type": "execute_result"
    }
   ],
   "source": [
    "# Lets check for missing values:\n",
    "missing_values(raw_data)"
   ]
  },
  {
   "cell_type": "code",
   "execution_count": 38,
   "metadata": {},
   "outputs": [
    {
     "data": {
      "text/html": [
       "<div>\n",
       "<style scoped>\n",
       "    .dataframe tbody tr th:only-of-type {\n",
       "        vertical-align: middle;\n",
       "    }\n",
       "\n",
       "    .dataframe tbody tr th {\n",
       "        vertical-align: top;\n",
       "    }\n",
       "\n",
       "    .dataframe thead th {\n",
       "        text-align: right;\n",
       "    }\n",
       "</style>\n",
       "<table border=\"1\" class=\"dataframe\">\n",
       "  <thead>\n",
       "    <tr style=\"text-align: right;\">\n",
       "      <th></th>\n",
       "      <th>helpfullness_vote</th>\n",
       "      <th>ratings</th>\n",
       "      <th>stopwords</th>\n",
       "      <th>punctuation</th>\n",
       "      <th>hastags</th>\n",
       "      <th>numerics</th>\n",
       "      <th>word_count</th>\n",
       "    </tr>\n",
       "  </thead>\n",
       "  <tbody>\n",
       "    <tr>\n",
       "      <th>count</th>\n",
       "      <td>2102711.0</td>\n",
       "      <td>2102711.0</td>\n",
       "      <td>2102711.0</td>\n",
       "      <td>2102711.0</td>\n",
       "      <td>2102711.0</td>\n",
       "      <td>2102711.0</td>\n",
       "      <td>2102711.0</td>\n",
       "    </tr>\n",
       "    <tr>\n",
       "      <th>mean</th>\n",
       "      <td>1.6</td>\n",
       "      <td>3.9</td>\n",
       "      <td>35.4</td>\n",
       "      <td>13.9</td>\n",
       "      <td>0.0</td>\n",
       "      <td>0.5</td>\n",
       "      <td>42.1</td>\n",
       "    </tr>\n",
       "    <tr>\n",
       "      <th>std</th>\n",
       "      <td>13.1</td>\n",
       "      <td>1.4</td>\n",
       "      <td>64.7</td>\n",
       "      <td>28.9</td>\n",
       "      <td>0.1</td>\n",
       "      <td>1.4</td>\n",
       "      <td>76.7</td>\n",
       "    </tr>\n",
       "    <tr>\n",
       "      <th>min</th>\n",
       "      <td>0.0</td>\n",
       "      <td>1.0</td>\n",
       "      <td>0.0</td>\n",
       "      <td>0.0</td>\n",
       "      <td>0.0</td>\n",
       "      <td>0.0</td>\n",
       "      <td>1.0</td>\n",
       "    </tr>\n",
       "    <tr>\n",
       "      <th>25%</th>\n",
       "      <td>0.0</td>\n",
       "      <td>3.0</td>\n",
       "      <td>7.0</td>\n",
       "      <td>2.0</td>\n",
       "      <td>0.0</td>\n",
       "      <td>0.0</td>\n",
       "      <td>9.0</td>\n",
       "    </tr>\n",
       "    <tr>\n",
       "      <th>50%</th>\n",
       "      <td>0.0</td>\n",
       "      <td>5.0</td>\n",
       "      <td>15.0</td>\n",
       "      <td>5.0</td>\n",
       "      <td>0.0</td>\n",
       "      <td>0.0</td>\n",
       "      <td>18.0</td>\n",
       "    </tr>\n",
       "    <tr>\n",
       "      <th>75%</th>\n",
       "      <td>0.0</td>\n",
       "      <td>5.0</td>\n",
       "      <td>37.0</td>\n",
       "      <td>13.0</td>\n",
       "      <td>0.0</td>\n",
       "      <td>1.0</td>\n",
       "      <td>43.0</td>\n",
       "    </tr>\n",
       "    <tr>\n",
       "      <th>max</th>\n",
       "      <td>5154.0</td>\n",
       "      <td>5.0</td>\n",
       "      <td>2737.0</td>\n",
       "      <td>3172.0</td>\n",
       "      <td>40.0</td>\n",
       "      <td>236.0</td>\n",
       "      <td>3616.0</td>\n",
       "    </tr>\n",
       "  </tbody>\n",
       "</table>\n",
       "</div>"
      ],
      "text/plain": [
       "       helpfullness_vote    ratings  stopwords  punctuation    hastags  \\\n",
       "count          2102711.0  2102711.0  2102711.0    2102711.0  2102711.0   \n",
       "mean                 1.6        3.9       35.4         13.9        0.0   \n",
       "std                 13.1        1.4       64.7         28.9        0.1   \n",
       "min                  0.0        1.0        0.0          0.0        0.0   \n",
       "25%                  0.0        3.0        7.0          2.0        0.0   \n",
       "50%                  0.0        5.0       15.0          5.0        0.0   \n",
       "75%                  0.0        5.0       37.0         13.0        0.0   \n",
       "max               5154.0        5.0     2737.0       3172.0       40.0   \n",
       "\n",
       "        numerics  word_count  \n",
       "count  2102711.0   2102711.0  \n",
       "mean         0.5        42.1  \n",
       "std          1.4        76.7  \n",
       "min          0.0         1.0  \n",
       "25%          0.0         9.0  \n",
       "50%          0.0        18.0  \n",
       "75%          1.0        43.0  \n",
       "max        236.0      3616.0  "
      ]
     },
     "execution_count": 38,
     "metadata": {},
     "output_type": "execute_result"
    }
   ],
   "source": [
    "raw_data.describe().round(1)"
   ]
  },
  {
   "cell_type": "markdown",
   "metadata": {},
   "source": [
    "Inference: </br>\n",
    "\n",
    "From this description we can identify features having extreme values "
   ]
  },
  {
   "cell_type": "markdown",
   "metadata": {},
   "source": [
    "Stopwords"
   ]
  },
  {
   "cell_type": "code",
   "execution_count": 4,
   "metadata": {},
   "outputs": [
    {
     "data": {
      "image/png": "[encoded data removed]",
      "text/plain": [
       "<Figure size 640x480 with 1 Axes>"
      ]
     },
     "metadata": {},
     "output_type": "display_data"
    }
   ],
   "source": [
    "sns.distplot(raw_data.stopwords,rug=True)\n",
    "sns.despine()"
   ]
  },
  {
   "cell_type": "code",
   "execution_count": 5,
   "metadata": {},
   "outputs": [],
   "source": [
    "raw_data = raw_data[raw_data['stopwords'] <= 2000]"
   ]
  },
  {
   "cell_type": "markdown",
   "metadata": {},
   "source": [
    "Punctuation"
   ]
  },
  {
   "cell_type": "code",
   "execution_count": 6,
   "metadata": {},
   "outputs": [
    {
     "data": {
      "text/plain": [
       "<Figure size 1500x500 with 0 Axes>"
      ]
     },
     "metadata": {},
     "output_type": "display_data"
    },
    {
     "data": {
      "image/png": "[encoded data removed]",
      "text/plain": [
       "<Figure size 500x500 with 1 Axes>"
      ]
     },
     "metadata": {},
     "output_type": "display_data"
    }
   ],
   "source": [
    "plt.figure(figsize=(15,5))\n",
    "sns.displot(raw_data.punctuation, rug=True)\n",
    "sns.despine()"
   ]
  },
  {
   "cell_type": "code",
   "execution_count": 104,
   "metadata": {},
   "outputs": [
    {
     "data": {
      "text/plain": [
       "1138991    brain age concentration training wellnamed foc...\n",
       "479187     control family fun individual fun overall desc...\n",
       "958545     witcher sets new highbar roleplaying games rpg...\n",
       "767748     testing keyboard three weeks ready rate typing...\n",
       "288830     although may become costly memory cards items ...\n",
       "50215      written two zelda reviews one original nes rel...\n",
       "1536416    sit typing listening soundtrack game slightly ...\n",
       "587857     february update darth mod soon version freely ...\n",
       "658639     loved bioshock became immediately immersed spe...\n",
       "1432927    prologue video game enthusiast isnt console ha...\n",
       "1728978    introduction xbox controller using play pc gam...\n",
       "1345463    astro fantastic company buy boast excellent su...\n",
       "311549     wanted like game market swamped blow alien ide...\n",
       "1126857    may know mad lust envy headfi shin czraven cri...\n",
       "1027116    sure ill receive flak review opinion game exci...\n",
       "26012      xena game review older game playstation thats ...\n",
       "857044     owned every version nostromo since first model...\n",
       "1521794    opinion xbox one nothing short roller coaster ...\n",
       "1296990    techland developer built upon series caveats e...\n",
       "1029550    update june datel releaesed updated version ev...\n",
       "378273     ladies gentlemen give madden xbox madden well ...\n",
       "1876595    original review update harmonix released expan...\n",
       "943314     ill preface review saying huge fan kinect spor...\n",
       "1061330    edit decided edit review second time downgrade...\n",
       "2330341    pretty long review tldr bottom first blush fou...\n",
       "24414      simcopter great game description simcopter goo...\n",
       "1439988    review going different aspects game many diffe...\n",
       "325441     nice keyboard yes get cheaper one guaranteed w...\n",
       "1395000    weve since launch day knack killzone assassins...\n",
       "1628368    ladies gentlemen boys girls week monumental vi...\n",
       "1196201    feels really nice added weights nice fit finis...\n",
       "1129698    final entry final fantasy xiii trilogy summari...\n",
       "2209495    heres review sweet home game people love expre...\n",
       "591336     passed buying madworld released years ago mixe...\n",
       "693789     weve household ever since version came two pre...\n",
       "1826160    realize unpopular opinion really really like g...\n",
       "1107234    kids young play game world tricky confusing na...\n",
       "1902279    may notice didnt say greatest wont argue horiz...\n",
       "1738318    spending quality time weeks gaems feel enough ...\n",
       "779855     played lego games son favorite real time strat...\n",
       "2187872    magic scheherazade one forgotten nes titles ho...\n",
       "680816     thinking frame review something bold original ...\n",
       "1449679    middleearth shadow mordor game initially ignor...\n",
       "1325188    must start review saying love donkey kong coun...\n",
       "845677     reviewing piii converter model preface start b...\n",
       "904660     nintendo dropped price console previous consol...\n",
       "509810     simple interface great songs excellent uptodat...\n",
       "957391     cant stand mindless destruction move along gam...\n",
       "937073     solid side scroller video game play people arc...\n",
       "1017361    writing review assuming youve already played f...\n",
       "Name: review_text, dtype: object"
      ]
     },
     "execution_count": 104,
     "metadata": {},
     "output_type": "execute_result"
    }
   ],
   "source": [
    "raw_data.sort_values(by= 'punctuation', ascending=False)['review_text'].head(50)"
   ]
  },
  {
   "cell_type": "code",
   "execution_count": 93,
   "metadata": {},
   "outputs": [
    {
     "data": {
      "text/plain": [
       "4672       back late wrote two articles defunct game webs...\n",
       "8668       history pokmon media franchise spans decade wo...\n",
       "10851      yes heard final fantasy vii overrated stay min...\n",
       "16438      getting tired microsoft combat flight simulato...\n",
       "19969      metal gear solid cared two different genres vi...\n",
       "                                 ...                        \n",
       "2491180    warning long review honestly like walkthrough ...\n",
       "2502771    update jan terrible product worst support ever...\n",
       "2520633    legend zelda favorite series gaming lifelong h...\n",
       "2533659    wanted wanted create guide help interested pur...\n",
       "2547402    summary price great android windows bluetooth ...\n",
       "Name: review_text, Length: 519, dtype: object"
      ]
     },
     "execution_count": 93,
     "metadata": {},
     "output_type": "execute_result"
    }
   ],
   "source": [
    "raw_data[raw_data['punctuation'] >= 500]['review_text']"
   ]
  },
  {
   "cell_type": "code",
   "execution_count": 94,
   "metadata": {},
   "outputs": [],
   "source": [
    "raw_data= raw_data[raw_data.punctuation <= 500]"
   ]
  },
  {
   "cell_type": "markdown",
   "metadata": {},
   "source": [
    "Hastags"
   ]
  },
  {
   "cell_type": "code",
   "execution_count": 7,
   "metadata": {},
   "outputs": [
    {
     "data": {
      "image/png": "[encoded data removed]",
      "text/plain": [
       "<Figure size 640x480 with 1 Axes>"
      ]
     },
     "metadata": {},
     "output_type": "display_data"
    }
   ],
   "source": [
    "sns.distplot(raw_data['hastags'], rug=True,hist=False)\n",
    "sns.despine()"
   ]
  },
  {
   "cell_type": "code",
   "execution_count": 24,
   "metadata": {},
   "outputs": [
    {
     "data": {
      "text/plain": [
       "(5622, 13)"
      ]
     },
     "execution_count": 24,
     "metadata": {},
     "output_type": "execute_result"
    }
   ],
   "source": [
    "raw_data[raw_data['hastags']>=1].shape"
   ]
  },
  {
   "cell_type": "code",
   "execution_count": 5,
   "metadata": {},
   "outputs": [],
   "source": [
    "# We can drop the feature since majority of the rows doesnt have hastags in it \n",
    "raw_data.drop(columns= 'hastags', inplace=True)"
   ]
  },
  {
   "cell_type": "markdown",
   "metadata": {},
   "source": [
    "Numerics"
   ]
  },
  {
   "cell_type": "code",
   "execution_count": 8,
   "metadata": {},
   "outputs": [
    {
     "data": {
      "image/png": "[encoded data removed]",
      "text/plain": [
       "<Figure size 640x480 with 1 Axes>"
      ]
     },
     "metadata": {},
     "output_type": "display_data"
    }
   ],
   "source": [
    "sns.distplot(raw_data['numerics'], rug=True)\n",
    "sns.despine()"
   ]
  },
  {
   "cell_type": "code",
   "execution_count": 12,
   "metadata": {},
   "outputs": [
    {
     "data": {
      "text/plain": [
       "145442     queen bird queen autumn leaves queens double r...\n",
       "145443     ice water ill witch illusionist faceless mage ...\n",
       "924637     updated positive review update review dead spa...\n",
       "49759      statsic first two boss due gutsman cut man tak...\n",
       "666771     heard early game supposed good actually bought...\n",
       "1295758    say wasnt biggest fan madden nfl release sony ...\n",
       "1053765    pilot years started flying kites radio control...\n",
       "679345     far one best games ever experienced game unbel...\n",
       "1148840    age mid remember youngster putting quarters to...\n",
       "1078282    first question ask iswith dance central best t...\n",
       "503726     cant play hp touch one two years old get diabl...\n",
       "1308542    like dance theyve added great new features the...\n",
       "2188122    last mega man game released nineteen system pr...\n",
       "2377421    game default car set bit like eating cardboard...\n",
       "379118     far better ace combat ac zero includes full re...\n",
       "2078014    resident evil came blew entire gaming world aw...\n",
       "2328635    would known lady hillary clinton would go sena...\n",
       "415913     gauntlet amazingly designed game takes complet...\n",
       "Name: review_text, dtype: object"
      ]
     },
     "execution_count": 12,
     "metadata": {},
     "output_type": "execute_result"
    }
   ],
   "source": [
    "raw_data[raw_data.numerics >50].sort_values(by='numerics',ascending=False)['review_text']"
   ]
  },
  {
   "cell_type": "code",
   "execution_count": 51,
   "metadata": {},
   "outputs": [
    {
     "data": {
      "text/plain": [
       "0    0.740641\n",
       "1    0.153956\n",
       "2    0.053482\n",
       "3    0.022373\n",
       "4    0.011421\n",
       "5    0.006287\n",
       "6    0.003780\n",
       "7    0.002425\n",
       "8    0.001538\n",
       "9    0.001072\n",
       "Name: numerics, dtype: float64"
      ]
     },
     "execution_count": 51,
     "metadata": {},
     "output_type": "execute_result"
    }
   ],
   "source": [
    "# From that we can tell most of the sentences contains very less numer of numerics\n",
    "\n",
    "raw_data['numerics'].value_counts(normalize=True*100)[:10]"
   ]
  },
  {
   "cell_type": "code",
   "execution_count": 6,
   "metadata": {},
   "outputs": [],
   "source": [
    "raw_data.drop(columns='numerics', inplace=True)"
   ]
  },
  {
   "cell_type": "markdown",
   "metadata": {},
   "source": [
    "Word_count"
   ]
  },
  {
   "cell_type": "code",
   "execution_count": 13,
   "metadata": {},
   "outputs": [
    {
     "data": {
      "image/png": "[encoded data removed]",
      "text/plain": [
       "<Figure size 640x480 with 1 Axes>"
      ]
     },
     "metadata": {},
     "output_type": "display_data"
    }
   ],
   "source": [
    "sns.distplot(raw_data.word_count,rug=True,hist=False)\n",
    "sns.despine()"
   ]
  },
  {
   "cell_type": "code",
   "execution_count": 57,
   "metadata": {},
   "outputs": [
    {
     "data": {
      "text/plain": [
       "233540     best game ever best game ever best game ever b...\n",
       "49759      statsic first two boss due gutsman cut man tak...\n",
       "1321454    first part outline possible bias lack thereof ...\n",
       "808062     first let start say high hopes homefront game ...\n",
       "1449679    middleearth shadow mordor game initially ignor...\n",
       "453705     golden axe name instantly recognized many game...\n",
       "1439988    review going different aspects game many diffe...\n",
       "438555     solid game lot fun press game tends focused ar...\n",
       "1295758    say wasnt biggest fan madden nfl release sony ...\n",
       "201385     well guess really wonderful news remember hate...\n",
       "201405     keiji inafune said gamespy interview involved ...\n",
       "830535     castlevania lords shadow game bleeds fresh blo...\n",
       "1647926    going completely honest game overhyped yes hyp...\n",
       "1295562    would perhaps kind simply label development ea...\n",
       "1295478    gameplay despite promotional hype behind ea sp...\n",
       "2187872    magic scheherazade one forgotten nes titles ho...\n",
       "2209495    heres review sweet home game people love expre...\n",
       "686297     legendary starfy fifth game long running dense...\n",
       "1029550    update june datel releaesed updated version ev...\n",
       "716074     noted rpg developer triace continue work creat...\n",
       "683212     wrpg tps bought game believing gonna wrpg inst...\n",
       "1943882    ruining life fictional extinct pets require le...\n",
       "144732     update july experiencing game many years oh bi...\n",
       "2188364    clash demonhead takes advantage metroidvania a...\n",
       "1628368    ladies gentlemen boys girls week monumental vi...\n",
       "3807       every experience piece entertainment overrated...\n",
       "2299774    back future ii iii bad start based name alone ...\n",
       "687543     rpg genre shaken roots studio thought done par...\n",
       "1203939    another entry infamous series come gone much l...\n",
       "402749     game called epic scope meticulous strategy spr...\n",
       "1217758    comes open world sandbox games usual fare cons...\n",
       "1631828    final fantasy hd review introduction final fan...\n",
       "1706283    mepreface let start saying new fighting games ...\n",
       "46541      year squaresoft pretty much top game year stri...\n",
       "755163     readers beware dont spoil story tell things st...\n",
       "1292498    fifa franchise juggernaut worldwide phenomenon...\n",
       "1582622    first preface stating gave game five five star...\n",
       "1285815    mgs franchise probably one wellknown video gam...\n",
       "941657     mists pandaria beautiful yet flawed expansion ...\n",
       "1554365    good afternoon everyone long time since wrote ...\n",
       "1141594    friends eagerly awaited launch nintendos wii u...\n",
       "118033     story starts little island called destiny isla...\n",
       "1325188    must start review saying love donkey kong coun...\n",
       "757157     youve read review batman arkham asylum know lo...\n",
       "2314403    mighty bomb jack creatively made game extraord...\n",
       "797344     legend zelda ocarina time hands favorite video...\n",
       "1061330    edit decided edit review second time downgrade...\n",
       "2050938    review based using tx racing wheel nose imprez...\n",
       "354807     bought based upon reviews amazon thought hell ...\n",
       "2045713    legend zelda ocarina time hands favorite video...\n",
       "1404576    youve read review original dark souls youll kn...\n",
       "790518     game great areas terrible others ill try hones...\n",
       "673624     case didnt already know red dead redemption sp...\n",
       "292098     theres disputing ea owns lions share sports vi...\n",
       "2046709    must start review saying love donkey kong coun...\n",
       "924637     updated positive review update review dead spa...\n",
       "1504426    review physical imperial edition game hoping h...\n",
       "854287     world tyrants corruption world many different ...\n",
       "958545     witcher sets new highbar roleplaying games rpg...\n",
       "1432927    prologue video game enthusiast isnt console ha...\n",
       "Name: review_text, dtype: object"
      ]
     },
     "execution_count": 57,
     "metadata": {},
     "output_type": "execute_result"
    }
   ],
   "source": [
    "raw_data[raw_data['word_count'] > 1500].sort_values(by='word_count',ascending=False)['review_text']"
   ]
  },
  {
   "cell_type": "code",
   "execution_count": 6,
   "metadata": {},
   "outputs": [],
   "source": [
    "raw_data = raw_data.reset_index(drop=True)"
   ]
  },
  {
   "cell_type": "code",
   "execution_count": 61,
   "metadata": {},
   "outputs": [
    {
     "name": "stdout",
     "output_type": "stream",
     "text": [
      "<class 'pandas.core.frame.DataFrame'>\n",
      "RangeIndex: 2102191 entries, 0 to 2102190\n",
      "Data columns (total 11 columns):\n",
      " #   Column             Dtype         \n",
      "---  ------             -----         \n",
      " 0   reviewer_id        object        \n",
      " 1   product_id         object        \n",
      " 2   verified           bool          \n",
      " 3   review_time        datetime64[ns]\n",
      " 4   helpfullness_vote  int32         \n",
      " 5   summary            object        \n",
      " 6   review_text        object        \n",
      " 7   ratings            int32         \n",
      " 8   stopwords          int64         \n",
      " 9   punctuation        int64         \n",
      " 10  word_count         int64         \n",
      "dtypes: bool(1), datetime64[ns](1), int32(2), int64(3), object(4)\n",
      "memory usage: 146.4+ MB\n"
     ]
    }
   ],
   "source": [
    "raw_data.info()"
   ]
  },
  {
   "cell_type": "markdown",
   "metadata": {},
   "source": [
    "Ratings"
   ]
  },
  {
   "cell_type": "code",
   "execution_count": 69,
   "metadata": {},
   "outputs": [
    {
     "data": {
      "text/plain": [
       "5    54.033863\n",
       "4    17.118949\n",
       "1    13.383370\n",
       "3     9.196500\n",
       "2     6.267318\n",
       "Name: ratings, dtype: float64"
      ]
     },
     "execution_count": 69,
     "metadata": {},
     "output_type": "execute_result"
    }
   ],
   "source": [
    "raw_data['ratings'].value_counts(normalize=True)*100"
   ]
  },
  {
   "cell_type": "code",
   "execution_count": 86,
   "metadata": {},
   "outputs": [
    {
     "data": {
      "text/plain": [
       "<AxesSubplot: xlabel='ratings', ylabel='count'>"
      ]
     },
     "execution_count": 86,
     "metadata": {},
     "output_type": "execute_result"
    },
    {
     "data": {
      "image/png": "[encoded data removed]",
      "text/plain": [
       "<Figure size 640x480 with 1 Axes>"
      ]
     },
     "metadata": {},
     "output_type": "display_data"
    }
   ],
   "source": [
    "sns.countplot(x= 'ratings', data= raw_data)"
   ]
  },
  {
   "cell_type": "markdown",
   "metadata": {},
   "source": [
    "#### Most of the reviews are rated with 5, this is an unbalanced dataset"
   ]
  },
  {
   "cell_type": "markdown",
   "metadata": {},
   "source": [
    "#### Encoding sentiments of reviews based of ratings \n",
    "- 0 [Negative]\n",
    "- 1 [Positive]"
   ]
  },
  {
   "cell_type": "code",
   "execution_count": 5,
   "metadata": {},
   "outputs": [],
   "source": [
    "raw_data['rating_sentiment'] = raw_data['ratings']"
   ]
  },
  {
   "cell_type": "code",
   "execution_count": 7,
   "metadata": {},
   "outputs": [],
   "source": [
    "raw_data['rating_sentiment'][raw_data.ratings <= 3] = 0\n",
    "raw_data['rating_sentiment'][raw_data.ratings >= 4] = 1 "
   ]
  },
  {
   "cell_type": "code",
   "execution_count": 9,
   "metadata": {
    "tags": [
     "checkpoint"
    ]
   },
   "outputs": [
    {
     "data": {
      "text/html": [
       "<div>\n",
       "<style scoped>\n",
       "    .dataframe tbody tr th:only-of-type {\n",
       "        vertical-align: middle;\n",
       "    }\n",
       "\n",
       "    .dataframe tbody tr th {\n",
       "        vertical-align: top;\n",
       "    }\n",
       "\n",
       "    .dataframe thead th {\n",
       "        text-align: right;\n",
       "    }\n",
       "</style>\n",
       "<table border=\"1\" class=\"dataframe\">\n",
       "  <thead>\n",
       "    <tr style=\"text-align: right;\">\n",
       "      <th></th>\n",
       "      <th>ratings</th>\n",
       "      <th>rating_sentiment</th>\n",
       "    </tr>\n",
       "  </thead>\n",
       "  <tbody>\n",
       "    <tr>\n",
       "      <th>0</th>\n",
       "      <td>1</td>\n",
       "      <td>0</td>\n",
       "    </tr>\n",
       "    <tr>\n",
       "      <th>1</th>\n",
       "      <td>3</td>\n",
       "      <td>0</td>\n",
       "    </tr>\n",
       "    <tr>\n",
       "      <th>2</th>\n",
       "      <td>4</td>\n",
       "      <td>1</td>\n",
       "    </tr>\n",
       "    <tr>\n",
       "      <th>3</th>\n",
       "      <td>1</td>\n",
       "      <td>0</td>\n",
       "    </tr>\n",
       "    <tr>\n",
       "      <th>4</th>\n",
       "      <td>4</td>\n",
       "      <td>1</td>\n",
       "    </tr>\n",
       "    <tr>\n",
       "      <th>...</th>\n",
       "      <td>...</td>\n",
       "      <td>...</td>\n",
       "    </tr>\n",
       "    <tr>\n",
       "      <th>2102190</th>\n",
       "      <td>1</td>\n",
       "      <td>0</td>\n",
       "    </tr>\n",
       "    <tr>\n",
       "      <th>2102191</th>\n",
       "      <td>1</td>\n",
       "      <td>0</td>\n",
       "    </tr>\n",
       "    <tr>\n",
       "      <th>2102192</th>\n",
       "      <td>5</td>\n",
       "      <td>1</td>\n",
       "    </tr>\n",
       "    <tr>\n",
       "      <th>2102193</th>\n",
       "      <td>5</td>\n",
       "      <td>1</td>\n",
       "    </tr>\n",
       "    <tr>\n",
       "      <th>2102194</th>\n",
       "      <td>5</td>\n",
       "      <td>1</td>\n",
       "    </tr>\n",
       "  </tbody>\n",
       "</table>\n",
       "<p>2102195 rows × 2 columns</p>\n",
       "</div>"
      ],
      "text/plain": [
       "         ratings  rating_sentiment\n",
       "0              1                 0\n",
       "1              3                 0\n",
       "2              4                 1\n",
       "3              1                 0\n",
       "4              4                 1\n",
       "...          ...               ...\n",
       "2102190        1                 0\n",
       "2102191        1                 0\n",
       "2102192        5                 1\n",
       "2102193        5                 1\n",
       "2102194        5                 1\n",
       "\n",
       "[2102195 rows x 2 columns]"
      ]
     },
     "execution_count": 9,
     "metadata": {},
     "output_type": "execute_result"
    }
   ],
   "source": [
    "raw_data[['ratings','rating_sentiment']]"
   ]
  },
  {
   "cell_type": "code",
   "execution_count": 30,
   "metadata": {},
   "outputs": [
    {
     "data": {
      "text/plain": [
       "1    71.152819\n",
       "0    28.847181\n",
       "Name: rating_sentiment, dtype: float64"
      ]
     },
     "execution_count": 30,
     "metadata": {},
     "output_type": "execute_result"
    }
   ],
   "source": [
    "raw_data['rating_sentiment'].value_counts(normalize=True)*100"
   ]
  },
  {
   "cell_type": "markdown",
   "metadata": {},
   "source": [
    "#### Review text"
   ]
  },
  {
   "cell_type": "code",
   "execution_count": 16,
   "metadata": {},
   "outputs": [],
   "source": [
    "from wordcloud import WordCloud,ImageColorGenerator,STOPWORDS\n",
    "stopwords = set(STOPWORDS)"
   ]
  },
  {
   "cell_type": "code",
   "execution_count": 20,
   "metadata": {},
   "outputs": [],
   "source": [
    "raw_data['review_text'] = raw_data['review_text'].astype('str')"
   ]
  },
  {
   "cell_type": "code",
   "execution_count": 25,
   "metadata": {},
   "outputs": [],
   "source": [
    "text = \" \".join(words for words in raw_data['review_text'].iloc[:100000])"
   ]
  },
  {
   "cell_type": "code",
   "execution_count": 26,
   "metadata": {},
   "outputs": [
    {
     "data": {
      "image/png": "[encoded data removed]",
      "text/plain": [
       "<Figure size 640x480 with 1 Axes>"
      ]
     },
     "metadata": {},
     "output_type": "display_data"
    }
   ],
   "source": [
    "# Create and generate a word cloud image:\n",
    "wordcloud = WordCloud(stopwords=stopwords).generate(text)\n",
    "\n",
    "# Display the generated image:\n",
    "plt.imshow(wordcloud, interpolation='bilinear')\n",
    "plt.axis(\"off\")\n",
    "plt.show()"
   ]
  },
  {
   "cell_type": "code",
   "execution_count": 32,
   "metadata": {},
   "outputs": [],
   "source": [
    "raw_data.to_csv(r'C:\\Users\\91959\\Amazon_reviews_sentiment_analysis\\Dataset\\preprocessed_data.csv',index=False)"
   ]
  },
  {
   "cell_type": "markdown",
   "metadata": {},
   "source": [
    "We will encode sentiments for reviews using pretrained roberta model using transformer from the Hugging face"
   ]
  },
  {
   "cell_type": "code",
   "execution_count": 4,
   "metadata": {},
   "outputs": [],
   "source": [
    "from transformers import AutoTokenizer\n",
    "from transformers import AutoModelForSequenceClassification\n",
    "from scipy.special import softmax\n",
    "import torch \n",
    "from tqdm.notebook import tqdm"
   ]
  },
  {
   "cell_type": "code",
   "execution_count": 65,
   "metadata": {},
   "outputs": [],
   "source": [
    "sample_data = data.sample(500000)"
   ]
  },
  {
   "cell_type": "code",
   "execution_count": 66,
   "metadata": {},
   "outputs": [],
   "source": [
    "sample_data.reset_index(drop=True, inplace=True)"
   ]
  },
  {
   "cell_type": "code",
   "execution_count": 8,
   "metadata": {},
   "outputs": [],
   "source": [
    "task='sentiment'\n",
    "MODEL = f\"cardiffnlp/twitter-roberta-base-{task}\"\n",
    "tokenizer = AutoTokenizer.from_pretrained(MODEL)\n",
    "model = AutoModelForSequenceClassification.from_pretrained(MODEL)"
   ]
  },
  {
   "cell_type": "code",
   "execution_count": 10,
   "metadata": {},
   "outputs": [],
   "source": [
    "def roberta_model(text):\n",
    "    encoded_input = tokenizer.encode(text, return_tensors='pt', \\\n",
    "    padding=True, truncation=True,max_length=50, add_special_tokens = True)\n",
    "    output = model(encoded_input)\n",
    "    scores = output[0][0].detach().numpy()\n",
    "    scores = softmax(scores)\n",
    "    labels = ['negative', 'neutral', 'positive']\n",
    "    ranking = np.argsort(scores)\n",
    "    ranking = ranking[::-1]\n",
    "    for i in range(scores.shape[0]):\n",
    "        l = labels[ranking[i]]\n",
    "        return l"
   ]
  },
  {
   "cell_type": "code",
   "execution_count": 67,
   "metadata": {},
   "outputs": [],
   "source": [
    "sample_data['roberta_sentiment'] = sample_data['review_text'].apply(lambda x: roberta_model(x))"
   ]
  },
  {
   "cell_type": "code",
   "execution_count": 74,
   "metadata": {},
   "outputs": [
    {
     "data": {
      "text/plain": [
       "positive    62.2020\n",
       "neutral     22.1566\n",
       "negative    15.6414\n",
       "Name: roberta_sentiment, dtype: float64"
      ]
     },
     "execution_count": 74,
     "metadata": {},
     "output_type": "execute_result"
    }
   ],
   "source": [
    "sample_data['roberta_sentiment'].value_counts(normalize= True)*100"
   ]
  },
  {
   "cell_type": "code",
   "execution_count": 81,
   "metadata": {},
   "outputs": [],
   "source": [
    "positive_data = sample_data[sample_data.roberta_sentiment == 'positive']\n",
    "negative_data = sample_data[sample_data.roberta_sentiment == 'negative']\n",
    "neutral_data = sample_data[sample_data.roberta_sentiment == 'neutral']"
   ]
  },
  {
   "cell_type": "code",
   "execution_count": 83,
   "metadata": {},
   "outputs": [
    {
     "data": {
      "image/png": "[encoded data removed]",
      "text/plain": [
       "<Figure size 1500x700 with 3 Axes>"
      ]
     },
     "metadata": {},
     "output_type": "display_data"
    }
   ],
   "source": [
    "fig, (ax1,ax2,ax3) = plt.subplots(nrows=1,ncols= 3, figsize= (15,7))\n",
    "sns.histplot(x='ratings', data= positive_data, ax= ax1)\n",
    "ax1.set_xlabel(\"Positive\")\n",
    "sns.histplot(x='ratings', data= negative_data, ax=ax2)\n",
    "ax2.set_xlabel(\"Negative\")\n",
    "sns.histplot(x='ratings', data= neutral_data, ax= ax3)\n",
    "ax3.set_xlabel(\"Neutral\")\n",
    "sns.despine()"
   ]
  },
  {
   "cell_type": "markdown",
   "metadata": {},
   "source": [
    "OBservation:\n",
    "- From this we can tell that sentiments are more acurate when using roberta model"
   ]
  },
  {
   "cell_type": "code",
   "execution_count": 85,
   "metadata": {},
   "outputs": [],
   "source": [
    "sample_data.drop(columns= 'rating_sentiment', inplace= True)"
   ]
  },
  {
   "cell_type": "code",
   "execution_count": 91,
   "metadata": {},
   "outputs": [],
   "source": [
    "sample_data.to_csv(r'C:\\Users\\91959\\Amazon_reviews_sentiment_analysis\\Dataset\\final_form.csv',index=False)"
   ]
  },
  {
   "cell_type": "code",
   "execution_count": 26,
   "metadata": {},
   "outputs": [],
   "source": [
    "final_form = pd.read_csv(r\"C:\\Users\\91959\\Amazon_reviews_sentiment_analysis\\Dataset\\final_form.csv\")"
   ]
  },
  {
   "cell_type": "code",
   "execution_count": 27,
   "metadata": {},
   "outputs": [
    {
     "data": {
      "text/plain": [
       "positive    62.2020\n",
       "neutral     22.1566\n",
       "negative    15.6414\n",
       "Name: roberta_sentiment, dtype: float64"
      ]
     },
     "execution_count": 27,
     "metadata": {},
     "output_type": "execute_result"
    }
   ],
   "source": [
    "final_form['roberta_sentiment'].value_counts(normalize=True)*100"
   ]
  },
  {
   "cell_type": "markdown",
   "metadata": {},
   "source": [
    "From this we can tell this is an imbalanced data set so we cannot use accuracy as evalution metrics "
   ]
  },
  {
   "cell_type": "markdown",
   "metadata": {},
   "source": [
    "We only need review text and sentiments features for our model building so we can drop other column"
   ]
  },
  {
   "cell_type": "code",
   "execution_count": 28,
   "metadata": {},
   "outputs": [],
   "source": [
    "model_data = final_form[['review_text','roberta_sentiment']]"
   ]
  },
  {
   "cell_type": "code",
   "execution_count": 29,
   "metadata": {},
   "outputs": [
    {
     "data": {
      "text/html": [
       "<div>\n",
       "<style scoped>\n",
       "    .dataframe tbody tr th:only-of-type {\n",
       "        vertical-align: middle;\n",
       "    }\n",
       "\n",
       "    .dataframe tbody tr th {\n",
       "        vertical-align: top;\n",
       "    }\n",
       "\n",
       "    .dataframe thead th {\n",
       "        text-align: right;\n",
       "    }\n",
       "</style>\n",
       "<table border=\"1\" class=\"dataframe\">\n",
       "  <thead>\n",
       "    <tr style=\"text-align: right;\">\n",
       "      <th></th>\n",
       "      <th>review_text</th>\n",
       "      <th>roberta_sentiment</th>\n",
       "    </tr>\n",
       "  </thead>\n",
       "  <tbody>\n",
       "    <tr>\n",
       "      <th>0</th>\n",
       "      <td>bigger screen</td>\n",
       "      <td>neutral</td>\n",
       "    </tr>\n",
       "    <tr>\n",
       "      <th>1</th>\n",
       "      <td>played games much fun decided purchase copies ...</td>\n",
       "      <td>positive</td>\n",
       "    </tr>\n",
       "    <tr>\n",
       "      <th>2</th>\n",
       "      <td>love battlefield best game already game bought...</td>\n",
       "      <td>positive</td>\n",
       "    </tr>\n",
       "    <tr>\n",
       "      <th>3</th>\n",
       "      <td>headset works great awhile playing games sudde...</td>\n",
       "      <td>positive</td>\n",
       "    </tr>\n",
       "    <tr>\n",
       "      <th>4</th>\n",
       "      <td>cross play wiiu local play wiiu host great gam...</td>\n",
       "      <td>positive</td>\n",
       "    </tr>\n",
       "  </tbody>\n",
       "</table>\n",
       "</div>"
      ],
      "text/plain": [
       "                                         review_text roberta_sentiment\n",
       "0                                      bigger screen           neutral\n",
       "1  played games much fun decided purchase copies ...          positive\n",
       "2  love battlefield best game already game bought...          positive\n",
       "3  headset works great awhile playing games sudde...          positive\n",
       "4  cross play wiiu local play wiiu host great gam...          positive"
      ]
     },
     "execution_count": 29,
     "metadata": {},
     "output_type": "execute_result"
    }
   ],
   "source": [
    "model_data.head()"
   ]
  },
  {
   "cell_type": "markdown",
   "metadata": {},
   "source": [
    "Encoding the sentiment in numerical values\n",
    "\n",
    "- Negative as 0\n",
    "- Neutral as 1\n",
    "- Positive as 2"
   ]
  },
  {
   "cell_type": "code",
   "execution_count": 30,
   "metadata": {},
   "outputs": [],
   "source": [
    "model_data.loc[model_data['roberta_sentiment'] == 'neutral' , 'sentiment'] = 1\n",
    "model_data.loc[model_data['roberta_sentiment'] == 'negative' , 'sentiment'] = 0\n",
    "model_data.loc[model_data['roberta_sentiment'] == 'positive' , 'sentiment'] = 2"
   ]
  },
  {
   "cell_type": "code",
   "execution_count": 31,
   "metadata": {},
   "outputs": [
    {
     "data": {
      "text/plain": [
       "2.0    62.2020\n",
       "1.0    22.1566\n",
       "0.0    15.6414\n",
       "Name: sentiment, dtype: float64"
      ]
     },
     "execution_count": 31,
     "metadata": {},
     "output_type": "execute_result"
    }
   ],
   "source": [
    "model_data.sentiment.value_counts(normalize=True)*100"
   ]
  },
  {
   "cell_type": "code",
   "execution_count": 32,
   "metadata": {},
   "outputs": [],
   "source": [
    "model_data.drop(columns='roberta_sentiment', inplace=True)"
   ]
  },
  {
   "cell_type": "code",
   "execution_count": 33,
   "metadata": {},
   "outputs": [],
   "source": [
    "data = model_data.sample(200000)"
   ]
  },
  {
   "cell_type": "code",
   "execution_count": 34,
   "metadata": {},
   "outputs": [],
   "source": [
    "data.reset_index(drop=True, inplace=True)"
   ]
  },
  {
   "cell_type": "code",
   "execution_count": 35,
   "metadata": {},
   "outputs": [
    {
     "data": {
      "text/plain": [
       "2.0    62.1805\n",
       "1.0    22.1870\n",
       "0.0    15.6325\n",
       "Name: sentiment, dtype: float64"
      ]
     },
     "execution_count": 35,
     "metadata": {},
     "output_type": "execute_result"
    }
   ],
   "source": [
    "data.sentiment.value_counts(normalize=True)*100"
   ]
  },
  {
   "cell_type": "markdown",
   "metadata": {},
   "source": [
    "# MODEL BUilding:"
   ]
  },
  {
   "cell_type": "markdown",
   "metadata": {},
   "source": [
    "## Splitting dataset"
   ]
  },
  {
   "cell_type": "code",
   "execution_count": 39,
   "metadata": {},
   "outputs": [],
   "source": [
    "training_data , validation_data = train_test_split(data, test_size=0.35, random_state= 223)"
   ]
  },
  {
   "cell_type": "code",
   "execution_count": 40,
   "metadata": {},
   "outputs": [],
   "source": [
    "validation_data, testing_data = train_test_split(validation_data, test_size= 0.40, random_state=223)"
   ]
  },
  {
   "cell_type": "code",
   "execution_count": 41,
   "metadata": {},
   "outputs": [
    {
     "name": "stdout",
     "output_type": "stream",
     "text": [
      "Number of rows in training_set (130000, 2)\n",
      "Number of rows in validation_set (42000, 2)\n",
      "Number of rows in testing_set (28000, 2)\n"
     ]
    }
   ],
   "source": [
    "print(\"Number of rows in training_set\",training_data.shape)\n",
    "print(\"Number of rows in validation_set\",validation_data.shape)\n",
    "print(\"Number of rows in testing_set\",testing_data.shape)"
   ]
  },
  {
   "cell_type": "code",
   "execution_count": 42,
   "metadata": {},
   "outputs": [],
   "source": [
    "training_data.reset_index(drop= True, inplace=True)\n",
    "validation_data.reset_index(drop= True, inplace=True)\n",
    "testing_data.reset_index(drop= True, inplace=True)"
   ]
  },
  {
   "cell_type": "code",
   "execution_count": 43,
   "metadata": {},
   "outputs": [],
   "source": [
    "training_data.to_csv(r'C:\\Users\\91959\\Amazon_reviews_sentiment_analysis\\Dataset\\train_data.csv',index=False)\n",
    "validation_data.to_csv(r'C:\\Users\\91959\\Amazon_reviews_sentiment_analysis\\Dataset\\validation_data.csv',index=False)\n",
    "testing_data.to_csv(r'C:\\Users\\91959\\Amazon_reviews_sentiment_analysis\\Dataset\\test_data.csv',index=False)"
   ]
  },
  {
   "cell_type": "markdown",
   "metadata": {},
   "source": [
    "## Model Training"
   ]
  },
  {
   "cell_type": "code",
   "execution_count": 3,
   "metadata": {},
   "outputs": [],
   "source": [
    "## Importing Algorithms\n",
    "\n",
    "from sklearn.linear_model import LogisticRegression, SGDClassifier\n",
    "from sklearn.svm import SVC\n",
    "from sklearn.neighbors import KNeighborsClassifier\n",
    "from sklearn.tree import DecisionTreeClassifier\n",
    "from sklearn.ensemble import RandomForestClassifier\n",
    "from sklearn.naive_bayes import GaussianNB\n",
    "from sklearn.naive_bayes import MultinomialNB\n",
    "from sklearn.metrics import f1_score, precision_score, recall_score, confusion_matrix\n",
    "from sklearn.model_selection import train_test_split\n",
    "from sklearn.feature_extraction.text import TfidfVectorizer\n",
    "import pickle"
   ]
  },
  {
   "cell_type": "code",
   "execution_count": 2,
   "metadata": {},
   "outputs": [],
   "source": [
    "train_data = pd.read_csv(r'C:\\Users\\91959\\Amazon_reviews_sentiment_analysis\\Dataset\\train_data.csv')\n",
    "val_data = pd.read_csv(r'C:\\Users\\91959\\Amazon_reviews_sentiment_analysis\\Dataset\\validation_data.csv')\n",
    "test_data = pd.read_csv(r'C:\\Users\\91959\\Amazon_reviews_sentiment_analysis\\Dataset\\test_data.csv')"
   ]
  },
  {
   "cell_type": "code",
   "execution_count": 6,
   "metadata": {},
   "outputs": [
    {
     "data": {
      "text/html": [
       "<div>\n",
       "<style scoped>\n",
       "    .dataframe tbody tr th:only-of-type {\n",
       "        vertical-align: middle;\n",
       "    }\n",
       "\n",
       "    .dataframe tbody tr th {\n",
       "        vertical-align: top;\n",
       "    }\n",
       "\n",
       "    .dataframe thead th {\n",
       "        text-align: right;\n",
       "    }\n",
       "</style>\n",
       "<table border=\"1\" class=\"dataframe\">\n",
       "  <thead>\n",
       "    <tr style=\"text-align: right;\">\n",
       "      <th></th>\n",
       "      <th>review_text</th>\n",
       "      <th>sentiment</th>\n",
       "    </tr>\n",
       "  </thead>\n",
       "  <tbody>\n",
       "    <tr>\n",
       "      <th>0</th>\n",
       "      <td>hard get xbox controller function scripts say ...</td>\n",
       "      <td>1.0</td>\n",
       "    </tr>\n",
       "    <tr>\n",
       "      <th>1</th>\n",
       "      <td>defiantly improved ingame skills great mouse</td>\n",
       "      <td>2.0</td>\n",
       "    </tr>\n",
       "    <tr>\n",
       "      <th>2</th>\n",
       "      <td>son thrilled get especially happy larger size ...</td>\n",
       "      <td>2.0</td>\n",
       "    </tr>\n",
       "    <tr>\n",
       "      <th>3</th>\n",
       "      <td>levels borderlands whats like enough said</td>\n",
       "      <td>1.0</td>\n",
       "    </tr>\n",
       "    <tr>\n",
       "      <th>4</th>\n",
       "      <td>happy condition reasonable price</td>\n",
       "      <td>2.0</td>\n",
       "    </tr>\n",
       "  </tbody>\n",
       "</table>\n",
       "</div>"
      ],
      "text/plain": [
       "                                         review_text  sentiment\n",
       "0  hard get xbox controller function scripts say ...        1.0\n",
       "1       defiantly improved ingame skills great mouse        2.0\n",
       "2  son thrilled get especially happy larger size ...        2.0\n",
       "3          levels borderlands whats like enough said        1.0\n",
       "4                   happy condition reasonable price        2.0"
      ]
     },
     "execution_count": 6,
     "metadata": {},
     "output_type": "execute_result"
    }
   ],
   "source": [
    "train_data.head()"
   ]
  },
  {
   "cell_type": "markdown",
   "metadata": {},
   "source": [
    "### Preprocess"
   ]
  },
  {
   "cell_type": "code",
   "execution_count": 4,
   "metadata": {},
   "outputs": [],
   "source": [
    "x_train = train_data[['review_text']]\n",
    "y_train = train_data[['sentiment']]\n",
    "x_val = val_data[['review_text']]\n",
    "y_val = val_data[['sentiment']]\n",
    "x_test = test_data[['review_text']]\n",
    "y_test = test_data[['sentiment']]"
   ]
  },
  {
   "cell_type": "markdown",
   "metadata": {},
   "source": [
    "#### Converting reviews to matrix of TF-IDF features (Term Frequency and inverse document frequency)"
   ]
  },
  {
   "cell_type": "code",
   "execution_count": 8,
   "metadata": {},
   "outputs": [],
   "source": [
    "def text_vectorizer(data):\n",
    "    tf = TfidfVectorizer(ngram_range=(3,3), max_features= 3000 ,strip_accents='unicode')\n",
    "    tfi = tf.fit_transform(data)\n",
    "    return pd.DataFrame(tfi.toarray(),columns=tf.get_feature_names_out())"
   ]
  },
  {
   "cell_type": "code",
   "execution_count": 9,
   "metadata": {},
   "outputs": [],
   "source": [
    "x_train_tfi = text_vectorizer(x_train['review_text'])\n",
    "x_val_tfi =text_vectorizer(x_val['review_text'])"
   ]
  },
  {
   "cell_type": "code",
   "execution_count": 10,
   "metadata": {},
   "outputs": [
    {
     "data": {
      "text/html": [
       "<div>\n",
       "<style scoped>\n",
       "    .dataframe tbody tr th:only-of-type {\n",
       "        vertical-align: middle;\n",
       "    }\n",
       "\n",
       "    .dataframe tbody tr th {\n",
       "        vertical-align: top;\n",
       "    }\n",
       "\n",
       "    .dataframe thead th {\n",
       "        text-align: right;\n",
       "    }\n",
       "</style>\n",
       "<table border=\"1\" class=\"dataframe\">\n",
       "  <thead>\n",
       "    <tr style=\"text-align: right;\">\n",
       "      <th></th>\n",
       "      <th>able get game</th>\n",
       "      <th>able play game</th>\n",
       "      <th>able play games</th>\n",
       "      <th>able play online</th>\n",
       "      <th>able play without</th>\n",
       "      <th>absolutely love game</th>\n",
       "      <th>absolutely loved game</th>\n",
       "      <th>absolutely loves game</th>\n",
       "      <th>acting top notch</th>\n",
       "      <th>actual game play</th>\n",
       "      <th>...</th>\n",
       "      <th>youve ever played</th>\n",
       "      <th>youve never played</th>\n",
       "      <th>youve played game</th>\n",
       "      <th>youve played previous</th>\n",
       "      <th>yr old daughter</th>\n",
       "      <th>yr old grandson</th>\n",
       "      <th>yr old son</th>\n",
       "      <th>zelda link past</th>\n",
       "      <th>zelda twilight princess</th>\n",
       "      <th>zelda wind waker</th>\n",
       "    </tr>\n",
       "  </thead>\n",
       "  <tbody>\n",
       "    <tr>\n",
       "      <th>0</th>\n",
       "      <td>0.0</td>\n",
       "      <td>0.0</td>\n",
       "      <td>0.0</td>\n",
       "      <td>0.0</td>\n",
       "      <td>0.0</td>\n",
       "      <td>0.0</td>\n",
       "      <td>0.0</td>\n",
       "      <td>0.0</td>\n",
       "      <td>0.0</td>\n",
       "      <td>0.0</td>\n",
       "      <td>...</td>\n",
       "      <td>0.0</td>\n",
       "      <td>0.0</td>\n",
       "      <td>0.0</td>\n",
       "      <td>0.0</td>\n",
       "      <td>0.0</td>\n",
       "      <td>0.0</td>\n",
       "      <td>0.0</td>\n",
       "      <td>0.0</td>\n",
       "      <td>0.0</td>\n",
       "      <td>0.0</td>\n",
       "    </tr>\n",
       "    <tr>\n",
       "      <th>1</th>\n",
       "      <td>0.0</td>\n",
       "      <td>0.0</td>\n",
       "      <td>0.0</td>\n",
       "      <td>0.0</td>\n",
       "      <td>0.0</td>\n",
       "      <td>0.0</td>\n",
       "      <td>0.0</td>\n",
       "      <td>0.0</td>\n",
       "      <td>0.0</td>\n",
       "      <td>0.0</td>\n",
       "      <td>...</td>\n",
       "      <td>0.0</td>\n",
       "      <td>0.0</td>\n",
       "      <td>0.0</td>\n",
       "      <td>0.0</td>\n",
       "      <td>0.0</td>\n",
       "      <td>0.0</td>\n",
       "      <td>0.0</td>\n",
       "      <td>0.0</td>\n",
       "      <td>0.0</td>\n",
       "      <td>0.0</td>\n",
       "    </tr>\n",
       "    <tr>\n",
       "      <th>2</th>\n",
       "      <td>0.0</td>\n",
       "      <td>0.0</td>\n",
       "      <td>0.0</td>\n",
       "      <td>0.0</td>\n",
       "      <td>0.0</td>\n",
       "      <td>0.0</td>\n",
       "      <td>0.0</td>\n",
       "      <td>0.0</td>\n",
       "      <td>0.0</td>\n",
       "      <td>0.0</td>\n",
       "      <td>...</td>\n",
       "      <td>0.0</td>\n",
       "      <td>0.0</td>\n",
       "      <td>0.0</td>\n",
       "      <td>0.0</td>\n",
       "      <td>0.0</td>\n",
       "      <td>0.0</td>\n",
       "      <td>0.0</td>\n",
       "      <td>0.0</td>\n",
       "      <td>0.0</td>\n",
       "      <td>0.0</td>\n",
       "    </tr>\n",
       "    <tr>\n",
       "      <th>3</th>\n",
       "      <td>0.0</td>\n",
       "      <td>0.0</td>\n",
       "      <td>0.0</td>\n",
       "      <td>0.0</td>\n",
       "      <td>0.0</td>\n",
       "      <td>0.0</td>\n",
       "      <td>0.0</td>\n",
       "      <td>0.0</td>\n",
       "      <td>0.0</td>\n",
       "      <td>0.0</td>\n",
       "      <td>...</td>\n",
       "      <td>0.0</td>\n",
       "      <td>0.0</td>\n",
       "      <td>0.0</td>\n",
       "      <td>0.0</td>\n",
       "      <td>0.0</td>\n",
       "      <td>0.0</td>\n",
       "      <td>0.0</td>\n",
       "      <td>0.0</td>\n",
       "      <td>0.0</td>\n",
       "      <td>0.0</td>\n",
       "    </tr>\n",
       "    <tr>\n",
       "      <th>4</th>\n",
       "      <td>0.0</td>\n",
       "      <td>0.0</td>\n",
       "      <td>0.0</td>\n",
       "      <td>0.0</td>\n",
       "      <td>0.0</td>\n",
       "      <td>0.0</td>\n",
       "      <td>0.0</td>\n",
       "      <td>0.0</td>\n",
       "      <td>0.0</td>\n",
       "      <td>0.0</td>\n",
       "      <td>...</td>\n",
       "      <td>0.0</td>\n",
       "      <td>0.0</td>\n",
       "      <td>0.0</td>\n",
       "      <td>0.0</td>\n",
       "      <td>0.0</td>\n",
       "      <td>0.0</td>\n",
       "      <td>0.0</td>\n",
       "      <td>0.0</td>\n",
       "      <td>0.0</td>\n",
       "      <td>0.0</td>\n",
       "    </tr>\n",
       "    <tr>\n",
       "      <th>...</th>\n",
       "      <td>...</td>\n",
       "      <td>...</td>\n",
       "      <td>...</td>\n",
       "      <td>...</td>\n",
       "      <td>...</td>\n",
       "      <td>...</td>\n",
       "      <td>...</td>\n",
       "      <td>...</td>\n",
       "      <td>...</td>\n",
       "      <td>...</td>\n",
       "      <td>...</td>\n",
       "      <td>...</td>\n",
       "      <td>...</td>\n",
       "      <td>...</td>\n",
       "      <td>...</td>\n",
       "      <td>...</td>\n",
       "      <td>...</td>\n",
       "      <td>...</td>\n",
       "      <td>...</td>\n",
       "      <td>...</td>\n",
       "      <td>...</td>\n",
       "    </tr>\n",
       "    <tr>\n",
       "      <th>129995</th>\n",
       "      <td>0.0</td>\n",
       "      <td>0.0</td>\n",
       "      <td>0.0</td>\n",
       "      <td>0.0</td>\n",
       "      <td>0.0</td>\n",
       "      <td>0.0</td>\n",
       "      <td>0.0</td>\n",
       "      <td>0.0</td>\n",
       "      <td>0.0</td>\n",
       "      <td>0.0</td>\n",
       "      <td>...</td>\n",
       "      <td>0.0</td>\n",
       "      <td>0.0</td>\n",
       "      <td>0.0</td>\n",
       "      <td>0.0</td>\n",
       "      <td>0.0</td>\n",
       "      <td>0.0</td>\n",
       "      <td>0.0</td>\n",
       "      <td>0.0</td>\n",
       "      <td>0.0</td>\n",
       "      <td>0.0</td>\n",
       "    </tr>\n",
       "    <tr>\n",
       "      <th>129996</th>\n",
       "      <td>0.0</td>\n",
       "      <td>0.0</td>\n",
       "      <td>0.0</td>\n",
       "      <td>0.0</td>\n",
       "      <td>0.0</td>\n",
       "      <td>0.0</td>\n",
       "      <td>0.0</td>\n",
       "      <td>0.0</td>\n",
       "      <td>0.0</td>\n",
       "      <td>0.0</td>\n",
       "      <td>...</td>\n",
       "      <td>0.0</td>\n",
       "      <td>0.0</td>\n",
       "      <td>0.0</td>\n",
       "      <td>0.0</td>\n",
       "      <td>0.0</td>\n",
       "      <td>0.0</td>\n",
       "      <td>0.0</td>\n",
       "      <td>0.0</td>\n",
       "      <td>0.0</td>\n",
       "      <td>0.0</td>\n",
       "    </tr>\n",
       "    <tr>\n",
       "      <th>129997</th>\n",
       "      <td>0.0</td>\n",
       "      <td>0.0</td>\n",
       "      <td>0.0</td>\n",
       "      <td>0.0</td>\n",
       "      <td>0.0</td>\n",
       "      <td>0.0</td>\n",
       "      <td>0.0</td>\n",
       "      <td>0.0</td>\n",
       "      <td>0.0</td>\n",
       "      <td>0.0</td>\n",
       "      <td>...</td>\n",
       "      <td>0.0</td>\n",
       "      <td>0.0</td>\n",
       "      <td>0.0</td>\n",
       "      <td>0.0</td>\n",
       "      <td>0.0</td>\n",
       "      <td>0.0</td>\n",
       "      <td>0.0</td>\n",
       "      <td>0.0</td>\n",
       "      <td>0.0</td>\n",
       "      <td>0.0</td>\n",
       "    </tr>\n",
       "    <tr>\n",
       "      <th>129998</th>\n",
       "      <td>0.0</td>\n",
       "      <td>0.0</td>\n",
       "      <td>0.0</td>\n",
       "      <td>0.0</td>\n",
       "      <td>0.0</td>\n",
       "      <td>0.0</td>\n",
       "      <td>0.0</td>\n",
       "      <td>0.0</td>\n",
       "      <td>0.0</td>\n",
       "      <td>0.0</td>\n",
       "      <td>...</td>\n",
       "      <td>0.0</td>\n",
       "      <td>0.0</td>\n",
       "      <td>0.0</td>\n",
       "      <td>0.0</td>\n",
       "      <td>0.0</td>\n",
       "      <td>0.0</td>\n",
       "      <td>0.0</td>\n",
       "      <td>0.0</td>\n",
       "      <td>0.0</td>\n",
       "      <td>0.0</td>\n",
       "    </tr>\n",
       "    <tr>\n",
       "      <th>129999</th>\n",
       "      <td>0.0</td>\n",
       "      <td>0.0</td>\n",
       "      <td>0.0</td>\n",
       "      <td>0.0</td>\n",
       "      <td>0.0</td>\n",
       "      <td>0.0</td>\n",
       "      <td>0.0</td>\n",
       "      <td>0.0</td>\n",
       "      <td>0.0</td>\n",
       "      <td>0.0</td>\n",
       "      <td>...</td>\n",
       "      <td>0.0</td>\n",
       "      <td>0.0</td>\n",
       "      <td>0.0</td>\n",
       "      <td>0.0</td>\n",
       "      <td>0.0</td>\n",
       "      <td>0.0</td>\n",
       "      <td>0.0</td>\n",
       "      <td>0.0</td>\n",
       "      <td>0.0</td>\n",
       "      <td>0.0</td>\n",
       "    </tr>\n",
       "  </tbody>\n",
       "</table>\n",
       "<p>130000 rows × 3000 columns</p>\n",
       "</div>"
      ],
      "text/plain": [
       "        able get game  able play game  able play games  able play online  \\\n",
       "0                 0.0             0.0              0.0               0.0   \n",
       "1                 0.0             0.0              0.0               0.0   \n",
       "2                 0.0             0.0              0.0               0.0   \n",
       "3                 0.0             0.0              0.0               0.0   \n",
       "4                 0.0             0.0              0.0               0.0   \n",
       "...               ...             ...              ...               ...   \n",
       "129995            0.0             0.0              0.0               0.0   \n",
       "129996            0.0             0.0              0.0               0.0   \n",
       "129997            0.0             0.0              0.0               0.0   \n",
       "129998            0.0             0.0              0.0               0.0   \n",
       "129999            0.0             0.0              0.0               0.0   \n",
       "\n",
       "        able play without  absolutely love game  absolutely loved game  \\\n",
       "0                     0.0                   0.0                    0.0   \n",
       "1                     0.0                   0.0                    0.0   \n",
       "2                     0.0                   0.0                    0.0   \n",
       "3                     0.0                   0.0                    0.0   \n",
       "4                     0.0                   0.0                    0.0   \n",
       "...                   ...                   ...                    ...   \n",
       "129995                0.0                   0.0                    0.0   \n",
       "129996                0.0                   0.0                    0.0   \n",
       "129997                0.0                   0.0                    0.0   \n",
       "129998                0.0                   0.0                    0.0   \n",
       "129999                0.0                   0.0                    0.0   \n",
       "\n",
       "        absolutely loves game  acting top notch  actual game play  ...  \\\n",
       "0                         0.0               0.0               0.0  ...   \n",
       "1                         0.0               0.0               0.0  ...   \n",
       "2                         0.0               0.0               0.0  ...   \n",
       "3                         0.0               0.0               0.0  ...   \n",
       "4                         0.0               0.0               0.0  ...   \n",
       "...                       ...               ...               ...  ...   \n",
       "129995                    0.0               0.0               0.0  ...   \n",
       "129996                    0.0               0.0               0.0  ...   \n",
       "129997                    0.0               0.0               0.0  ...   \n",
       "129998                    0.0               0.0               0.0  ...   \n",
       "129999                    0.0               0.0               0.0  ...   \n",
       "\n",
       "        youve ever played  youve never played  youve played game  \\\n",
       "0                     0.0                 0.0                0.0   \n",
       "1                     0.0                 0.0                0.0   \n",
       "2                     0.0                 0.0                0.0   \n",
       "3                     0.0                 0.0                0.0   \n",
       "4                     0.0                 0.0                0.0   \n",
       "...                   ...                 ...                ...   \n",
       "129995                0.0                 0.0                0.0   \n",
       "129996                0.0                 0.0                0.0   \n",
       "129997                0.0                 0.0                0.0   \n",
       "129998                0.0                 0.0                0.0   \n",
       "129999                0.0                 0.0                0.0   \n",
       "\n",
       "        youve played previous  yr old daughter  yr old grandson  yr old son  \\\n",
       "0                         0.0              0.0              0.0         0.0   \n",
       "1                         0.0              0.0              0.0         0.0   \n",
       "2                         0.0              0.0              0.0         0.0   \n",
       "3                         0.0              0.0              0.0         0.0   \n",
       "4                         0.0              0.0              0.0         0.0   \n",
       "...                       ...              ...              ...         ...   \n",
       "129995                    0.0              0.0              0.0         0.0   \n",
       "129996                    0.0              0.0              0.0         0.0   \n",
       "129997                    0.0              0.0              0.0         0.0   \n",
       "129998                    0.0              0.0              0.0         0.0   \n",
       "129999                    0.0              0.0              0.0         0.0   \n",
       "\n",
       "        zelda link past  zelda twilight princess  zelda wind waker  \n",
       "0                   0.0                      0.0               0.0  \n",
       "1                   0.0                      0.0               0.0  \n",
       "2                   0.0                      0.0               0.0  \n",
       "3                   0.0                      0.0               0.0  \n",
       "4                   0.0                      0.0               0.0  \n",
       "...                 ...                      ...               ...  \n",
       "129995              0.0                      0.0               0.0  \n",
       "129996              0.0                      0.0               0.0  \n",
       "129997              0.0                      0.0               0.0  \n",
       "129998              0.0                      0.0               0.0  \n",
       "129999              0.0                      0.0               0.0  \n",
       "\n",
       "[130000 rows x 3000 columns]"
      ]
     },
     "execution_count": 10,
     "metadata": {},
     "output_type": "execute_result"
    }
   ],
   "source": [
    "x_train_tfi"
   ]
  },
  {
   "cell_type": "code",
   "execution_count": 58,
   "metadata": {},
   "outputs": [
    {
     "name": "stdout",
     "output_type": "stream",
     "text": [
      "shape of final_x_train (130000, 3000)\n",
      "shape of final_x_val (42000, 3000)\n"
     ]
    }
   ],
   "source": [
    "print(\"shape of final_x_train\", x_train_tfi.shape)\n",
    "print(\"shape of final_x_val\", x_val_tfi.shape)"
   ]
  },
  {
   "cell_type": "code",
   "execution_count": 59,
   "metadata": {},
   "outputs": [
    {
     "name": "stdout",
     "output_type": "stream",
     "text": [
      "Logistic Regression \n",
      "Model Performance for Training set:\n",
      "- F1-Score: 0.5342\n",
      "- Precision: 0.6140\n",
      "- Recall: 0.6416\n",
      "-----------------------------------\n",
      "Model Performance for Validation set:\n",
      "- F1-Score: 0.4877\n",
      "- Precision: 0.4778\n",
      "- Recall: 0.6048\n",
      "\n",
      "\n",
      "Random Forest\n",
      "Model Performance for Training set:\n",
      "- F1-Score: 0.6191\n",
      "- Precision: 0.7280\n",
      "- Recall: 0.6881\n",
      "-----------------------------------\n",
      "Model Performance for Validation set:\n",
      "- F1-Score: 0.4870\n",
      "- Precision: 0.4635\n",
      "- Recall: 0.5886\n",
      "\n",
      "\n",
      "K Neighbors\n",
      "Model Performance for Training set:\n",
      "- F1-Score: 0.4680\n",
      "- Precision: 0.6537\n",
      "- Recall: 0.4546\n",
      "-----------------------------------\n",
      "Model Performance for Validation set:\n",
      "- F1-Score: 0.3764\n",
      "- Precision: 0.5248\n",
      "- Recall: 0.3780\n",
      "\n",
      "\n",
      "Gaussian NB\n",
      "Model Performance for Training set:\n",
      "- F1-Score: 0.2924\n",
      "- Precision: 0.6637\n",
      "- Recall: 0.3000\n",
      "-----------------------------------\n",
      "Model Performance for Validation set:\n",
      "- F1-Score: 0.2579\n",
      "- Precision: 0.5263\n",
      "- Recall: 0.2621\n",
      "\n",
      "\n",
      "Multinomial NB\n",
      "Model Performance for Training set:\n",
      "- F1-Score: 0.5401\n",
      "- Precision: 0.6088\n",
      "- Recall: 0.6413\n",
      "-----------------------------------\n",
      "Model Performance for Validation set:\n",
      "- F1-Score: 0.4893\n",
      "- Precision: 0.4751\n",
      "- Recall: 0.6004\n",
      "\n",
      "\n"
     ]
    }
   ],
   "source": [
    "    models = {\n",
    "    \"Logistic Regression \": LogisticRegression(max_iter= 1000),\n",
    "    \"Random Forest\": RandomForestClassifier(),\n",
    "    \"K Neighbors\": KNeighborsClassifier(),\n",
    "    \"Gaussian NB\": GaussianNB(),\n",
    "    \"Multinomial NB\": MultinomialNB()\n",
    "    }\n",
    "\n",
    "    for i in range(len(list(models))):\n",
    "        model = list(models.values())[i]\n",
    "        model.fit(x_train_tfi,y_train) # To train the model\n",
    "        with open(r\"C:\\Users\\91959\\Amazon_reviews_sentiment_analysis\\Artifacts\\{}.pickle\".format(list(models.keys())[i]),'wb') as f: pickle.dump(model,f)\n",
    "\n",
    "    #Making predictions\n",
    "        y_train_pred = model.predict(x_train_tfi)\n",
    "        y_val_pred = model.predict(x_val_tfi)\n",
    "\n",
    "    # Training set performance\n",
    "        model_train_f1 = f1_score(y_train,y_train_pred, average = 'weighted')\n",
    "        model_train_precision = precision_score(y_train,y_train_pred, average = 'weighted')\n",
    "        model_train_recall = recall_score(y_train,y_train_pred, average = 'weighted')\n",
    "    \n",
    "\n",
    "    #Testing set performance\n",
    "        model_test_f1 = f1_score(y_val,y_val_pred, average = 'weighted')\n",
    "        model_test_precision = precision_score(y_val,y_val_pred, average = 'weighted')\n",
    "        model_test_recall = recall_score(y_val,y_val_pred, average = 'weighted')\n",
    "    \n",
    "\n",
    "        print(list(models.keys())[i])\n",
    "\n",
    "\n",
    "        print(\"Model Performance for Training set:\")\n",
    "\n",
    "        print(\"- F1-Score: {:.4f}\".format(model_train_f1))\n",
    "        print(\"- Precision: {:.4f}\".format(model_train_precision))\n",
    "        print(\"- Recall: {:.4f}\".format(model_train_recall))\n",
    "        \n",
    "        print(\"-----------------------------------\")\n",
    "\n",
    "        print(\"Model Performance for Validation set:\")\n",
    "        \n",
    "        print(\"- F1-Score: {:.4f}\".format(model_test_f1))\n",
    "        print(\"- Precision: {:.4f}\".format(model_test_precision))\n",
    "        print(\"- Recall: {:.4f}\".format(model_test_recall))\n",
    "        print('\\n')"
   ]
  },
  {
   "cell_type": "code",
   "execution_count": 6,
   "metadata": {},
   "outputs": [],
   "source": [
    "with open(r\"C:\\Users\\91959\\Amazon_reviews_sentiment_analysis\\Artifacts\\Random Forest.pickle\",'rb') as f:\n",
    "    model = pickle.load(f)"
   ]
  },
  {
   "cell_type": "code",
   "execution_count": 63,
   "metadata": {},
   "outputs": [
    {
     "data": {
      "text/plain": [
       "{'bootstrap': True,\n",
       " 'ccp_alpha': 0.0,\n",
       " 'class_weight': None,\n",
       " 'criterion': 'gini',\n",
       " 'max_depth': None,\n",
       " 'max_features': 'sqrt',\n",
       " 'max_leaf_nodes': None,\n",
       " 'max_samples': None,\n",
       " 'min_impurity_decrease': 0.0,\n",
       " 'min_samples_leaf': 1,\n",
       " 'min_samples_split': 2,\n",
       " 'min_weight_fraction_leaf': 0.0,\n",
       " 'n_estimators': 100,\n",
       " 'n_jobs': None,\n",
       " 'oob_score': False,\n",
       " 'random_state': None,\n",
       " 'verbose': 0,\n",
       " 'warm_start': False}"
      ]
     },
     "execution_count": 63,
     "metadata": {},
     "output_type": "execute_result"
    }
   ],
   "source": [
    "model.get_params()"
   ]
  },
  {
   "cell_type": "code",
   "execution_count": 64,
   "metadata": {},
   "outputs": [],
   "source": [
    "parameters = {\n",
    "    \"n_estimators\":[5,10,50,100,250],\n",
    "    \"max_depth\":[2,4,8,16,32,None]\n",
    "    }"
   ]
  },
  {
   "cell_type": "code",
   "execution_count": 65,
   "metadata": {},
   "outputs": [],
   "source": [
    "from sklearn.model_selection import GridSearchCV"
   ]
  },
  {
   "cell_type": "code",
   "execution_count": 70,
   "metadata": {},
   "outputs": [
    {
     "data": {
      "text/html": [
       "<style>#sk-container-id-3 {color: black;background-color: white;}#sk-container-id-3 pre{padding: 0;}#sk-container-id-3 div.sk-toggleable {background-color: white;}#sk-container-id-3 label.sk-toggleable__label {cursor: pointer;display: block;width: 100%;margin-bottom: 0;padding: 0.3em;box-sizing: border-box;text-align: center;}#sk-container-id-3 label.sk-toggleable__label-arrow:before {content: \"▸\";float: left;margin-right: 0.25em;color: #696969;}#sk-container-id-3 label.sk-toggleable__label-arrow:hover:before {color: black;}#sk-container-id-3 div.sk-estimator:hover label.sk-toggleable__label-arrow:before {color: black;}#sk-container-id-3 div.sk-toggleable__content {max-height: 0;max-width: 0;overflow: hidden;text-align: left;background-color: #f0f8ff;}#sk-container-id-3 div.sk-toggleable__content pre {margin: 0.2em;color: black;border-radius: 0.25em;background-color: #f0f8ff;}#sk-container-id-3 input.sk-toggleable__control:checked~div.sk-toggleable__content {max-height: 200px;max-width: 100%;overflow: auto;}#sk-container-id-3 input.sk-toggleable__control:checked~label.sk-toggleable__label-arrow:before {content: \"▾\";}#sk-container-id-3 div.sk-estimator input.sk-toggleable__control:checked~label.sk-toggleable__label {background-color: #d4ebff;}#sk-container-id-3 div.sk-label input.sk-toggleable__control:checked~label.sk-toggleable__label {background-color: #d4ebff;}#sk-container-id-3 input.sk-hidden--visually {border: 0;clip: rect(1px 1px 1px 1px);clip: rect(1px, 1px, 1px, 1px);height: 1px;margin: -1px;overflow: hidden;padding: 0;position: absolute;width: 1px;}#sk-container-id-3 div.sk-estimator {font-family: monospace;background-color: #f0f8ff;border: 1px dotted black;border-radius: 0.25em;box-sizing: border-box;margin-bottom: 0.5em;}#sk-container-id-3 div.sk-estimator:hover {background-color: #d4ebff;}#sk-container-id-3 div.sk-parallel-item::after {content: \"\";width: 100%;border-bottom: 1px solid gray;flex-grow: 1;}#sk-container-id-3 div.sk-label:hover label.sk-toggleable__label {background-color: #d4ebff;}#sk-container-id-3 div.sk-serial::before {content: \"\";position: absolute;border-left: 1px solid gray;box-sizing: border-box;top: 0;bottom: 0;left: 50%;z-index: 0;}#sk-container-id-3 div.sk-serial {display: flex;flex-direction: column;align-items: center;background-color: white;padding-right: 0.2em;padding-left: 0.2em;position: relative;}#sk-container-id-3 div.sk-item {position: relative;z-index: 1;}#sk-container-id-3 div.sk-parallel {display: flex;align-items: stretch;justify-content: center;background-color: white;position: relative;}#sk-container-id-3 div.sk-item::before, #sk-container-id-3 div.sk-parallel-item::before {content: \"\";position: absolute;border-left: 1px solid gray;box-sizing: border-box;top: 0;bottom: 0;left: 50%;z-index: -1;}#sk-container-id-3 div.sk-parallel-item {display: flex;flex-direction: column;z-index: 1;position: relative;background-color: white;}#sk-container-id-3 div.sk-parallel-item:first-child::after {align-self: flex-end;width: 50%;}#sk-container-id-3 div.sk-parallel-item:last-child::after {align-self: flex-start;width: 50%;}#sk-container-id-3 div.sk-parallel-item:only-child::after {width: 0;}#sk-container-id-3 div.sk-dashed-wrapped {border: 1px dashed gray;margin: 0 0.4em 0.5em 0.4em;box-sizing: border-box;padding-bottom: 0.4em;background-color: white;}#sk-container-id-3 div.sk-label label {font-family: monospace;font-weight: bold;display: inline-block;line-height: 1.2em;}#sk-container-id-3 div.sk-label-container {text-align: center;}#sk-container-id-3 div.sk-container {/* jupyter's `normalize.less` sets `[hidden] { display: none; }` but bootstrap.min.css set `[hidden] { display: none !important; }` so we also need the `!important` here to be able to override the default hidden behavior on the sphinx rendered scikit-learn.org. See: https://github.com/scikit-learn/scikit-learn/issues/21755 */display: inline-block !important;position: relative;}#sk-container-id-3 div.sk-text-repr-fallback {display: none;}</style><div id=\"sk-container-id-3\" class=\"sk-top-container\"><div class=\"sk-text-repr-fallback\"><pre>GridSearchCV(cv=5, estimator=RandomForestClassifier(),\n",
       "             param_grid={&#x27;max_depth&#x27;: [2, 4, 8, 16, 32, None],\n",
       "                         &#x27;n_estimators&#x27;: [5, 10, 50, 100, 250]},\n",
       "             scoring=&#x27;recall&#x27;)</pre><b>In a Jupyter environment, please rerun this cell to show the HTML representation or trust the notebook. <br />On GitHub, the HTML representation is unable to render, please try loading this page with nbviewer.org.</b></div><div class=\"sk-container\" hidden><div class=\"sk-item sk-dashed-wrapped\"><div class=\"sk-label-container\"><div class=\"sk-label sk-toggleable\"><input class=\"sk-toggleable__control sk-hidden--visually\" id=\"sk-estimator-id-5\" type=\"checkbox\" ><label for=\"sk-estimator-id-5\" class=\"sk-toggleable__label sk-toggleable__label-arrow\">GridSearchCV</label><div class=\"sk-toggleable__content\"><pre>GridSearchCV(cv=5, estimator=RandomForestClassifier(),\n",
       "             param_grid={&#x27;max_depth&#x27;: [2, 4, 8, 16, 32, None],\n",
       "                         &#x27;n_estimators&#x27;: [5, 10, 50, 100, 250]},\n",
       "             scoring=&#x27;recall&#x27;)</pre></div></div></div><div class=\"sk-parallel\"><div class=\"sk-parallel-item\"><div class=\"sk-item\"><div class=\"sk-label-container\"><div class=\"sk-label sk-toggleable\"><input class=\"sk-toggleable__control sk-hidden--visually\" id=\"sk-estimator-id-6\" type=\"checkbox\" ><label for=\"sk-estimator-id-6\" class=\"sk-toggleable__label sk-toggleable__label-arrow\">estimator: RandomForestClassifier</label><div class=\"sk-toggleable__content\"><pre>RandomForestClassifier()</pre></div></div></div><div class=\"sk-serial\"><div class=\"sk-item\"><div class=\"sk-estimator sk-toggleable\"><input class=\"sk-toggleable__control sk-hidden--visually\" id=\"sk-estimator-id-7\" type=\"checkbox\" ><label for=\"sk-estimator-id-7\" class=\"sk-toggleable__label sk-toggleable__label-arrow\">RandomForestClassifier</label><div class=\"sk-toggleable__content\"><pre>RandomForestClassifier()</pre></div></div></div></div></div></div></div></div></div></div>"
      ],
      "text/plain": [
       "GridSearchCV(cv=5, estimator=RandomForestClassifier(),\n",
       "             param_grid={'max_depth': [2, 4, 8, 16, 32, None],\n",
       "                         'n_estimators': [5, 10, 50, 100, 250]},\n",
       "             scoring='recall')"
      ]
     },
     "execution_count": 70,
     "metadata": {},
     "output_type": "execute_result"
    }
   ],
   "source": [
    "cv = GridSearchCV(model,parameters,cv=5, scoring='recall')\n",
    "cv.fit(x_val_tfi,y_val)"
   ]
  },
  {
   "cell_type": "code",
   "execution_count": 72,
   "metadata": {},
   "outputs": [
    {
     "data": {
      "text/plain": [
       "{'max_depth': 2, 'n_estimators': 5}"
      ]
     },
     "execution_count": 72,
     "metadata": {},
     "output_type": "execute_result"
    }
   ],
   "source": [
    "cv.best_params_"
   ]
  },
  {
   "cell_type": "code",
   "execution_count": 8,
   "metadata": {},
   "outputs": [],
   "source": [
    "new_model = MultinomialNB()"
   ]
  },
  {
   "cell_type": "code",
   "execution_count": 9,
   "metadata": {},
   "outputs": [
    {
     "data": {
      "text/html": [
       "<style>#sk-container-id-1 {color: black;background-color: white;}#sk-container-id-1 pre{padding: 0;}#sk-container-id-1 div.sk-toggleable {background-color: white;}#sk-container-id-1 label.sk-toggleable__label {cursor: pointer;display: block;width: 100%;margin-bottom: 0;padding: 0.3em;box-sizing: border-box;text-align: center;}#sk-container-id-1 label.sk-toggleable__label-arrow:before {content: \"▸\";float: left;margin-right: 0.25em;color: #696969;}#sk-container-id-1 label.sk-toggleable__label-arrow:hover:before {color: black;}#sk-container-id-1 div.sk-estimator:hover label.sk-toggleable__label-arrow:before {color: black;}#sk-container-id-1 div.sk-toggleable__content {max-height: 0;max-width: 0;overflow: hidden;text-align: left;background-color: #f0f8ff;}#sk-container-id-1 div.sk-toggleable__content pre {margin: 0.2em;color: black;border-radius: 0.25em;background-color: #f0f8ff;}#sk-container-id-1 input.sk-toggleable__control:checked~div.sk-toggleable__content {max-height: 200px;max-width: 100%;overflow: auto;}#sk-container-id-1 input.sk-toggleable__control:checked~label.sk-toggleable__label-arrow:before {content: \"▾\";}#sk-container-id-1 div.sk-estimator input.sk-toggleable__control:checked~label.sk-toggleable__label {background-color: #d4ebff;}#sk-container-id-1 div.sk-label input.sk-toggleable__control:checked~label.sk-toggleable__label {background-color: #d4ebff;}#sk-container-id-1 input.sk-hidden--visually {border: 0;clip: rect(1px 1px 1px 1px);clip: rect(1px, 1px, 1px, 1px);height: 1px;margin: -1px;overflow: hidden;padding: 0;position: absolute;width: 1px;}#sk-container-id-1 div.sk-estimator {font-family: monospace;background-color: #f0f8ff;border: 1px dotted black;border-radius: 0.25em;box-sizing: border-box;margin-bottom: 0.5em;}#sk-container-id-1 div.sk-estimator:hover {background-color: #d4ebff;}#sk-container-id-1 div.sk-parallel-item::after {content: \"\";width: 100%;border-bottom: 1px solid gray;flex-grow: 1;}#sk-container-id-1 div.sk-label:hover label.sk-toggleable__label {background-color: #d4ebff;}#sk-container-id-1 div.sk-serial::before {content: \"\";position: absolute;border-left: 1px solid gray;box-sizing: border-box;top: 0;bottom: 0;left: 50%;z-index: 0;}#sk-container-id-1 div.sk-serial {display: flex;flex-direction: column;align-items: center;background-color: white;padding-right: 0.2em;padding-left: 0.2em;position: relative;}#sk-container-id-1 div.sk-item {position: relative;z-index: 1;}#sk-container-id-1 div.sk-parallel {display: flex;align-items: stretch;justify-content: center;background-color: white;position: relative;}#sk-container-id-1 div.sk-item::before, #sk-container-id-1 div.sk-parallel-item::before {content: \"\";position: absolute;border-left: 1px solid gray;box-sizing: border-box;top: 0;bottom: 0;left: 50%;z-index: -1;}#sk-container-id-1 div.sk-parallel-item {display: flex;flex-direction: column;z-index: 1;position: relative;background-color: white;}#sk-container-id-1 div.sk-parallel-item:first-child::after {align-self: flex-end;width: 50%;}#sk-container-id-1 div.sk-parallel-item:last-child::after {align-self: flex-start;width: 50%;}#sk-container-id-1 div.sk-parallel-item:only-child::after {width: 0;}#sk-container-id-1 div.sk-dashed-wrapped {border: 1px dashed gray;margin: 0 0.4em 0.5em 0.4em;box-sizing: border-box;padding-bottom: 0.4em;background-color: white;}#sk-container-id-1 div.sk-label label {font-family: monospace;font-weight: bold;display: inline-block;line-height: 1.2em;}#sk-container-id-1 div.sk-label-container {text-align: center;}#sk-container-id-1 div.sk-container {/* jupyter's `normalize.less` sets `[hidden] { display: none; }` but bootstrap.min.css set `[hidden] { display: none !important; }` so we also need the `!important` here to be able to override the default hidden behavior on the sphinx rendered scikit-learn.org. See: https://github.com/scikit-learn/scikit-learn/issues/21755 */display: inline-block !important;position: relative;}#sk-container-id-1 div.sk-text-repr-fallback {display: none;}</style><div id=\"sk-container-id-1\" class=\"sk-top-container\"><div class=\"sk-text-repr-fallback\"><pre>RandomForestClassifier()</pre><b>In a Jupyter environment, please rerun this cell to show the HTML representation or trust the notebook. <br />On GitHub, the HTML representation is unable to render, please try loading this page with nbviewer.org.</b></div><div class=\"sk-container\" hidden><div class=\"sk-item\"><div class=\"sk-estimator sk-toggleable\"><input class=\"sk-toggleable__control sk-hidden--visually\" id=\"sk-estimator-id-1\" type=\"checkbox\" checked><label for=\"sk-estimator-id-1\" class=\"sk-toggleable__label sk-toggleable__label-arrow\">RandomForestClassifier</label><div class=\"sk-toggleable__content\"><pre>RandomForestClassifier()</pre></div></div></div></div></div>"
      ],
      "text/plain": [
       "RandomForestClassifier()"
      ]
     },
     "execution_count": 9,
     "metadata": {},
     "output_type": "execute_result"
    }
   ],
   "source": [
    "new_model.fit(x_train_tfi,y_train)"
   ]
  },
  {
   "cell_type": "code",
   "execution_count": 10,
   "metadata": {},
   "outputs": [],
   "source": [
    "train_pred = new_model.predict(x_train_tfi)"
   ]
  },
  {
   "cell_type": "code",
   "execution_count": 14,
   "metadata": {},
   "outputs": [],
   "source": [
    "new_test = val_data.sample(15000)\n",
    "new_test.reset_index(drop=True, inplace=True)\n",
    "x = new_test[['review_text']]\n",
    "y = new_test[['sentiment']]\n",
    "val_tfi = text_vectorizer(x['review_text'])"
   ]
  },
  {
   "cell_type": "code",
   "execution_count": 15,
   "metadata": {},
   "outputs": [],
   "source": [
    "val_pred = new_model.predict(val_tfi)"
   ]
  },
  {
   "cell_type": "code",
   "execution_count": 42,
   "metadata": {},
   "outputs": [
    {
     "name": "stdout",
     "output_type": "stream",
     "text": [
      "MultinomialNB\n",
      "\n",
      "- F1-Score: 0.5401\n",
      "- Precision: 0.6088\n",
      "- Recall: 0.6413\n",
      "---------------------------------------------\n",
      "test_performance\n",
      "- F1-Score: 0.4855\n",
      "- Precision: 0.4649\n",
      "- Recall: 0.5979\n"
     ]
    }
   ],
   "source": [
    "print(\"MultinomialNB\")\n",
    "print()\n",
    "model_train_f1 = f1_score(y_train,train_pred, average = 'weighted')\n",
    "model_train_precision = precision_score(y_train,train_pred, average = 'weighted')\n",
    "model_train_recall = recall_score(y_train,train_pred, average = 'weighted')\n",
    "\n",
    "print(\"- F1-Score: {:.4f}\".format(model_train_f1))\n",
    "print(\"- Precision: {:.4f}\".format(model_train_precision))\n",
    "print(\"- Recall: {:.4f}\".format(model_train_recall))\n",
    "print(\"---------------------------------------------\")\n",
    "\n",
    "print(\"test_performance\")\n",
    "model_val_f1 = f1_score(y,val_pred, average = 'weighted')\n",
    "model_val_precision = precision_score(y,val_pred, average = 'weighted')\n",
    "model_val_recall = recall_score(y,val_pred, average = 'weighted')\n",
    "\n",
    "print(\"- F1-Score: {:.4f}\".format(model_val_f1))\n",
    "print(\"- Precision: {:.4f}\".format(model_val_precision))\n",
    "print(\"- Recall: {:.4f}\".format(model_val_recall))\n"
   ]
  },
  {
   "cell_type": "markdown",
   "metadata": {},
   "source": [
    "#### Ada Boost"
   ]
  },
  {
   "cell_type": "code",
   "execution_count": 8,
   "metadata": {},
   "outputs": [
    {
     "data": {
      "text/plain": [
       "3000"
      ]
     },
     "execution_count": 8,
     "metadata": {},
     "output_type": "execute_result"
    }
   ],
   "source": [
    "x_train_tfi.shape[1]"
   ]
  },
  {
   "cell_type": "code",
   "execution_count": 15,
   "metadata": {},
   "outputs": [],
   "source": [
    "from sklearn.ensemble import AdaBoostClassifier\n",
    "\n",
    "\n",
    "ada_classifier = AdaBoostClassifier(DecisionTreeClassifier(max_depth=1),n_estimators= 2000)"
   ]
  },
  {
   "cell_type": "code",
   "execution_count": 16,
   "metadata": {},
   "outputs": [
    {
     "data": {
      "text/html": [
       "<style>#sk-container-id-3 {color: black;background-color: white;}#sk-container-id-3 pre{padding: 0;}#sk-container-id-3 div.sk-toggleable {background-color: white;}#sk-container-id-3 label.sk-toggleable__label {cursor: pointer;display: block;width: 100%;margin-bottom: 0;padding: 0.3em;box-sizing: border-box;text-align: center;}#sk-container-id-3 label.sk-toggleable__label-arrow:before {content: \"▸\";float: left;margin-right: 0.25em;color: #696969;}#sk-container-id-3 label.sk-toggleable__label-arrow:hover:before {color: black;}#sk-container-id-3 div.sk-estimator:hover label.sk-toggleable__label-arrow:before {color: black;}#sk-container-id-3 div.sk-toggleable__content {max-height: 0;max-width: 0;overflow: hidden;text-align: left;background-color: #f0f8ff;}#sk-container-id-3 div.sk-toggleable__content pre {margin: 0.2em;color: black;border-radius: 0.25em;background-color: #f0f8ff;}#sk-container-id-3 input.sk-toggleable__control:checked~div.sk-toggleable__content {max-height: 200px;max-width: 100%;overflow: auto;}#sk-container-id-3 input.sk-toggleable__control:checked~label.sk-toggleable__label-arrow:before {content: \"▾\";}#sk-container-id-3 div.sk-estimator input.sk-toggleable__control:checked~label.sk-toggleable__label {background-color: #d4ebff;}#sk-container-id-3 div.sk-label input.sk-toggleable__control:checked~label.sk-toggleable__label {background-color: #d4ebff;}#sk-container-id-3 input.sk-hidden--visually {border: 0;clip: rect(1px 1px 1px 1px);clip: rect(1px, 1px, 1px, 1px);height: 1px;margin: -1px;overflow: hidden;padding: 0;position: absolute;width: 1px;}#sk-container-id-3 div.sk-estimator {font-family: monospace;background-color: #f0f8ff;border: 1px dotted black;border-radius: 0.25em;box-sizing: border-box;margin-bottom: 0.5em;}#sk-container-id-3 div.sk-estimator:hover {background-color: #d4ebff;}#sk-container-id-3 div.sk-parallel-item::after {content: \"\";width: 100%;border-bottom: 1px solid gray;flex-grow: 1;}#sk-container-id-3 div.sk-label:hover label.sk-toggleable__label {background-color: #d4ebff;}#sk-container-id-3 div.sk-serial::before {content: \"\";position: absolute;border-left: 1px solid gray;box-sizing: border-box;top: 0;bottom: 0;left: 50%;z-index: 0;}#sk-container-id-3 div.sk-serial {display: flex;flex-direction: column;align-items: center;background-color: white;padding-right: 0.2em;padding-left: 0.2em;position: relative;}#sk-container-id-3 div.sk-item {position: relative;z-index: 1;}#sk-container-id-3 div.sk-parallel {display: flex;align-items: stretch;justify-content: center;background-color: white;position: relative;}#sk-container-id-3 div.sk-item::before, #sk-container-id-3 div.sk-parallel-item::before {content: \"\";position: absolute;border-left: 1px solid gray;box-sizing: border-box;top: 0;bottom: 0;left: 50%;z-index: -1;}#sk-container-id-3 div.sk-parallel-item {display: flex;flex-direction: column;z-index: 1;position: relative;background-color: white;}#sk-container-id-3 div.sk-parallel-item:first-child::after {align-self: flex-end;width: 50%;}#sk-container-id-3 div.sk-parallel-item:last-child::after {align-self: flex-start;width: 50%;}#sk-container-id-3 div.sk-parallel-item:only-child::after {width: 0;}#sk-container-id-3 div.sk-dashed-wrapped {border: 1px dashed gray;margin: 0 0.4em 0.5em 0.4em;box-sizing: border-box;padding-bottom: 0.4em;background-color: white;}#sk-container-id-3 div.sk-label label {font-family: monospace;font-weight: bold;display: inline-block;line-height: 1.2em;}#sk-container-id-3 div.sk-label-container {text-align: center;}#sk-container-id-3 div.sk-container {/* jupyter's `normalize.less` sets `[hidden] { display: none; }` but bootstrap.min.css set `[hidden] { display: none !important; }` so we also need the `!important` here to be able to override the default hidden behavior on the sphinx rendered scikit-learn.org. See: https://github.com/scikit-learn/scikit-learn/issues/21755 */display: inline-block !important;position: relative;}#sk-container-id-3 div.sk-text-repr-fallback {display: none;}</style><div id=\"sk-container-id-3\" class=\"sk-top-container\"><div class=\"sk-text-repr-fallback\"><pre>AdaBoostClassifier(base_estimator=DecisionTreeClassifier(max_depth=1),\n",
       "                   n_estimators=2000)</pre><b>In a Jupyter environment, please rerun this cell to show the HTML representation or trust the notebook. <br />On GitHub, the HTML representation is unable to render, please try loading this page with nbviewer.org.</b></div><div class=\"sk-container\" hidden><div class=\"sk-item sk-dashed-wrapped\"><div class=\"sk-label-container\"><div class=\"sk-label sk-toggleable\"><input class=\"sk-toggleable__control sk-hidden--visually\" id=\"sk-estimator-id-7\" type=\"checkbox\" ><label for=\"sk-estimator-id-7\" class=\"sk-toggleable__label sk-toggleable__label-arrow\">AdaBoostClassifier</label><div class=\"sk-toggleable__content\"><pre>AdaBoostClassifier(base_estimator=DecisionTreeClassifier(max_depth=1),\n",
       "                   n_estimators=2000)</pre></div></div></div><div class=\"sk-parallel\"><div class=\"sk-parallel-item\"><div class=\"sk-item\"><div class=\"sk-label-container\"><div class=\"sk-label sk-toggleable\"><input class=\"sk-toggleable__control sk-hidden--visually\" id=\"sk-estimator-id-8\" type=\"checkbox\" ><label for=\"sk-estimator-id-8\" class=\"sk-toggleable__label sk-toggleable__label-arrow\">base_estimator: DecisionTreeClassifier</label><div class=\"sk-toggleable__content\"><pre>DecisionTreeClassifier(max_depth=1)</pre></div></div></div><div class=\"sk-serial\"><div class=\"sk-item\"><div class=\"sk-estimator sk-toggleable\"><input class=\"sk-toggleable__control sk-hidden--visually\" id=\"sk-estimator-id-9\" type=\"checkbox\" ><label for=\"sk-estimator-id-9\" class=\"sk-toggleable__label sk-toggleable__label-arrow\">DecisionTreeClassifier</label><div class=\"sk-toggleable__content\"><pre>DecisionTreeClassifier(max_depth=1)</pre></div></div></div></div></div></div></div></div></div></div>"
      ],
      "text/plain": [
       "AdaBoostClassifier(base_estimator=DecisionTreeClassifier(max_depth=1),\n",
       "                   n_estimators=2000)"
      ]
     },
     "execution_count": 16,
     "metadata": {},
     "output_type": "execute_result"
    }
   ],
   "source": [
    "ada_classifier.fit(x_train_tfi,y_train)"
   ]
  },
  {
   "cell_type": "code",
   "execution_count": 18,
   "metadata": {},
   "outputs": [],
   "source": [
    "import pickle\n",
    "with open(r\"C:\\Users\\91959\\Amazon_reviews_sentiment_analysis\\Artifacts\\ada_boost.pickle\",'wb') as f: pickle.dump(ada_classifier,f)"
   ]
  },
  {
   "cell_type": "code",
   "execution_count": 11,
   "metadata": {},
   "outputs": [
    {
     "name": "stdout",
     "output_type": "stream",
     "text": [
      " ADA Boost\n",
      "\n",
      "- F1-Score: 0.4878\n",
      "- Precision: 0.5009\n",
      "- Recall: 0.6263\n",
      "-----------------------------------------\n",
      "test_performance\n",
      "- F1-Score: 0.4758\n",
      "- Precision: 0.4033\n",
      "- Recall: 0.6200\n"
     ]
    }
   ],
   "source": [
    "train_pred = ada_classifier.predict(x_train_tfi)\n",
    "\n",
    "new_test = val_data.sample(15000)\n",
    "new_test.reset_index(drop=True, inplace=True)\n",
    "x = new_test[['review_text']]\n",
    "y = new_test[['sentiment']]\n",
    "val_tfi = text_vectorizer(x['review_text'])\n",
    "\n",
    "val_pred = ada_classifier.predict(val_tfi)\n",
    "\n",
    "print(\" ADA Boost\")\n",
    "print()\n",
    "model_train_f1 = f1_score(y_train,train_pred, average = 'weighted')\n",
    "model_train_precision = precision_score(y_train,train_pred, average = 'weighted')\n",
    "model_train_recall = recall_score(y_train,train_pred, average = 'weighted')\n",
    "\n",
    "print(\"- F1-Score: {:.4f}\".format(model_train_f1))\n",
    "print(\"- Precision: {:.4f}\".format(model_train_precision))\n",
    "print(\"- Recall: {:.4f}\".format(model_train_recall))\n",
    "\n",
    "print(\"-----------------------------------------\")\n",
    "\n",
    "print(\"test_performance\")\n",
    "model_val_f1 = f1_score(y,val_pred, average = 'weighted')\n",
    "model_val_precision = precision_score(y,val_pred, average = 'weighted')\n",
    "model_val_recall = recall_score(y,val_pred, average = 'weighted')\n",
    "\n",
    "print(\"- F1-Score: {:.4f}\".format(model_val_f1))\n",
    "print(\"- Precision: {:.4f}\".format(model_val_precision))\n",
    "print(\"- Recall: {:.4f}\".format(model_val_recall))"
   ]
  },
  {
   "cell_type": "code",
   "execution_count": 24,
   "metadata": {},
   "outputs": [
    {
     "name": "stdout",
     "output_type": "stream",
     "text": [
      " ADA Boost\n",
      "\n",
      "- F1-Score: 0.5469\n",
      "- Precision: 0.6098\n",
      "- Recall: 0.6429\n",
      "-----------------------------------------\n",
      "test_performance\n",
      "- F1-Score: 0.4794\n",
      "- Precision: 0.4478\n",
      "- Recall: 0.5845\n"
     ]
    }
   ],
   "source": [
    "train_pred = ada_classifier.predict(x_train_tfi)\n",
    "\n",
    "new_test = val_data.sample(15000)\n",
    "new_test.reset_index(drop=True, inplace=True)\n",
    "x = new_test[['review_text']]\n",
    "y = new_test[['sentiment']]\n",
    "val_tfi = text_vectorizer(x['review_text'])\n",
    "\n",
    "val_pred = ada_classifier.predict(val_tfi)\n",
    "\n",
    "print(\"ADA Boost\")\n",
    "print()\n",
    "model_train_f1 = f1_score(y_train,train_pred, average = 'weighted')\n",
    "model_train_precision = precision_score(y_train,train_pred, average = 'weighted')\n",
    "model_train_recall = recall_score(y_train,train_pred, average = 'weighted')\n",
    "\n",
    "print(\"- F1-Score: {:.4f}\".format(model_train_f1))\n",
    "print(\"- Precision: {:.4f}\".format(model_train_precision))\n",
    "print(\"- Recall: {:.4f}\".format(model_train_recall))\n",
    "\n",
    "print(\"------------------------------------\")\n",
    "\n",
    "print(\"test_performance\")\n",
    "model_val_f1 = f1_score(y,val_pred, average = 'weighted')\n",
    "model_val_precision = precision_score(y,val_pred, average = 'weighted')\n",
    "model_val_recall = recall_score(y,val_pred, average = 'weighted')\n",
    "\n",
    "print(\"- F1-Score: {:.4f}\".format(model_val_f1))\n",
    "print(\"- Precision: {:.4f}\".format(model_val_precision))\n",
    "print(\"- Recall: {:.4f}\".format(model_val_recall))"
   ]
  },
  {
   "cell_type": "markdown",
   "metadata": {},
   "source": [
    "#### Random Forest"
   ]
  },
  {
   "cell_type": "code",
   "execution_count": 27,
   "metadata": {},
   "outputs": [],
   "source": [
    "Random_forest_model = RandomForestClassifier()\n",
    "Random_forest_model.fit(x_train_tfi,y_train)\n",
    "train_pred = Random_forest_model.predict(x_train_tfi)\n",
    "\n",
    "new_test = val_data\n",
    "#new_test.reset_index(drop=True, inplace=True)\n",
    "x = new_test[['review_text']]\n",
    "y = new_test[['sentiment']]\n",
    "val_tfi = text_vectorizer(x['review_text'])\n",
    "\n",
    "val_pred = Random_forest_model.predict(val_tfi)"
   ]
  },
  {
   "cell_type": "code",
   "execution_count": 28,
   "metadata": {},
   "outputs": [
    {
     "name": "stdout",
     "output_type": "stream",
     "text": [
      "Random Forest\n",
      "\n",
      "- F1-Score: 0.6193\n",
      "- Precision: 0.7267\n",
      "- Recall: 0.6881\n",
      "---------------------------------------------\n",
      "test_performance\n",
      "- F1-Score: 0.4866\n",
      "- Precision: 0.4632\n",
      "- Recall: 0.5877\n"
     ]
    }
   ],
   "source": [
    "print(\"Random Forest\")\n",
    "print()\n",
    "model_train_f1 = f1_score(y_train,train_pred, average = 'weighted')\n",
    "model_train_precision = precision_score(y_train,train_pred, average = 'weighted')\n",
    "model_train_recall = recall_score(y_train,train_pred, average = 'weighted')\n",
    "\n",
    "print(\"- F1-Score: {:.4f}\".format(model_train_f1))\n",
    "print(\"- Precision: {:.4f}\".format(model_train_precision))\n",
    "print(\"- Recall: {:.4f}\".format(model_train_recall))\n",
    "print(\"---------------------------------------------\")\n",
    "\n",
    "print(\"test_performance\")\n",
    "model_val_f1 = f1_score(y,val_pred, average = 'weighted')\n",
    "model_val_precision = precision_score(y,val_pred, average = 'weighted')\n",
    "model_val_recall = recall_score(y,val_pred, average = 'weighted')\n",
    "\n",
    "print(\"- F1-Score: {:.4f}\".format(model_val_f1))\n",
    "print(\"- Precision: {:.4f}\".format(model_val_precision))\n",
    "print(\"- Recall: {:.4f}\".format(model_val_recall))"
   ]
  },
  {
   "cell_type": "markdown",
   "metadata": {},
   "source": [
    "###  Based on the Observation we can find that random forest algorithm gives better results than comparing to the other alogirthms. "
   ]
  }
 ],
 "metadata": {
  "kernelspec": {
   "display_name": "Python 3.8.13 ('nlp')",
   "language": "python",
   "name": "python3"
  },
  "language_info": {
   "codemirror_mode": {
    "name": "ipython",
    "version": 3
   },
   "file_extension": ".py",
   "mimetype": "text/x-python",
   "name": "python",
   "nbconvert_exporter": "python",
   "pygments_lexer": "ipython3",
   "version": "3.8.13"
  },
  "orig_nbformat": 4,
  "vscode": {
   "interpreter": {
    "hash": "167fbed2e9db86ec45f2c0c52c06412a2bfa5b9c8de88bf028de3418f77ff95a"
   }
  }
 },
 "nbformat": 4,
 "nbformat_minor": 2
}
